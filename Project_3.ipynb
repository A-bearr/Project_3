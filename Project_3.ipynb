{
 "cells": [
  {
   "cell_type": "code",
   "execution_count": 1,
   "metadata": {},
   "outputs": [],
   "source": [
    "import pandas as pd\n",
    "import matplotlib.pyplot as plt\n",
    "import plotly.express as px\n",
    "import plotly.graph_objects as go"
   ]
  },
  {
   "cell_type": "code",
   "execution_count": 2,
   "metadata": {},
   "outputs": [],
   "source": [
    "revenue_df = pd.read_csv(\"Resources/Companies_ranked_by_Revenue.csv\")\n",
    "earnings_df = pd.read_csv(\"Resources/Companies_ranked_by_Earnings.csv\")\n",
    "marketcap_df = pd.read_csv(\"Resources/Companies_ranked_by_Market_Cap.csv\")"
   ]
  },
  {
   "cell_type": "code",
   "execution_count": 3,
   "metadata": {},
   "outputs": [
    {
     "data": {
      "text/html": [
       "<div>\n",
       "<style scoped>\n",
       "    .dataframe tbody tr th:only-of-type {\n",
       "        vertical-align: middle;\n",
       "    }\n",
       "\n",
       "    .dataframe tbody tr th {\n",
       "        vertical-align: top;\n",
       "    }\n",
       "\n",
       "    .dataframe thead th {\n",
       "        text-align: right;\n",
       "    }\n",
       "</style>\n",
       "<table border=\"1\" class=\"dataframe\">\n",
       "  <thead>\n",
       "    <tr style=\"text-align: right;\">\n",
       "      <th></th>\n",
       "      <th>Rank</th>\n",
       "      <th>Name</th>\n",
       "      <th>Symbol</th>\n",
       "      <th>revenue_ttm</th>\n",
       "      <th>price (GBP)</th>\n",
       "      <th>country</th>\n",
       "    </tr>\n",
       "  </thead>\n",
       "  <tbody>\n",
       "    <tr>\n",
       "      <th>0</th>\n",
       "      <td>1</td>\n",
       "      <td>Walmart</td>\n",
       "      <td>WMT</td>\n",
       "      <td>665035000000</td>\n",
       "      <td>61.029186</td>\n",
       "      <td>United States</td>\n",
       "    </tr>\n",
       "    <tr>\n",
       "      <th>1</th>\n",
       "      <td>2</td>\n",
       "      <td>Amazon</td>\n",
       "      <td>AMZN</td>\n",
       "      <td>604334000000</td>\n",
       "      <td>143.454209</td>\n",
       "      <td>United States</td>\n",
       "    </tr>\n",
       "    <tr>\n",
       "      <th>2</th>\n",
       "      <td>3</td>\n",
       "      <td>Saudi Aramco</td>\n",
       "      <td>2222.SR</td>\n",
       "      <td>495354806850</td>\n",
       "      <td>5.505405</td>\n",
       "      <td>Saudi Arabia</td>\n",
       "    </tr>\n",
       "    <tr>\n",
       "      <th>3</th>\n",
       "      <td>4</td>\n",
       "      <td>Sinopec</td>\n",
       "      <td>600028.SS</td>\n",
       "      <td>435696880608</td>\n",
       "      <td>0.748295</td>\n",
       "      <td>China</td>\n",
       "    </tr>\n",
       "    <tr>\n",
       "      <th>4</th>\n",
       "      <td>5</td>\n",
       "      <td>PetroChina</td>\n",
       "      <td>601857.SS</td>\n",
       "      <td>429671599508</td>\n",
       "      <td>0.969769</td>\n",
       "      <td>China</td>\n",
       "    </tr>\n",
       "  </tbody>\n",
       "</table>\n",
       "</div>"
      ],
      "text/plain": [
       "   Rank          Name     Symbol   revenue_ttm  price (GBP)        country\n",
       "0     1       Walmart        WMT  665035000000    61.029186  United States\n",
       "1     2        Amazon       AMZN  604334000000   143.454209  United States\n",
       "2     3  Saudi Aramco    2222.SR  495354806850     5.505405   Saudi Arabia\n",
       "3     4       Sinopec  600028.SS  435696880608     0.748295          China\n",
       "4     5    PetroChina  601857.SS  429671599508     0.969769          China"
      ]
     },
     "execution_count": 3,
     "metadata": {},
     "output_type": "execute_result"
    }
   ],
   "source": [
    "revenue_df.head()"
   ]
  },
  {
   "cell_type": "code",
   "execution_count": 4,
   "metadata": {},
   "outputs": [
    {
     "data": {
      "text/html": [
       "<div>\n",
       "<style scoped>\n",
       "    .dataframe tbody tr th:only-of-type {\n",
       "        vertical-align: middle;\n",
       "    }\n",
       "\n",
       "    .dataframe tbody tr th {\n",
       "        vertical-align: top;\n",
       "    }\n",
       "\n",
       "    .dataframe thead th {\n",
       "        text-align: right;\n",
       "    }\n",
       "</style>\n",
       "<table border=\"1\" class=\"dataframe\">\n",
       "  <thead>\n",
       "    <tr style=\"text-align: right;\">\n",
       "      <th></th>\n",
       "      <th>Rank</th>\n",
       "      <th>Name</th>\n",
       "      <th>Symbol</th>\n",
       "      <th>earnings_ttm</th>\n",
       "      <th>price (GBP)</th>\n",
       "      <th>country</th>\n",
       "    </tr>\n",
       "  </thead>\n",
       "  <tbody>\n",
       "    <tr>\n",
       "      <th>0</th>\n",
       "      <td>1</td>\n",
       "      <td>Saudi Aramco</td>\n",
       "      <td>2222.SR</td>\n",
       "      <td>2.283780e+11</td>\n",
       "      <td>5.505405</td>\n",
       "      <td>Saudi Arabia</td>\n",
       "    </tr>\n",
       "    <tr>\n",
       "      <th>1</th>\n",
       "      <td>2</td>\n",
       "      <td>Apple</td>\n",
       "      <td>AAPL</td>\n",
       "      <td>1.216250e+11</td>\n",
       "      <td>176.734336</td>\n",
       "      <td>United States</td>\n",
       "    </tr>\n",
       "    <tr>\n",
       "      <th>2</th>\n",
       "      <td>3</td>\n",
       "      <td>Microsoft</td>\n",
       "      <td>MSFT</td>\n",
       "      <td>1.077870e+11</td>\n",
       "      <td>326.461762</td>\n",
       "      <td>United States</td>\n",
       "    </tr>\n",
       "    <tr>\n",
       "      <th>3</th>\n",
       "      <td>4</td>\n",
       "      <td>Alphabet (Google)</td>\n",
       "      <td>GOOG</td>\n",
       "      <td>1.018210e+11</td>\n",
       "      <td>126.279631</td>\n",
       "      <td>United States</td>\n",
       "    </tr>\n",
       "    <tr>\n",
       "      <th>4</th>\n",
       "      <td>5</td>\n",
       "      <td>Berkshire Hathaway</td>\n",
       "      <td>BRK-B</td>\n",
       "      <td>8.890400e+10</td>\n",
       "      <td>347.625201</td>\n",
       "      <td>United States</td>\n",
       "    </tr>\n",
       "  </tbody>\n",
       "</table>\n",
       "</div>"
      ],
      "text/plain": [
       "   Rank                Name   Symbol  earnings_ttm  price (GBP)        country\n",
       "0     1        Saudi Aramco  2222.SR  2.283780e+11     5.505405   Saudi Arabia\n",
       "1     2               Apple     AAPL  1.216250e+11   176.734336  United States\n",
       "2     3           Microsoft     MSFT  1.077870e+11   326.461762  United States\n",
       "3     4   Alphabet (Google)     GOOG  1.018210e+11   126.279631  United States\n",
       "4     5  Berkshire Hathaway    BRK-B  8.890400e+10   347.625201  United States"
      ]
     },
     "execution_count": 4,
     "metadata": {},
     "output_type": "execute_result"
    }
   ],
   "source": [
    "earnings_df.head()"
   ]
  },
  {
   "cell_type": "code",
   "execution_count": 5,
   "metadata": {},
   "outputs": [
    {
     "data": {
      "text/html": [
       "<div>\n",
       "<style scoped>\n",
       "    .dataframe tbody tr th:only-of-type {\n",
       "        vertical-align: middle;\n",
       "    }\n",
       "\n",
       "    .dataframe tbody tr th {\n",
       "        vertical-align: top;\n",
       "    }\n",
       "\n",
       "    .dataframe thead th {\n",
       "        text-align: right;\n",
       "    }\n",
       "</style>\n",
       "<table border=\"1\" class=\"dataframe\">\n",
       "  <thead>\n",
       "    <tr style=\"text-align: right;\">\n",
       "      <th></th>\n",
       "      <th>Rank</th>\n",
       "      <th>Name</th>\n",
       "      <th>Symbol</th>\n",
       "      <th>marketcap</th>\n",
       "      <th>price (GBP)</th>\n",
       "      <th>country</th>\n",
       "    </tr>\n",
       "  </thead>\n",
       "  <tbody>\n",
       "    <tr>\n",
       "      <th>0</th>\n",
       "      <td>1</td>\n",
       "      <td>Apple</td>\n",
       "      <td>AAPL</td>\n",
       "      <td>2.689903e+12</td>\n",
       "      <td>176.919492</td>\n",
       "      <td>United States</td>\n",
       "    </tr>\n",
       "    <tr>\n",
       "      <th>1</th>\n",
       "      <td>2</td>\n",
       "      <td>Microsoft</td>\n",
       "      <td>MSFT</td>\n",
       "      <td>2.427170e+12</td>\n",
       "      <td>326.537958</td>\n",
       "      <td>United States</td>\n",
       "    </tr>\n",
       "    <tr>\n",
       "      <th>2</th>\n",
       "      <td>3</td>\n",
       "      <td>NVIDIA</td>\n",
       "      <td>NVDA</td>\n",
       "      <td>2.259353e+12</td>\n",
       "      <td>92.105725</td>\n",
       "      <td>United States</td>\n",
       "    </tr>\n",
       "    <tr>\n",
       "      <th>3</th>\n",
       "      <td>4</td>\n",
       "      <td>Alphabet (Google)</td>\n",
       "      <td>GOOG</td>\n",
       "      <td>1.549815e+12</td>\n",
       "      <td>126.458691</td>\n",
       "      <td>United States</td>\n",
       "    </tr>\n",
       "    <tr>\n",
       "      <th>4</th>\n",
       "      <td>5</td>\n",
       "      <td>Amazon</td>\n",
       "      <td>AMZN</td>\n",
       "      <td>1.506038e+12</td>\n",
       "      <td>143.492307</td>\n",
       "      <td>United States</td>\n",
       "    </tr>\n",
       "  </tbody>\n",
       "</table>\n",
       "</div>"
      ],
      "text/plain": [
       "   Rank               Name Symbol     marketcap  price (GBP)        country\n",
       "0     1              Apple   AAPL  2.689903e+12   176.919492  United States\n",
       "1     2          Microsoft   MSFT  2.427170e+12   326.537958  United States\n",
       "2     3             NVIDIA   NVDA  2.259353e+12    92.105725  United States\n",
       "3     4  Alphabet (Google)   GOOG  1.549815e+12   126.458691  United States\n",
       "4     5             Amazon   AMZN  1.506038e+12   143.492307  United States"
      ]
     },
     "execution_count": 5,
     "metadata": {},
     "output_type": "execute_result"
    }
   ],
   "source": [
    "marketcap_df.head()"
   ]
  },
  {
   "cell_type": "code",
   "execution_count": 6,
   "metadata": {},
   "outputs": [],
   "source": [
    "revenue_df = revenue_df.rename(columns={\n",
    "    \"revenue_ttm\": \"Revenue\",\n",
    "    \"price (GBP)\": \"Price_GBP\"\n",
    "})"
   ]
  },
  {
   "cell_type": "code",
   "execution_count": 7,
   "metadata": {},
   "outputs": [],
   "source": [
    "earnings_df = earnings_df.rename(columns={\n",
    "    \"earnings_ttm\": \"Earnings\",\n",
    "    \"price (GBP)\": \"Price_GBP\"\n",
    "})"
   ]
  },
  {
   "cell_type": "code",
   "execution_count": 8,
   "metadata": {},
   "outputs": [],
   "source": [
    "marketcap_df = marketcap_df.rename(columns={\n",
    "    \"marketcap\": \"Market_Cap\",\n",
    "    \"price (GBP)\": \"Price_GBP\"\n",
    "})\n",
    "\n",
    "def clean_data(df):\n",
    "    country_replacements = {\n",
    "        \"USA\": \"United States\",\n",
    "        \"UK\": \"United Kingdom\",\n",
    "        \"UAE\": \"United Arab Emirates\",\n",
    "        \"Korea, South\": \"South Korea\",\n",
    "        \"Russian Federation\": \"Russia\",\n",
    "        \"Iran (Islamic Republic of)\": \"Iran\"\n",
    "    }\n",
    "\n",
    "    num_cols = [\n",
    "        \"Gold\", \"Silver\", \"Bronze\", \"Total\",\n",
    "        \"Avg_Revenue\", \"Avg_Earnings\", \"Avg_MarketCap\", \"Financial_Power_Score\", \"Companies\"\n",
    "    ]\n",
    "\n",
    "    df[\"Country\"] = df[\"Country\"].replace(country_replacements).str.strip().str.title()\n",
    "    df.fillna(0, inplace=True)\n",
    "\n",
    "    for col in num_cols:\n",
    "        if col in df.columns:\n",
    "            df[col] = pd.to_numeric(df[col], errors=\"coerce\").fillna(0)\n",
    "\n",
    "    # Group by Country and aggregate\n",
    "    df = df.groupby(\"Country\", as_index=False).agg({\n",
    "        col: \"sum\" if col in [\"Gold\", \"Silver\", \"Bronze\", \"Total\", \"Companies\"] else \"mean\"\n",
    "        for col in num_cols\n",
    "    })\n",
    "\n",
    "    return df\n"
   ]
  },
  {
   "cell_type": "code",
   "execution_count": 9,
   "metadata": {},
   "outputs": [],
   "source": [
    "merged_df = earnings_df.merge(marketcap_df, on='Name', suffixes=('_earnings', '_marketcap'))\n",
    "merged_df = merged_df.merge(revenue_df, on='Name')"
   ]
  },
  {
   "cell_type": "code",
   "execution_count": 10,
   "metadata": {},
   "outputs": [
    {
     "data": {
      "text/html": [
       "<div>\n",
       "<style scoped>\n",
       "    .dataframe tbody tr th:only-of-type {\n",
       "        vertical-align: middle;\n",
       "    }\n",
       "\n",
       "    .dataframe tbody tr th {\n",
       "        vertical-align: top;\n",
       "    }\n",
       "\n",
       "    .dataframe thead th {\n",
       "        text-align: right;\n",
       "    }\n",
       "</style>\n",
       "<table border=\"1\" class=\"dataframe\">\n",
       "  <thead>\n",
       "    <tr style=\"text-align: right;\">\n",
       "      <th></th>\n",
       "      <th>Rank_earnings</th>\n",
       "      <th>Name</th>\n",
       "      <th>Symbol_earnings</th>\n",
       "      <th>Earnings</th>\n",
       "      <th>Price_GBP_earnings</th>\n",
       "      <th>country_earnings</th>\n",
       "      <th>Rank_marketcap</th>\n",
       "      <th>Symbol_marketcap</th>\n",
       "      <th>Market_Cap</th>\n",
       "      <th>Price_GBP_marketcap</th>\n",
       "      <th>country_marketcap</th>\n",
       "      <th>Rank</th>\n",
       "      <th>Symbol</th>\n",
       "      <th>Revenue</th>\n",
       "      <th>Price_GBP</th>\n",
       "      <th>country</th>\n",
       "    </tr>\n",
       "  </thead>\n",
       "  <tbody>\n",
       "    <tr>\n",
       "      <th>0</th>\n",
       "      <td>1</td>\n",
       "      <td>Saudi Aramco</td>\n",
       "      <td>2222.SR</td>\n",
       "      <td>2.283780e+11</td>\n",
       "      <td>5.505405</td>\n",
       "      <td>Saudi Arabia</td>\n",
       "      <td>6</td>\n",
       "      <td>2222.SR</td>\n",
       "      <td>1.348543e+12</td>\n",
       "      <td>5.505405</td>\n",
       "      <td>Saudi Arabia</td>\n",
       "      <td>3</td>\n",
       "      <td>2222.SR</td>\n",
       "      <td>495354806850</td>\n",
       "      <td>5.505405</td>\n",
       "      <td>Saudi Arabia</td>\n",
       "    </tr>\n",
       "    <tr>\n",
       "      <th>1</th>\n",
       "      <td>2</td>\n",
       "      <td>Apple</td>\n",
       "      <td>AAPL</td>\n",
       "      <td>1.216250e+11</td>\n",
       "      <td>176.734336</td>\n",
       "      <td>United States</td>\n",
       "      <td>1</td>\n",
       "      <td>AAPL</td>\n",
       "      <td>2.689903e+12</td>\n",
       "      <td>176.919492</td>\n",
       "      <td>United States</td>\n",
       "      <td>7</td>\n",
       "      <td>AAPL</td>\n",
       "      <td>385603000000</td>\n",
       "      <td>176.706906</td>\n",
       "      <td>United States</td>\n",
       "    </tr>\n",
       "    <tr>\n",
       "      <th>2</th>\n",
       "      <td>3</td>\n",
       "      <td>Microsoft</td>\n",
       "      <td>MSFT</td>\n",
       "      <td>1.077870e+11</td>\n",
       "      <td>326.461762</td>\n",
       "      <td>United States</td>\n",
       "      <td>2</td>\n",
       "      <td>MSFT</td>\n",
       "      <td>2.427170e+12</td>\n",
       "      <td>326.537958</td>\n",
       "      <td>United States</td>\n",
       "      <td>21</td>\n",
       "      <td>MSFT</td>\n",
       "      <td>245122000000</td>\n",
       "      <td>326.316990</td>\n",
       "      <td>United States</td>\n",
       "    </tr>\n",
       "    <tr>\n",
       "      <th>3</th>\n",
       "      <td>4</td>\n",
       "      <td>Alphabet (Google)</td>\n",
       "      <td>GOOG</td>\n",
       "      <td>1.018210e+11</td>\n",
       "      <td>126.279631</td>\n",
       "      <td>United States</td>\n",
       "      <td>4</td>\n",
       "      <td>GOOG</td>\n",
       "      <td>1.549815e+12</td>\n",
       "      <td>126.458691</td>\n",
       "      <td>United States</td>\n",
       "      <td>12</td>\n",
       "      <td>GOOG</td>\n",
       "      <td>328284000000</td>\n",
       "      <td>126.252962</td>\n",
       "      <td>United States</td>\n",
       "    </tr>\n",
       "    <tr>\n",
       "      <th>4</th>\n",
       "      <td>5</td>\n",
       "      <td>Berkshire Hathaway</td>\n",
       "      <td>BRK-B</td>\n",
       "      <td>8.890400e+10</td>\n",
       "      <td>347.625201</td>\n",
       "      <td>United States</td>\n",
       "      <td>8</td>\n",
       "      <td>BRK-B</td>\n",
       "      <td>7.492296e+11</td>\n",
       "      <td>347.667109</td>\n",
       "      <td>United States</td>\n",
       "      <td>6</td>\n",
       "      <td>BRK-B</td>\n",
       "      <td>402877000000</td>\n",
       "      <td>347.537576</td>\n",
       "      <td>United States</td>\n",
       "    </tr>\n",
       "  </tbody>\n",
       "</table>\n",
       "</div>"
      ],
      "text/plain": [
       "   Rank_earnings                Name Symbol_earnings      Earnings  \\\n",
       "0              1        Saudi Aramco         2222.SR  2.283780e+11   \n",
       "1              2               Apple            AAPL  1.216250e+11   \n",
       "2              3           Microsoft            MSFT  1.077870e+11   \n",
       "3              4   Alphabet (Google)            GOOG  1.018210e+11   \n",
       "4              5  Berkshire Hathaway           BRK-B  8.890400e+10   \n",
       "\n",
       "   Price_GBP_earnings country_earnings  Rank_marketcap Symbol_marketcap  \\\n",
       "0            5.505405     Saudi Arabia               6          2222.SR   \n",
       "1          176.734336    United States               1             AAPL   \n",
       "2          326.461762    United States               2             MSFT   \n",
       "3          126.279631    United States               4             GOOG   \n",
       "4          347.625201    United States               8            BRK-B   \n",
       "\n",
       "     Market_Cap  Price_GBP_marketcap country_marketcap  Rank   Symbol  \\\n",
       "0  1.348543e+12             5.505405      Saudi Arabia     3  2222.SR   \n",
       "1  2.689903e+12           176.919492     United States     7     AAPL   \n",
       "2  2.427170e+12           326.537958     United States    21     MSFT   \n",
       "3  1.549815e+12           126.458691     United States    12     GOOG   \n",
       "4  7.492296e+11           347.667109     United States     6    BRK-B   \n",
       "\n",
       "        Revenue   Price_GBP        country  \n",
       "0  495354806850    5.505405   Saudi Arabia  \n",
       "1  385603000000  176.706906  United States  \n",
       "2  245122000000  326.316990  United States  \n",
       "3  328284000000  126.252962  United States  \n",
       "4  402877000000  347.537576  United States  "
      ]
     },
     "execution_count": 10,
     "metadata": {},
     "output_type": "execute_result"
    }
   ],
   "source": [
    "merged_df.head()"
   ]
  },
  {
   "cell_type": "code",
   "execution_count": 11,
   "metadata": {},
   "outputs": [
    {
     "data": {
      "text/html": [
       "<div>\n",
       "<style scoped>\n",
       "    .dataframe tbody tr th:only-of-type {\n",
       "        vertical-align: middle;\n",
       "    }\n",
       "\n",
       "    .dataframe tbody tr th {\n",
       "        vertical-align: top;\n",
       "    }\n",
       "\n",
       "    .dataframe thead th {\n",
       "        text-align: right;\n",
       "    }\n",
       "</style>\n",
       "<table border=\"1\" class=\"dataframe\">\n",
       "  <thead>\n",
       "    <tr style=\"text-align: right;\">\n",
       "      <th></th>\n",
       "      <th>Name</th>\n",
       "      <th>Symbol</th>\n",
       "      <th>Symbol</th>\n",
       "      <th>Country</th>\n",
       "      <th>Earnings</th>\n",
       "      <th>Market_Cap</th>\n",
       "      <th>Revenue</th>\n",
       "    </tr>\n",
       "  </thead>\n",
       "  <tbody>\n",
       "    <tr>\n",
       "      <th>0</th>\n",
       "      <td>Saudi Aramco</td>\n",
       "      <td>2222.SR</td>\n",
       "      <td>2222.SR</td>\n",
       "      <td>Saudi Arabia</td>\n",
       "      <td>2.283780e+11</td>\n",
       "      <td>1.348543e+12</td>\n",
       "      <td>495354806850</td>\n",
       "    </tr>\n",
       "    <tr>\n",
       "      <th>1</th>\n",
       "      <td>Apple</td>\n",
       "      <td>AAPL</td>\n",
       "      <td>AAPL</td>\n",
       "      <td>United States</td>\n",
       "      <td>1.216250e+11</td>\n",
       "      <td>2.689903e+12</td>\n",
       "      <td>385603000000</td>\n",
       "    </tr>\n",
       "    <tr>\n",
       "      <th>2</th>\n",
       "      <td>Microsoft</td>\n",
       "      <td>MSFT</td>\n",
       "      <td>MSFT</td>\n",
       "      <td>United States</td>\n",
       "      <td>1.077870e+11</td>\n",
       "      <td>2.427170e+12</td>\n",
       "      <td>245122000000</td>\n",
       "    </tr>\n",
       "    <tr>\n",
       "      <th>3</th>\n",
       "      <td>Alphabet (Google)</td>\n",
       "      <td>GOOG</td>\n",
       "      <td>GOOG</td>\n",
       "      <td>United States</td>\n",
       "      <td>1.018210e+11</td>\n",
       "      <td>1.549815e+12</td>\n",
       "      <td>328284000000</td>\n",
       "    </tr>\n",
       "    <tr>\n",
       "      <th>4</th>\n",
       "      <td>Berkshire Hathaway</td>\n",
       "      <td>BRK-B</td>\n",
       "      <td>BRK-B</td>\n",
       "      <td>United States</td>\n",
       "      <td>8.890400e+10</td>\n",
       "      <td>7.492296e+11</td>\n",
       "      <td>402877000000</td>\n",
       "    </tr>\n",
       "  </tbody>\n",
       "</table>\n",
       "</div>"
      ],
      "text/plain": [
       "                 Name   Symbol   Symbol        Country      Earnings  \\\n",
       "0        Saudi Aramco  2222.SR  2222.SR   Saudi Arabia  2.283780e+11   \n",
       "1               Apple     AAPL     AAPL  United States  1.216250e+11   \n",
       "2           Microsoft     MSFT     MSFT  United States  1.077870e+11   \n",
       "3   Alphabet (Google)     GOOG     GOOG  United States  1.018210e+11   \n",
       "4  Berkshire Hathaway    BRK-B    BRK-B  United States  8.890400e+10   \n",
       "\n",
       "     Market_Cap       Revenue  \n",
       "0  1.348543e+12  495354806850  \n",
       "1  2.689903e+12  385603000000  \n",
       "2  2.427170e+12  245122000000  \n",
       "3  1.549815e+12  328284000000  \n",
       "4  7.492296e+11  402877000000  "
      ]
     },
     "execution_count": 11,
     "metadata": {},
     "output_type": "execute_result"
    }
   ],
   "source": [
    "merged_df = merged_df.rename(columns={\n",
    "    \"Symbol_earnings\": \"Symbol\",\n",
    "    \"country_earnings\": \"Country\"\n",
    "})\n",
    "\n",
    "merged_df = merged_df[['Name', 'Symbol', 'Country','Earnings', 'Market_Cap', 'Revenue']]\n",
    "merged_df.head()"
   ]
  },
  {
   "cell_type": "code",
   "execution_count": 12,
   "metadata": {},
   "outputs": [
    {
     "data": {
      "text/html": [
       "<div>\n",
       "<style scoped>\n",
       "    .dataframe tbody tr th:only-of-type {\n",
       "        vertical-align: middle;\n",
       "    }\n",
       "\n",
       "    .dataframe tbody tr th {\n",
       "        vertical-align: top;\n",
       "    }\n",
       "\n",
       "    .dataframe thead th {\n",
       "        text-align: right;\n",
       "    }\n",
       "</style>\n",
       "<table border=\"1\" class=\"dataframe\">\n",
       "  <thead>\n",
       "    <tr style=\"text-align: right;\">\n",
       "      <th></th>\n",
       "      <th>Country</th>\n",
       "      <th>Gold</th>\n",
       "      <th>Silver</th>\n",
       "      <th>Bronze</th>\n",
       "      <th>Total</th>\n",
       "    </tr>\n",
       "  </thead>\n",
       "  <tbody>\n",
       "    <tr>\n",
       "      <th>22</th>\n",
       "      <td>France</td>\n",
       "      <td>0</td>\n",
       "      <td>3</td>\n",
       "      <td>0</td>\n",
       "      <td>3</td>\n",
       "    </tr>\n",
       "    <tr>\n",
       "      <th>69</th>\n",
       "      <td>Switzerland</td>\n",
       "      <td>0</td>\n",
       "      <td>3</td>\n",
       "      <td>0</td>\n",
       "      <td>3</td>\n",
       "    </tr>\n",
       "    <tr>\n",
       "      <th>27</th>\n",
       "      <td>Hong Kong</td>\n",
       "      <td>0</td>\n",
       "      <td>0</td>\n",
       "      <td>3</td>\n",
       "      <td>3</td>\n",
       "    </tr>\n",
       "    <tr>\n",
       "      <th>23</th>\n",
       "      <td>Germany</td>\n",
       "      <td>1</td>\n",
       "      <td>2</td>\n",
       "      <td>0</td>\n",
       "      <td>3</td>\n",
       "    </tr>\n",
       "    <tr>\n",
       "      <th>36</th>\n",
       "      <td>Japan</td>\n",
       "      <td>3</td>\n",
       "      <td>0</td>\n",
       "      <td>0</td>\n",
       "      <td>3</td>\n",
       "    </tr>\n",
       "  </tbody>\n",
       "</table>\n",
       "</div>"
      ],
      "text/plain": [
       "        Country  Gold  Silver  Bronze  Total\n",
       "22       France     0       3       0      3\n",
       "69  Switzerland     0       3       0      3\n",
       "27    Hong Kong     0       0       3      3\n",
       "23      Germany     1       2       0      3\n",
       "36        Japan     3       0       0      3"
      ]
     },
     "execution_count": 12,
     "metadata": {},
     "output_type": "execute_result"
    }
   ],
   "source": [
    "# CLEAN COUNTRY NAMES BEFORE ANY GROUPING\n",
    "merged_df[\"Country\"] = merged_df[\"Country\"].replace({\n",
    "    \"USA\": \"United States\",\n",
    "    \"UK\": \"United Kingdom\",\n",
    "    \"UAE\": \"United Arab Emirates\",\n",
    "    \"Korea, South\": \"South Korea\",\n",
    "    \"Russian Federation\": \"Russia\",\n",
    "    \"Iran (Islamic Republic of)\": \"Iran\"\n",
    "}).str.strip().str.title()\n",
    "\n",
    "# Group by Country and sum financial metrics\n",
    "country_df = merged_df.groupby('Country')[['Revenue', 'Earnings', 'Market_Cap']].sum().reset_index()\n",
    "\n",
    "# Rank by each metric\n",
    "country_df['Revenue_Rank'] = country_df['Revenue'].rank(ascending=False).astype(int)\n",
    "country_df['Earnings_Rank'] = country_df['Earnings'].rank(ascending=False).astype(int)\n",
    "country_df['MarketCap_Rank'] = country_df['Market_Cap'].rank(ascending=False).astype(int)\n",
    "\n",
    "# 🎖️ Updated medal assignment logic\n",
    "def assign_medals(rank):\n",
    "    if rank <= 5:\n",
    "        return 'Gold'\n",
    "    elif rank <= 10:\n",
    "        return 'Silver'\n",
    "    elif rank <= 20:\n",
    "        return 'Bronze'\n",
    "    else:\n",
    "        return None\n",
    "\n",
    "# Assign medals per metric\n",
    "for metric in ['Revenue', 'Earnings', 'MarketCap']:\n",
    "    country_df[f'{metric}_Medal'] = country_df[f'{metric}_Rank'].apply(assign_medals)\n",
    "\n",
    "# Initialize medal tally per country\n",
    "medal_tally = []\n",
    "\n",
    "for _, row in country_df.iterrows():\n",
    "    country = row['Country']\n",
    "    medals = {'Country': country, 'Gold': 0, 'Silver': 0, 'Bronze': 0}\n",
    "    \n",
    "    for metric in ['Revenue', 'Earnings', 'MarketCap']:\n",
    "        medal = row[f'{metric}_Medal']\n",
    "        if medal:\n",
    "            medals[medal] += 1\n",
    "    \n",
    "    medal_tally.append(medals)\n",
    "\n",
    "# Create and sort final medal tally DataFrame\n",
    "medal_df = pd.DataFrame(medal_tally)\n",
    "medal_df['Total'] = medal_df[['Gold', 'Silver', 'Bronze']].sum(axis=1)\n",
    "medal_df = medal_df.sort_values(by='Total', ascending=False)\n",
    "\n",
    "# Save updated medal data to CSV\n",
    "medal_df.to_csv(\"country_metrics_medals.csv\", index=False)\n",
    "\n",
    "# Preview\n",
    "medal_df.head()\n"
   ]
  },
  {
   "cell_type": "code",
   "execution_count": 13,
   "metadata": {},
   "outputs": [
    {
     "data": {
      "text/html": [
       "<div>\n",
       "<style scoped>\n",
       "    .dataframe tbody tr th:only-of-type {\n",
       "        vertical-align: middle;\n",
       "    }\n",
       "\n",
       "    .dataframe tbody tr th {\n",
       "        vertical-align: top;\n",
       "    }\n",
       "\n",
       "    .dataframe thead th {\n",
       "        text-align: right;\n",
       "    }\n",
       "</style>\n",
       "<table border=\"1\" class=\"dataframe\">\n",
       "  <thead>\n",
       "    <tr style=\"text-align: right;\">\n",
       "      <th></th>\n",
       "      <th>Name</th>\n",
       "      <th>Symbol</th>\n",
       "      <th>Symbol</th>\n",
       "      <th>Country</th>\n",
       "      <th>Earnings</th>\n",
       "      <th>Market_Cap</th>\n",
       "      <th>Revenue</th>\n",
       "      <th>Earnings_Rank</th>\n",
       "      <th>MarketCap_Rank</th>\n",
       "      <th>Revenue_Rank</th>\n",
       "    </tr>\n",
       "  </thead>\n",
       "  <tbody>\n",
       "    <tr>\n",
       "      <th>0</th>\n",
       "      <td>Saudi Aramco</td>\n",
       "      <td>2222.SR</td>\n",
       "      <td>2222.SR</td>\n",
       "      <td>Saudi Arabia</td>\n",
       "      <td>2.283780e+11</td>\n",
       "      <td>1.348543e+12</td>\n",
       "      <td>495354806850</td>\n",
       "      <td>1</td>\n",
       "      <td>6</td>\n",
       "      <td>3</td>\n",
       "    </tr>\n",
       "    <tr>\n",
       "      <th>1</th>\n",
       "      <td>Apple</td>\n",
       "      <td>AAPL</td>\n",
       "      <td>AAPL</td>\n",
       "      <td>United States</td>\n",
       "      <td>1.216250e+11</td>\n",
       "      <td>2.689903e+12</td>\n",
       "      <td>385603000000</td>\n",
       "      <td>2</td>\n",
       "      <td>1</td>\n",
       "      <td>7</td>\n",
       "    </tr>\n",
       "    <tr>\n",
       "      <th>2</th>\n",
       "      <td>Microsoft</td>\n",
       "      <td>MSFT</td>\n",
       "      <td>MSFT</td>\n",
       "      <td>United States</td>\n",
       "      <td>1.077870e+11</td>\n",
       "      <td>2.427170e+12</td>\n",
       "      <td>245122000000</td>\n",
       "      <td>3</td>\n",
       "      <td>2</td>\n",
       "      <td>21</td>\n",
       "    </tr>\n",
       "    <tr>\n",
       "      <th>3</th>\n",
       "      <td>Alphabet (Google)</td>\n",
       "      <td>GOOG</td>\n",
       "      <td>GOOG</td>\n",
       "      <td>United States</td>\n",
       "      <td>1.018210e+11</td>\n",
       "      <td>1.549815e+12</td>\n",
       "      <td>328284000000</td>\n",
       "      <td>4</td>\n",
       "      <td>4</td>\n",
       "      <td>12</td>\n",
       "    </tr>\n",
       "    <tr>\n",
       "      <th>4</th>\n",
       "      <td>Berkshire Hathaway</td>\n",
       "      <td>BRK-B</td>\n",
       "      <td>BRK-B</td>\n",
       "      <td>United States</td>\n",
       "      <td>8.890400e+10</td>\n",
       "      <td>7.492296e+11</td>\n",
       "      <td>402877000000</td>\n",
       "      <td>5</td>\n",
       "      <td>8</td>\n",
       "      <td>6</td>\n",
       "    </tr>\n",
       "  </tbody>\n",
       "</table>\n",
       "</div>"
      ],
      "text/plain": [
       "                 Name   Symbol   Symbol        Country      Earnings  \\\n",
       "0        Saudi Aramco  2222.SR  2222.SR   Saudi Arabia  2.283780e+11   \n",
       "1               Apple     AAPL     AAPL  United States  1.216250e+11   \n",
       "2           Microsoft     MSFT     MSFT  United States  1.077870e+11   \n",
       "3   Alphabet (Google)     GOOG     GOOG  United States  1.018210e+11   \n",
       "4  Berkshire Hathaway    BRK-B    BRK-B  United States  8.890400e+10   \n",
       "\n",
       "     Market_Cap       Revenue  Earnings_Rank  MarketCap_Rank  Revenue_Rank  \n",
       "0  1.348543e+12  495354806850              1               6             3  \n",
       "1  2.689903e+12  385603000000              2               1             7  \n",
       "2  2.427170e+12  245122000000              3               2            21  \n",
       "3  1.549815e+12  328284000000              4               4            12  \n",
       "4  7.492296e+11  402877000000              5               8             6  "
      ]
     },
     "execution_count": 13,
     "metadata": {},
     "output_type": "execute_result"
    }
   ],
   "source": [
    "merged_df['Earnings_Rank'] = merged_df['Earnings'].rank(ascending=False).astype(int)\n",
    "merged_df['MarketCap_Rank'] = merged_df['Market_Cap'].rank(ascending=False).astype(int)\n",
    "merged_df['Revenue_Rank'] = merged_df['Revenue'].rank(ascending=False).astype(int)\n",
    "merged_df.head()"
   ]
  },
  {
   "cell_type": "code",
   "execution_count": 14,
   "metadata": {},
   "outputs": [],
   "source": [
    "merged_df.to_csv(\"Merged_Company_Financial.csv\", index=False)"
   ]
  },
  {
   "cell_type": "code",
   "execution_count": 15,
   "metadata": {},
   "outputs": [
    {
     "data": {
      "image/png": "[encoded data removed]",
      "text/plain": [
       "<Figure size 1000x600 with 1 Axes>"
      ]
     },
     "metadata": {},
     "output_type": "display_data"
    }
   ],
   "source": [
    "# Company names and earnings in USD\n",
    "companies = ['Saudi Aramco', 'Apple', 'Microsoft', 'Google', 'Berkshire Hathaway']\n",
    "earnings = [2.283780e+11, 1.216250e+11, 1.077870e+11, 1.018210e+11, 8.890400e+10]\n",
    "\n",
    "# Create the bar chart\n",
    "plt.figure(figsize=(10, 6))\n",
    "bars = plt.bar(companies, earnings)\n",
    "\n",
    "# Add titles and labels\n",
    "plt.title('Earnings of Top Global Companies')\n",
    "plt.xlabel('Company')\n",
    "plt.ylabel('Earnings (USD)')\n",
    "\n",
    "# Add data labels on top of bars\n",
    "for bar in bars:\n",
    "    yval = bar.get_height()\n",
    "    plt.text(bar.get_x() + bar.get_width()/2, yval, f\"${yval/1e9:.1f}B\", ha='center', va='bottom')\n",
    "\n",
    "# Improve layout\n",
    "plt.xticks(rotation=45)\n",
    "plt.tight_layout()\n",
    "plt.show()"
   ]
  },
  {
   "cell_type": "code",
   "execution_count": 16,
   "metadata": {},
   "outputs": [
    {
     "data": {
      "application/vnd.plotly.v1+json": {
       "config": {
        "plotlyServerURL": "https://plot.ly"
       },
       "data": [
        {
         "alignmentgroup": "True",
         "hovertemplate": "Country=%{x}<br>Total Medals=%{marker.color}<extra></extra>",
         "legendgroup": "",
         "marker": {
          "color": [
           3,
           3,
           3,
           3,
           3,
           3,
           3,
           3,
           3,
           3,
           3,
           3,
           3,
           3,
           3,
           3,
           3,
           2,
           2,
           2,
           1,
           1,
           1,
           0,
           0,
           0,
           0,
           0,
           0,
           0,
           0,
           0,
           0,
           0,
           0,
           0,
           0,
           0,
           0,
           0,
           0,
           0,
           0,
           0,
           0,
           0,
           0,
           0,
           0,
           0,
           0,
           0,
           0,
           0,
           0,
           0,
           0,
           0,
           0,
           0,
           0,
           0,
           0,
           0,
           0,
           0,
           0,
           0,
           0,
           0,
           0,
           0,
           0,
           0,
           0,
           0,
           0,
           0
          ],
          "coloraxis": "coloraxis",
          "pattern": {
           "shape": ""
          }
         },
         "name": "",
         "offsetgroup": "",
         "orientation": "v",
         "showlegend": false,
         "text": [
          3,
          3,
          3,
          3,
          3,
          3,
          3,
          3,
          3,
          3,
          3,
          3,
          3,
          3,
          3,
          3,
          3,
          2,
          2,
          2,
          1,
          1,
          1,
          0,
          0,
          0,
          0,
          0,
          0,
          0,
          0,
          0,
          0,
          0,
          0,
          0,
          0,
          0,
          0,
          0,
          0,
          0,
          0,
          0,
          0,
          0,
          0,
          0,
          0,
          0,
          0,
          0,
          0,
          0,
          0,
          0,
          0,
          0,
          0,
          0,
          0,
          0,
          0,
          0,
          0,
          0,
          0,
          0,
          0,
          0,
          0,
          0,
          0,
          0,
          0,
          0,
          0,
          0
         ],
         "textposition": "auto",
         "type": "bar",
         "x": [
          "France",
          "Sweden",
          "United States",
          "United Kingdom",
          "Taiwan",
          "Netherlands",
          "Canada",
          "Spain",
          "China",
          "India",
          "South Korea",
          "Australia",
          "Saudi Arabia",
          "Japan",
          "Germany",
          "Hong Kong",
          "Switzerland",
          "Italy",
          "Ireland",
          "Brazil",
          "Denmark",
          "Norway",
          "United Arab Emirates",
          "Bermuda",
          "British Virgin Islands",
          "Cambodia",
          "Cayman Islands",
          "Chile",
          "Colombia",
          "Costa Rica",
          "Cyprus",
          "Czech Republic",
          "Finland",
          "Egypt",
          "Estonia",
          "Kuwait",
          "Gibraltar",
          "Greece",
          "Guernsey",
          "Hungary",
          "Iceland",
          "Indonesia",
          "Isle Of Man",
          "Israel",
          "Jersey",
          "Jordan",
          "Bahrain",
          "Lithuania",
          "Luxembourg",
          "Belgium",
          "South Africa",
          "Bahamas",
          "Qatar",
          "Panama",
          "Monaco",
          "Oman",
          "Pakistan",
          "New Zealand",
          "Nigeria",
          "Peru",
          "Argentina",
          "Philippines",
          "Poland",
          "Portugal",
          "Romania",
          "Austria",
          "Malta",
          "Russia",
          "Singapore",
          "Sudan",
          "Thailand",
          "Turkey",
          "Uruguay",
          "Mexico",
          "Kazakhstan",
          "Malaysia",
          "Macau",
          "Vietnam"
         ],
         "xaxis": "x",
         "y": [
          3,
          3,
          3,
          3,
          3,
          3,
          3,
          3,
          3,
          3,
          3,
          3,
          3,
          3,
          3,
          3,
          3,
          2,
          2,
          2,
          1,
          1,
          1,
          0,
          0,
          0,
          0,
          0,
          0,
          0,
          0,
          0,
          0,
          0,
          0,
          0,
          0,
          0,
          0,
          0,
          0,
          0,
          0,
          0,
          0,
          0,
          0,
          0,
          0,
          0,
          0,
          0,
          0,
          0,
          0,
          0,
          0,
          0,
          0,
          0,
          0,
          0,
          0,
          0,
          0,
          0,
          0,
          0,
          0,
          0,
          0,
          0,
          0,
          0,
          0,
          0,
          0,
          0
         ],
         "yaxis": "y"
        }
       ],
       "layout": {
        "barmode": "relative",
        "coloraxis": {
         "colorbar": {
          "title": {
           "text": "Total Medals"
          }
         },
         "colorscale": [
          [
           0,
           "#0d0887"
          ],
          [
           0.1111111111111111,
           "#46039f"
          ],
          [
           0.2222222222222222,
           "#7201a8"
          ],
          [
           0.3333333333333333,
           "#9c179e"
          ],
          [
           0.4444444444444444,
           "#bd3786"
          ],
          [
           0.5555555555555556,
           "#d8576b"
          ],
          [
           0.6666666666666666,
           "#ed7953"
          ],
          [
           0.7777777777777778,
           "#fb9f3a"
          ],
          [
           0.8888888888888888,
           "#fdca26"
          ],
          [
           1,
           "#f0f921"
          ]
         ]
        },
        "legend": {
         "tracegroupgap": 0
        },
        "template": {
         "data": {
          "bar": [
           {
            "error_x": {
             "color": "#2a3f5f"
            },
            "error_y": {
             "color": "#2a3f5f"
            },
            "marker": {
             "line": {
              "color": "#E5ECF6",
              "width": 0.5
             },
             "pattern": {
              "fillmode": "overlay",
              "size": 10,
              "solidity": 0.2
             }
            },
            "type": "bar"
           }
          ],
          "barpolar": [
           {
            "marker": {
             "line": {
              "color": "#E5ECF6",
              "width": 0.5
             },
             "pattern": {
              "fillmode": "overlay",
              "size": 10,
              "solidity": 0.2
             }
            },
            "type": "barpolar"
           }
          ],
          "carpet": [
           {
            "aaxis": {
             "endlinecolor": "#2a3f5f",
             "gridcolor": "white",
             "linecolor": "white",
             "minorgridcolor": "white",
             "startlinecolor": "#2a3f5f"
            },
            "baxis": {
             "endlinecolor": "#2a3f5f",
             "gridcolor": "white",
             "linecolor": "white",
             "minorgridcolor": "white",
             "startlinecolor": "#2a3f5f"
            },
            "type": "carpet"
           }
          ],
          "choropleth": [
           {
            "colorbar": {
             "outlinewidth": 0,
             "ticks": ""
            },
            "type": "choropleth"
           }
          ],
          "contour": [
           {
            "colorbar": {
             "outlinewidth": 0,
             "ticks": ""
            },
            "colorscale": [
             [
              0,
              "#0d0887"
             ],
             [
              0.1111111111111111,
              "#46039f"
             ],
             [
              0.2222222222222222,
              "#7201a8"
             ],
             [
              0.3333333333333333,
              "#9c179e"
             ],
             [
              0.4444444444444444,
              "#bd3786"
             ],
             [
              0.5555555555555556,
              "#d8576b"
             ],
             [
              0.6666666666666666,
              "#ed7953"
             ],
             [
              0.7777777777777778,
              "#fb9f3a"
             ],
             [
              0.8888888888888888,
              "#fdca26"
             ],
             [
              1,
              "#f0f921"
             ]
            ],
            "type": "contour"
           }
          ],
          "contourcarpet": [
           {
            "colorbar": {
             "outlinewidth": 0,
             "ticks": ""
            },
            "type": "contourcarpet"
           }
          ],
          "heatmap": [
           {
            "colorbar": {
             "outlinewidth": 0,
             "ticks": ""
            },
            "colorscale": [
             [
              0,
              "#0d0887"
             ],
             [
              0.1111111111111111,
              "#46039f"
             ],
             [
              0.2222222222222222,
              "#7201a8"
             ],
             [
              0.3333333333333333,
              "#9c179e"
             ],
             [
              0.4444444444444444,
              "#bd3786"
             ],
             [
              0.5555555555555556,
              "#d8576b"
             ],
             [
              0.6666666666666666,
              "#ed7953"
             ],
             [
              0.7777777777777778,
              "#fb9f3a"
             ],
             [
              0.8888888888888888,
              "#fdca26"
             ],
             [
              1,
              "#f0f921"
             ]
            ],
            "type": "heatmap"
           }
          ],
          "heatmapgl": [
           {
            "colorbar": {
             "outlinewidth": 0,
             "ticks": ""
            },
            "colorscale": [
             [
              0,
              "#0d0887"
             ],
             [
              0.1111111111111111,
              "#46039f"
             ],
             [
              0.2222222222222222,
              "#7201a8"
             ],
             [
              0.3333333333333333,
              "#9c179e"
             ],
             [
              0.4444444444444444,
              "#bd3786"
             ],
             [
              0.5555555555555556,
              "#d8576b"
             ],
             [
              0.6666666666666666,
              "#ed7953"
             ],
             [
              0.7777777777777778,
              "#fb9f3a"
             ],
             [
              0.8888888888888888,
              "#fdca26"
             ],
             [
              1,
              "#f0f921"
             ]
            ],
            "type": "heatmapgl"
           }
          ],
          "histogram": [
           {
            "marker": {
             "pattern": {
              "fillmode": "overlay",
              "size": 10,
              "solidity": 0.2
             }
            },
            "type": "histogram"
           }
          ],
          "histogram2d": [
           {
            "colorbar": {
             "outlinewidth": 0,
             "ticks": ""
            },
            "colorscale": [
             [
              0,
              "#0d0887"
             ],
             [
              0.1111111111111111,
              "#46039f"
             ],
             [
              0.2222222222222222,
              "#7201a8"
             ],
             [
              0.3333333333333333,
              "#9c179e"
             ],
             [
              0.4444444444444444,
              "#bd3786"
             ],
             [
              0.5555555555555556,
              "#d8576b"
             ],
             [
              0.6666666666666666,
              "#ed7953"
             ],
             [
              0.7777777777777778,
              "#fb9f3a"
             ],
             [
              0.8888888888888888,
              "#fdca26"
             ],
             [
              1,
              "#f0f921"
             ]
            ],
            "type": "histogram2d"
           }
          ],
          "histogram2dcontour": [
           {
            "colorbar": {
             "outlinewidth": 0,
             "ticks": ""
            },
            "colorscale": [
             [
              0,
              "#0d0887"
             ],
             [
              0.1111111111111111,
              "#46039f"
             ],
             [
              0.2222222222222222,
              "#7201a8"
             ],
             [
              0.3333333333333333,
              "#9c179e"
             ],
             [
              0.4444444444444444,
              "#bd3786"
             ],
             [
              0.5555555555555556,
              "#d8576b"
             ],
             [
              0.6666666666666666,
              "#ed7953"
             ],
             [
              0.7777777777777778,
              "#fb9f3a"
             ],
             [
              0.8888888888888888,
              "#fdca26"
             ],
             [
              1,
              "#f0f921"
             ]
            ],
            "type": "histogram2dcontour"
           }
          ],
          "mesh3d": [
           {
            "colorbar": {
             "outlinewidth": 0,
             "ticks": ""
            },
            "type": "mesh3d"
           }
          ],
          "parcoords": [
           {
            "line": {
             "colorbar": {
              "outlinewidth": 0,
              "ticks": ""
             }
            },
            "type": "parcoords"
           }
          ],
          "pie": [
           {
            "automargin": true,
            "type": "pie"
           }
          ],
          "scatter": [
           {
            "fillpattern": {
             "fillmode": "overlay",
             "size": 10,
             "solidity": 0.2
            },
            "type": "scatter"
           }
          ],
          "scatter3d": [
           {
            "line": {
             "colorbar": {
              "outlinewidth": 0,
              "ticks": ""
             }
            },
            "marker": {
             "colorbar": {
              "outlinewidth": 0,
              "ticks": ""
             }
            },
            "type": "scatter3d"
           }
          ],
          "scattercarpet": [
           {
            "marker": {
             "colorbar": {
              "outlinewidth": 0,
              "ticks": ""
             }
            },
            "type": "scattercarpet"
           }
          ],
          "scattergeo": [
           {
            "marker": {
             "colorbar": {
              "outlinewidth": 0,
              "ticks": ""
             }
            },
            "type": "scattergeo"
           }
          ],
          "scattergl": [
           {
            "marker": {
             "colorbar": {
              "outlinewidth": 0,
              "ticks": ""
             }
            },
            "type": "scattergl"
           }
          ],
          "scattermapbox": [
           {
            "marker": {
             "colorbar": {
              "outlinewidth": 0,
              "ticks": ""
             }
            },
            "type": "scattermapbox"
           }
          ],
          "scatterpolar": [
           {
            "marker": {
             "colorbar": {
              "outlinewidth": 0,
              "ticks": ""
             }
            },
            "type": "scatterpolar"
           }
          ],
          "scatterpolargl": [
           {
            "marker": {
             "colorbar": {
              "outlinewidth": 0,
              "ticks": ""
             }
            },
            "type": "scatterpolargl"
           }
          ],
          "scatterternary": [
           {
            "marker": {
             "colorbar": {
              "outlinewidth": 0,
              "ticks": ""
             }
            },
            "type": "scatterternary"
           }
          ],
          "surface": [
           {
            "colorbar": {
             "outlinewidth": 0,
             "ticks": ""
            },
            "colorscale": [
             [
              0,
              "#0d0887"
             ],
             [
              0.1111111111111111,
              "#46039f"
             ],
             [
              0.2222222222222222,
              "#7201a8"
             ],
             [
              0.3333333333333333,
              "#9c179e"
             ],
             [
              0.4444444444444444,
              "#bd3786"
             ],
             [
              0.5555555555555556,
              "#d8576b"
             ],
             [
              0.6666666666666666,
              "#ed7953"
             ],
             [
              0.7777777777777778,
              "#fb9f3a"
             ],
             [
              0.8888888888888888,
              "#fdca26"
             ],
             [
              1,
              "#f0f921"
             ]
            ],
            "type": "surface"
           }
          ],
          "table": [
           {
            "cells": {
             "fill": {
              "color": "#EBF0F8"
             },
             "line": {
              "color": "white"
             }
            },
            "header": {
             "fill": {
              "color": "#C8D4E3"
             },
             "line": {
              "color": "white"
             }
            },
            "type": "table"
           }
          ]
         },
         "layout": {
          "annotationdefaults": {
           "arrowcolor": "#2a3f5f",
           "arrowhead": 0,
           "arrowwidth": 1
          },
          "autotypenumbers": "strict",
          "coloraxis": {
           "colorbar": {
            "outlinewidth": 0,
            "ticks": ""
           }
          },
          "colorscale": {
           "diverging": [
            [
             0,
             "#8e0152"
            ],
            [
             0.1,
             "#c51b7d"
            ],
            [
             0.2,
             "#de77ae"
            ],
            [
             0.3,
             "#f1b6da"
            ],
            [
             0.4,
             "#fde0ef"
            ],
            [
             0.5,
             "#f7f7f7"
            ],
            [
             0.6,
             "#e6f5d0"
            ],
            [
             0.7,
             "#b8e186"
            ],
            [
             0.8,
             "#7fbc41"
            ],
            [
             0.9,
             "#4d9221"
            ],
            [
             1,
             "#276419"
            ]
           ],
           "sequential": [
            [
             0,
             "#0d0887"
            ],
            [
             0.1111111111111111,
             "#46039f"
            ],
            [
             0.2222222222222222,
             "#7201a8"
            ],
            [
             0.3333333333333333,
             "#9c179e"
            ],
            [
             0.4444444444444444,
             "#bd3786"
            ],
            [
             0.5555555555555556,
             "#d8576b"
            ],
            [
             0.6666666666666666,
             "#ed7953"
            ],
            [
             0.7777777777777778,
             "#fb9f3a"
            ],
            [
             0.8888888888888888,
             "#fdca26"
            ],
            [
             1,
             "#f0f921"
            ]
           ],
           "sequentialminus": [
            [
             0,
             "#0d0887"
            ],
            [
             0.1111111111111111,
             "#46039f"
            ],
            [
             0.2222222222222222,
             "#7201a8"
            ],
            [
             0.3333333333333333,
             "#9c179e"
            ],
            [
             0.4444444444444444,
             "#bd3786"
            ],
            [
             0.5555555555555556,
             "#d8576b"
            ],
            [
             0.6666666666666666,
             "#ed7953"
            ],
            [
             0.7777777777777778,
             "#fb9f3a"
            ],
            [
             0.8888888888888888,
             "#fdca26"
            ],
            [
             1,
             "#f0f921"
            ]
           ]
          },
          "colorway": [
           "#636efa",
           "#EF553B",
           "#00cc96",
           "#ab63fa",
           "#FFA15A",
           "#19d3f3",
           "#FF6692",
           "#B6E880",
           "#FF97FF",
           "#FECB52"
          ],
          "font": {
           "color": "#2a3f5f"
          },
          "geo": {
           "bgcolor": "white",
           "lakecolor": "white",
           "landcolor": "#E5ECF6",
           "showlakes": true,
           "showland": true,
           "subunitcolor": "white"
          },
          "hoverlabel": {
           "align": "left"
          },
          "hovermode": "closest",
          "mapbox": {
           "style": "light"
          },
          "paper_bgcolor": "white",
          "plot_bgcolor": "#E5ECF6",
          "polar": {
           "angularaxis": {
            "gridcolor": "white",
            "linecolor": "white",
            "ticks": ""
           },
           "bgcolor": "#E5ECF6",
           "radialaxis": {
            "gridcolor": "white",
            "linecolor": "white",
            "ticks": ""
           }
          },
          "scene": {
           "xaxis": {
            "backgroundcolor": "#E5ECF6",
            "gridcolor": "white",
            "gridwidth": 2,
            "linecolor": "white",
            "showbackground": true,
            "ticks": "",
            "zerolinecolor": "white"
           },
           "yaxis": {
            "backgroundcolor": "#E5ECF6",
            "gridcolor": "white",
            "gridwidth": 2,
            "linecolor": "white",
            "showbackground": true,
            "ticks": "",
            "zerolinecolor": "white"
           },
           "zaxis": {
            "backgroundcolor": "#E5ECF6",
            "gridcolor": "white",
            "gridwidth": 2,
            "linecolor": "white",
            "showbackground": true,
            "ticks": "",
            "zerolinecolor": "white"
           }
          },
          "shapedefaults": {
           "line": {
            "color": "#2a3f5f"
           }
          },
          "ternary": {
           "aaxis": {
            "gridcolor": "white",
            "linecolor": "white",
            "ticks": ""
           },
           "baxis": {
            "gridcolor": "white",
            "linecolor": "white",
            "ticks": ""
           },
           "bgcolor": "#E5ECF6",
           "caxis": {
            "gridcolor": "white",
            "linecolor": "white",
            "ticks": ""
           }
          },
          "title": {
           "x": 0.05
          },
          "xaxis": {
           "automargin": true,
           "gridcolor": "white",
           "linecolor": "white",
           "ticks": "",
           "title": {
            "standoff": 15
           },
           "zerolinecolor": "white",
           "zerolinewidth": 2
          },
          "yaxis": {
           "automargin": true,
           "gridcolor": "white",
           "linecolor": "white",
           "ticks": "",
           "title": {
            "standoff": 15
           },
           "zerolinecolor": "white",
           "zerolinewidth": 2
          }
         }
        },
        "title": {
         "text": "🏆 Total Medals by Country (Financial Olympics)"
        },
        "xaxis": {
         "anchor": "y",
         "domain": [
          0,
          1
         ],
         "tickangle": -45,
         "title": {
          "text": "Country"
         }
        },
        "yaxis": {
         "anchor": "x",
         "domain": [
          0,
          1
         ],
         "title": {
          "text": "Total Medals"
         }
        }
       }
      }
     },
     "metadata": {},
     "output_type": "display_data"
    }
   ],
   "source": [
    "# Load cleaned company financials\n",
    "merged_df = pd.read_csv(\"Merged_Company_Financial.csv\")\n",
    "\n",
    "# Drop duplicate columns if they exist\n",
    "if 'Symbol.1' in merged_df.columns:\n",
    "    merged_df = merged_df.drop(columns=['Symbol.1'])\n",
    "\n",
    "# Clean country names again (just to be safe)\n",
    "merged_df[\"Country\"] = merged_df[\"Country\"].replace({\n",
    "    \"USA\": \"United States\",\n",
    "    \"UK\": \"United Kingdom\",\n",
    "    \"UAE\": \"United Arab Emirates\",\n",
    "    \"Korea, South\": \"South Korea\",\n",
    "    \"Russian Federation\": \"Russia\",\n",
    "    \"Iran (Islamic Republic of)\": \"Iran\"\n",
    "}).str.strip().str.title()\n",
    "\n",
    "# Step 1: Company counts and financial averages\n",
    "company_counts = merged_df.groupby(\"Country\").size().reset_index(name=\"Companies\")\n",
    "avg_metrics = merged_df.groupby(\"Country\")[[\"Revenue\", \"Earnings\", \"Market_Cap\"]].mean().reset_index()\n",
    "avg_metrics.columns = [\"Country\", \"Avg_Revenue\", \"Avg_Earnings\", \"Avg_MarketCap\"]\n",
    "\n",
    "# Step 2: Merge with previously assigned medal_df\n",
    "full_country_stats = pd.merge(medal_df, company_counts, on=\"Country\", how=\"left\")\n",
    "full_country_stats = pd.merge(full_country_stats, avg_metrics, on=\"Country\", how=\"left\")\n",
    "\n",
    "# Step 3: Compute Financial Power Score\n",
    "full_country_stats[\"Financial_Power_Score\"] = (\n",
    "    full_country_stats[\"Total\"] * 3 +\n",
    "    full_country_stats[\"Avg_Earnings\"] / 1e10 +\n",
    "    full_country_stats[\"Avg_Revenue\"] / 1e10 +\n",
    "    full_country_stats[\"Avg_MarketCap\"] / 1e11\n",
    ")\n",
    "\n",
    "# Step 4: Round values\n",
    "for col in [\"Avg_Revenue\", \"Avg_Earnings\", \"Avg_MarketCap\", \"Financial_Power_Score\"]:\n",
    "    full_country_stats[col] = full_country_stats[col].round(0 if col != \"Financial_Power_Score\" else 2)\n",
    "\n",
    "# Step 5: Save unified and enriched file\n",
    "full_country_stats.to_csv(\"country_metrics_medals.csv\", index=False)\n",
    "\n",
    "# Step 6: Visualization - Total Medal Bar Chart\n",
    "fig = px.bar(\n",
    "    full_country_stats.sort_values(\"Total\", ascending=False),\n",
    "    x=\"Country\",\n",
    "    y=\"Total\",\n",
    "    color=\"Total\",\n",
    "    title=\"🏆 Total Medals by Country (Financial Olympics)\",\n",
    "    labels={\"Total\": \"Total Medals\"},\n",
    "    text=\"Total\"\n",
    ")\n",
    "fig.update_layout(xaxis_tickangle=-45)\n",
    "fig.show()\n"
   ]
  },
  {
   "cell_type": "code",
   "execution_count": 17,
   "metadata": {},
   "outputs": [
    {
     "data": {
      "application/vnd.plotly.v1+json": {
       "config": {
        "plotlyServerURL": "https://plot.ly"
       },
       "data": [
        {
         "coloraxis": "coloraxis",
         "geo": "geo",
         "hovertemplate": "Country=%{location}<br>Financial_Power_Score=%{z}<extra></extra>",
         "locationmode": "country names",
         "locations": [
          "France",
          "Switzerland",
          "Hong Kong",
          "Germany",
          "Japan",
          "Saudi Arabia",
          "Australia",
          "South Korea",
          "India",
          "China",
          "Sweden",
          "Spain",
          "Canada",
          "Netherlands",
          "Taiwan",
          "United Kingdom",
          "United States",
          "Ireland",
          "Brazil",
          "Italy",
          "Denmark",
          "Norway",
          "United Arab Emirates",
          "Panama",
          "Monaco",
          "Oman",
          "Pakistan",
          "New Zealand",
          "Nigeria",
          "Peru",
          "Argentina",
          "Philippines",
          "Poland",
          "Portugal",
          "Qatar",
          "Romania",
          "Malta",
          "Russia",
          "Singapore",
          "South Africa",
          "Sudan",
          "Thailand",
          "Turkey",
          "Uruguay",
          "Mexico",
          "Kazakhstan",
          "Malaysia",
          "Macau",
          "Austria",
          "Bahamas",
          "Bahrain",
          "Belgium",
          "Bermuda",
          "British Virgin Islands",
          "Cambodia",
          "Cayman Islands",
          "Chile",
          "Colombia",
          "Costa Rica",
          "Cyprus",
          "Czech Republic",
          "Egypt",
          "Estonia",
          "Finland",
          "Gibraltar",
          "Greece",
          "Guernsey",
          "Hungary",
          "Iceland",
          "Indonesia",
          "Isle Of Man",
          "Israel",
          "Jersey",
          "Jordan",
          "Kuwait",
          "Lithuania",
          "Luxembourg",
          "Vietnam"
         ],
         "name": "",
         "type": "choropleth",
         "z": [
          9.88,
          9.83,
          9.63,
          9.85,
          10.5,
          9.55,
          9.26,
          10.57,
          9.4,
          11.21,
          9.35,
          10.24,
          9.44,
          10.48,
          9.97,
          9.69,
          9.78,
          7.2,
          7.19,
          6.92,
          3.54,
          3.35,
          3.07,
          0.26,
          0.19,
          0,
          0.01,
          0.18,
          0.3,
          0.16,
          0.46,
          0.56,
          0.26,
          0.68,
          0.15,
          0.23,
          0.08,
          0.2,
          0.46,
          0.6,
          0,
          0.7,
          0.93,
          0.3,
          1.23,
          0.58,
          0.34,
          0.05,
          0.4,
          0.05,
          0.06,
          0.34,
          0.45,
          -0.01,
          0.02,
          0.13,
          0.89,
          1.46,
          0.02,
          0.11,
          0.6,
          0.38,
          0.1,
          0.38,
          0.03,
          0.21,
          0.16,
          1.41,
          0.05,
          0.45,
          0.39,
          0.15,
          0.12,
          0.07,
          0.11,
          0.07,
          0.56,
          0.24
         ]
        }
       ],
       "layout": {
        "coloraxis": {
         "colorbar": {
          "title": {
           "text": "Financial_Power_Score"
          }
         },
         "colorscale": [
          [
           0,
           "#440154"
          ],
          [
           0.1111111111111111,
           "#482878"
          ],
          [
           0.2222222222222222,
           "#3e4989"
          ],
          [
           0.3333333333333333,
           "#31688e"
          ],
          [
           0.4444444444444444,
           "#26828e"
          ],
          [
           0.5555555555555556,
           "#1f9e89"
          ],
          [
           0.6666666666666666,
           "#35b779"
          ],
          [
           0.7777777777777778,
           "#6ece58"
          ],
          [
           0.8888888888888888,
           "#b5de2b"
          ],
          [
           1,
           "#fde725"
          ]
         ]
        },
        "geo": {
         "center": {},
         "domain": {
          "x": [
           0,
           1
          ],
          "y": [
           0,
           1
          ]
         }
        },
        "legend": {
         "tracegroupgap": 0
        },
        "template": {
         "data": {
          "bar": [
           {
            "error_x": {
             "color": "#2a3f5f"
            },
            "error_y": {
             "color": "#2a3f5f"
            },
            "marker": {
             "line": {
              "color": "#E5ECF6",
              "width": 0.5
             },
             "pattern": {
              "fillmode": "overlay",
              "size": 10,
              "solidity": 0.2
             }
            },
            "type": "bar"
           }
          ],
          "barpolar": [
           {
            "marker": {
             "line": {
              "color": "#E5ECF6",
              "width": 0.5
             },
             "pattern": {
              "fillmode": "overlay",
              "size": 10,
              "solidity": 0.2
             }
            },
            "type": "barpolar"
           }
          ],
          "carpet": [
           {
            "aaxis": {
             "endlinecolor": "#2a3f5f",
             "gridcolor": "white",
             "linecolor": "white",
             "minorgridcolor": "white",
             "startlinecolor": "#2a3f5f"
            },
            "baxis": {
             "endlinecolor": "#2a3f5f",
             "gridcolor": "white",
             "linecolor": "white",
             "minorgridcolor": "white",
             "startlinecolor": "#2a3f5f"
            },
            "type": "carpet"
           }
          ],
          "choropleth": [
           {
            "colorbar": {
             "outlinewidth": 0,
             "ticks": ""
            },
            "type": "choropleth"
           }
          ],
          "contour": [
           {
            "colorbar": {
             "outlinewidth": 0,
             "ticks": ""
            },
            "colorscale": [
             [
              0,
              "#0d0887"
             ],
             [
              0.1111111111111111,
              "#46039f"
             ],
             [
              0.2222222222222222,
              "#7201a8"
             ],
             [
              0.3333333333333333,
              "#9c179e"
             ],
             [
              0.4444444444444444,
              "#bd3786"
             ],
             [
              0.5555555555555556,
              "#d8576b"
             ],
             [
              0.6666666666666666,
              "#ed7953"
             ],
             [
              0.7777777777777778,
              "#fb9f3a"
             ],
             [
              0.8888888888888888,
              "#fdca26"
             ],
             [
              1,
              "#f0f921"
             ]
            ],
            "type": "contour"
           }
          ],
          "contourcarpet": [
           {
            "colorbar": {
             "outlinewidth": 0,
             "ticks": ""
            },
            "type": "contourcarpet"
           }
          ],
          "heatmap": [
           {
            "colorbar": {
             "outlinewidth": 0,
             "ticks": ""
            },
            "colorscale": [
             [
              0,
              "#0d0887"
             ],
             [
              0.1111111111111111,
              "#46039f"
             ],
             [
              0.2222222222222222,
              "#7201a8"
             ],
             [
              0.3333333333333333,
              "#9c179e"
             ],
             [
              0.4444444444444444,
              "#bd3786"
             ],
             [
              0.5555555555555556,
              "#d8576b"
             ],
             [
              0.6666666666666666,
              "#ed7953"
             ],
             [
              0.7777777777777778,
              "#fb9f3a"
             ],
             [
              0.8888888888888888,
              "#fdca26"
             ],
             [
              1,
              "#f0f921"
             ]
            ],
            "type": "heatmap"
           }
          ],
          "heatmapgl": [
           {
            "colorbar": {
             "outlinewidth": 0,
             "ticks": ""
            },
            "colorscale": [
             [
              0,
              "#0d0887"
             ],
             [
              0.1111111111111111,
              "#46039f"
             ],
             [
              0.2222222222222222,
              "#7201a8"
             ],
             [
              0.3333333333333333,
              "#9c179e"
             ],
             [
              0.4444444444444444,
              "#bd3786"
             ],
             [
              0.5555555555555556,
              "#d8576b"
             ],
             [
              0.6666666666666666,
              "#ed7953"
             ],
             [
              0.7777777777777778,
              "#fb9f3a"
             ],
             [
              0.8888888888888888,
              "#fdca26"
             ],
             [
              1,
              "#f0f921"
             ]
            ],
            "type": "heatmapgl"
           }
          ],
          "histogram": [
           {
            "marker": {
             "pattern": {
              "fillmode": "overlay",
              "size": 10,
              "solidity": 0.2
             }
            },
            "type": "histogram"
           }
          ],
          "histogram2d": [
           {
            "colorbar": {
             "outlinewidth": 0,
             "ticks": ""
            },
            "colorscale": [
             [
              0,
              "#0d0887"
             ],
             [
              0.1111111111111111,
              "#46039f"
             ],
             [
              0.2222222222222222,
              "#7201a8"
             ],
             [
              0.3333333333333333,
              "#9c179e"
             ],
             [
              0.4444444444444444,
              "#bd3786"
             ],
             [
              0.5555555555555556,
              "#d8576b"
             ],
             [
              0.6666666666666666,
              "#ed7953"
             ],
             [
              0.7777777777777778,
              "#fb9f3a"
             ],
             [
              0.8888888888888888,
              "#fdca26"
             ],
             [
              1,
              "#f0f921"
             ]
            ],
            "type": "histogram2d"
           }
          ],
          "histogram2dcontour": [
           {
            "colorbar": {
             "outlinewidth": 0,
             "ticks": ""
            },
            "colorscale": [
             [
              0,
              "#0d0887"
             ],
             [
              0.1111111111111111,
              "#46039f"
             ],
             [
              0.2222222222222222,
              "#7201a8"
             ],
             [
              0.3333333333333333,
              "#9c179e"
             ],
             [
              0.4444444444444444,
              "#bd3786"
             ],
             [
              0.5555555555555556,
              "#d8576b"
             ],
             [
              0.6666666666666666,
              "#ed7953"
             ],
             [
              0.7777777777777778,
              "#fb9f3a"
             ],
             [
              0.8888888888888888,
              "#fdca26"
             ],
             [
              1,
              "#f0f921"
             ]
            ],
            "type": "histogram2dcontour"
           }
          ],
          "mesh3d": [
           {
            "colorbar": {
             "outlinewidth": 0,
             "ticks": ""
            },
            "type": "mesh3d"
           }
          ],
          "parcoords": [
           {
            "line": {
             "colorbar": {
              "outlinewidth": 0,
              "ticks": ""
             }
            },
            "type": "parcoords"
           }
          ],
          "pie": [
           {
            "automargin": true,
            "type": "pie"
           }
          ],
          "scatter": [
           {
            "fillpattern": {
             "fillmode": "overlay",
             "size": 10,
             "solidity": 0.2
            },
            "type": "scatter"
           }
          ],
          "scatter3d": [
           {
            "line": {
             "colorbar": {
              "outlinewidth": 0,
              "ticks": ""
             }
            },
            "marker": {
             "colorbar": {
              "outlinewidth": 0,
              "ticks": ""
             }
            },
            "type": "scatter3d"
           }
          ],
          "scattercarpet": [
           {
            "marker": {
             "colorbar": {
              "outlinewidth": 0,
              "ticks": ""
             }
            },
            "type": "scattercarpet"
           }
          ],
          "scattergeo": [
           {
            "marker": {
             "colorbar": {
              "outlinewidth": 0,
              "ticks": ""
             }
            },
            "type": "scattergeo"
           }
          ],
          "scattergl": [
           {
            "marker": {
             "colorbar": {
              "outlinewidth": 0,
              "ticks": ""
             }
            },
            "type": "scattergl"
           }
          ],
          "scattermapbox": [
           {
            "marker": {
             "colorbar": {
              "outlinewidth": 0,
              "ticks": ""
             }
            },
            "type": "scattermapbox"
           }
          ],
          "scatterpolar": [
           {
            "marker": {
             "colorbar": {
              "outlinewidth": 0,
              "ticks": ""
             }
            },
            "type": "scatterpolar"
           }
          ],
          "scatterpolargl": [
           {
            "marker": {
             "colorbar": {
              "outlinewidth": 0,
              "ticks": ""
             }
            },
            "type": "scatterpolargl"
           }
          ],
          "scatterternary": [
           {
            "marker": {
             "colorbar": {
              "outlinewidth": 0,
              "ticks": ""
             }
            },
            "type": "scatterternary"
           }
          ],
          "surface": [
           {
            "colorbar": {
             "outlinewidth": 0,
             "ticks": ""
            },
            "colorscale": [
             [
              0,
              "#0d0887"
             ],
             [
              0.1111111111111111,
              "#46039f"
             ],
             [
              0.2222222222222222,
              "#7201a8"
             ],
             [
              0.3333333333333333,
              "#9c179e"
             ],
             [
              0.4444444444444444,
              "#bd3786"
             ],
             [
              0.5555555555555556,
              "#d8576b"
             ],
             [
              0.6666666666666666,
              "#ed7953"
             ],
             [
              0.7777777777777778,
              "#fb9f3a"
             ],
             [
              0.8888888888888888,
              "#fdca26"
             ],
             [
              1,
              "#f0f921"
             ]
            ],
            "type": "surface"
           }
          ],
          "table": [
           {
            "cells": {
             "fill": {
              "color": "#EBF0F8"
             },
             "line": {
              "color": "white"
             }
            },
            "header": {
             "fill": {
              "color": "#C8D4E3"
             },
             "line": {
              "color": "white"
             }
            },
            "type": "table"
           }
          ]
         },
         "layout": {
          "annotationdefaults": {
           "arrowcolor": "#2a3f5f",
           "arrowhead": 0,
           "arrowwidth": 1
          },
          "autotypenumbers": "strict",
          "coloraxis": {
           "colorbar": {
            "outlinewidth": 0,
            "ticks": ""
           }
          },
          "colorscale": {
           "diverging": [
            [
             0,
             "#8e0152"
            ],
            [
             0.1,
             "#c51b7d"
            ],
            [
             0.2,
             "#de77ae"
            ],
            [
             0.3,
             "#f1b6da"
            ],
            [
             0.4,
             "#fde0ef"
            ],
            [
             0.5,
             "#f7f7f7"
            ],
            [
             0.6,
             "#e6f5d0"
            ],
            [
             0.7,
             "#b8e186"
            ],
            [
             0.8,
             "#7fbc41"
            ],
            [
             0.9,
             "#4d9221"
            ],
            [
             1,
             "#276419"
            ]
           ],
           "sequential": [
            [
             0,
             "#0d0887"
            ],
            [
             0.1111111111111111,
             "#46039f"
            ],
            [
             0.2222222222222222,
             "#7201a8"
            ],
            [
             0.3333333333333333,
             "#9c179e"
            ],
            [
             0.4444444444444444,
             "#bd3786"
            ],
            [
             0.5555555555555556,
             "#d8576b"
            ],
            [
             0.6666666666666666,
             "#ed7953"
            ],
            [
             0.7777777777777778,
             "#fb9f3a"
            ],
            [
             0.8888888888888888,
             "#fdca26"
            ],
            [
             1,
             "#f0f921"
            ]
           ],
           "sequentialminus": [
            [
             0,
             "#0d0887"
            ],
            [
             0.1111111111111111,
             "#46039f"
            ],
            [
             0.2222222222222222,
             "#7201a8"
            ],
            [
             0.3333333333333333,
             "#9c179e"
            ],
            [
             0.4444444444444444,
             "#bd3786"
            ],
            [
             0.5555555555555556,
             "#d8576b"
            ],
            [
             0.6666666666666666,
             "#ed7953"
            ],
            [
             0.7777777777777778,
             "#fb9f3a"
            ],
            [
             0.8888888888888888,
             "#fdca26"
            ],
            [
             1,
             "#f0f921"
            ]
           ]
          },
          "colorway": [
           "#636efa",
           "#EF553B",
           "#00cc96",
           "#ab63fa",
           "#FFA15A",
           "#19d3f3",
           "#FF6692",
           "#B6E880",
           "#FF97FF",
           "#FECB52"
          ],
          "font": {
           "color": "#2a3f5f"
          },
          "geo": {
           "bgcolor": "white",
           "lakecolor": "white",
           "landcolor": "#E5ECF6",
           "showlakes": true,
           "showland": true,
           "subunitcolor": "white"
          },
          "hoverlabel": {
           "align": "left"
          },
          "hovermode": "closest",
          "mapbox": {
           "style": "light"
          },
          "paper_bgcolor": "white",
          "plot_bgcolor": "#E5ECF6",
          "polar": {
           "angularaxis": {
            "gridcolor": "white",
            "linecolor": "white",
            "ticks": ""
           },
           "bgcolor": "#E5ECF6",
           "radialaxis": {
            "gridcolor": "white",
            "linecolor": "white",
            "ticks": ""
           }
          },
          "scene": {
           "xaxis": {
            "backgroundcolor": "#E5ECF6",
            "gridcolor": "white",
            "gridwidth": 2,
            "linecolor": "white",
            "showbackground": true,
            "ticks": "",
            "zerolinecolor": "white"
           },
           "yaxis": {
            "backgroundcolor": "#E5ECF6",
            "gridcolor": "white",
            "gridwidth": 2,
            "linecolor": "white",
            "showbackground": true,
            "ticks": "",
            "zerolinecolor": "white"
           },
           "zaxis": {
            "backgroundcolor": "#E5ECF6",
            "gridcolor": "white",
            "gridwidth": 2,
            "linecolor": "white",
            "showbackground": true,
            "ticks": "",
            "zerolinecolor": "white"
           }
          },
          "shapedefaults": {
           "line": {
            "color": "#2a3f5f"
           }
          },
          "ternary": {
           "aaxis": {
            "gridcolor": "white",
            "linecolor": "white",
            "ticks": ""
           },
           "baxis": {
            "gridcolor": "white",
            "linecolor": "white",
            "ticks": ""
           },
           "bgcolor": "#E5ECF6",
           "caxis": {
            "gridcolor": "white",
            "linecolor": "white",
            "ticks": ""
           }
          },
          "title": {
           "x": 0.05
          },
          "xaxis": {
           "automargin": true,
           "gridcolor": "white",
           "linecolor": "white",
           "ticks": "",
           "title": {
            "standoff": 15
           },
           "zerolinecolor": "white",
           "zerolinewidth": 2
          },
          "yaxis": {
           "automargin": true,
           "gridcolor": "white",
           "linecolor": "white",
           "ticks": "",
           "title": {
            "standoff": 15
           },
           "zerolinecolor": "white",
           "zerolinewidth": 2
          }
         }
        },
        "title": {
         "text": "🌍 Global Financial Power Score by Country"
        }
       }
      }
     },
     "metadata": {},
     "output_type": "display_data"
    }
   ],
   "source": [
    "fig = px.choropleth(\n",
    "    full_country_stats,\n",
    "    locations=\"Country\",\n",
    "    locationmode=\"country names\",\n",
    "    color=\"Financial_Power_Score\",\n",
    "    title=\"🌍 Global Financial Power Score by Country\",\n",
    "    color_continuous_scale=\"Viridis\"\n",
    ")\n",
    "fig.show()\n"
   ]
  },
  {
   "cell_type": "code",
   "execution_count": 18,
   "metadata": {},
   "outputs": [
    {
     "data": {
      "application/vnd.plotly.v1+json": {
       "config": {
        "plotlyServerURL": "https://plot.ly"
       },
       "data": [
        {
         "customdata": [
          [
           7623257142,
           308,
           0,
           3,
           0,
           3
          ]
         ],
         "hovertemplate": "<b>%{hovertext}</b><br><br>Country=France<br>Average Revenue (USD)=%{x:,.0f}<br>Average Earnings (USD)=%{y:,.0f}<br>Companies=%{customdata[1]}<br>Avg_MarketCap=%{customdata[0]:,.0f}<br>Gold=%{customdata[2]}<br>Silver=%{customdata[3]}<br>Bronze=%{customdata[4]}<br>Total=%{customdata[5]}<extra></extra>",
         "hovertext": [
          "France"
         ],
         "legendgroup": "France",
         "marker": {
          "color": "#636efa",
          "size": [
           308
          ],
          "sizemode": "area",
          "sizeref": 9.3,
          "symbol": "circle"
         },
         "mode": "markers",
         "name": "France",
         "orientation": "v",
         "showlegend": true,
         "type": "scatter",
         "x": [
          7342948563
         ],
         "xaxis": "x",
         "y": [
          683389300
         ],
         "yaxis": "y"
        },
        {
         "customdata": [
          [
           9907296847,
           196,
           0,
           3,
           0,
           3
          ]
         ],
         "hovertemplate": "<b>%{hovertext}</b><br><br>Country=Switzerland<br>Average Revenue (USD)=%{x:,.0f}<br>Average Earnings (USD)=%{y:,.0f}<br>Companies=%{customdata[1]}<br>Avg_MarketCap=%{customdata[0]:,.0f}<br>Gold=%{customdata[2]}<br>Silver=%{customdata[3]}<br>Bronze=%{customdata[4]}<br>Total=%{customdata[5]}<extra></extra>",
         "hovertext": [
          "Switzerland"
         ],
         "legendgroup": "Switzerland",
         "marker": {
          "color": "#EF553B",
          "size": [
           196
          ],
          "sizemode": "area",
          "sizeref": 9.3,
          "symbol": "circle"
         },
         "mode": "markers",
         "name": "Switzerland",
         "orientation": "v",
         "showlegend": true,
         "type": "scatter",
         "x": [
          6459093807
         ],
         "xaxis": "x",
         "y": [
          871063095
         ],
         "yaxis": "y"
        },
        {
         "customdata": [
          [
           4995756616,
           148,
           0,
           0,
           3,
           3
          ]
         ],
         "hovertemplate": "<b>%{hovertext}</b><br><br>Country=Hong Kong<br>Average Revenue (USD)=%{x:,.0f}<br>Average Earnings (USD)=%{y:,.0f}<br>Companies=%{customdata[1]}<br>Avg_MarketCap=%{customdata[0]:,.0f}<br>Gold=%{customdata[2]}<br>Silver=%{customdata[3]}<br>Bronze=%{customdata[4]}<br>Total=%{customdata[5]}<extra></extra>",
         "hovertext": [
          "Hong Kong"
         ],
         "legendgroup": "Hong Kong",
         "marker": {
          "color": "#00cc96",
          "size": [
           148
          ],
          "sizemode": "area",
          "sizeref": 9.3,
          "symbol": "circle"
         },
         "mode": "markers",
         "name": "Hong Kong",
         "orientation": "v",
         "showlegend": true,
         "type": "scatter",
         "x": [
          5083480950
         ],
         "xaxis": "x",
         "y": [
          685616513
         ],
         "yaxis": "y"
        },
        {
         "customdata": [
          [
           5048395597,
           378,
           1,
           2,
           0,
           3
          ]
         ],
         "hovertemplate": "<b>%{hovertext}</b><br><br>Country=Germany<br>Average Revenue (USD)=%{x:,.0f}<br>Average Earnings (USD)=%{y:,.0f}<br>Companies=%{customdata[1]}<br>Avg_MarketCap=%{customdata[0]:,.0f}<br>Gold=%{customdata[2]}<br>Silver=%{customdata[3]}<br>Bronze=%{customdata[4]}<br>Total=%{customdata[5]}<extra></extra>",
         "hovertext": [
          "Germany"
         ],
         "legendgroup": "Germany",
         "marker": {
          "color": "#ab63fa",
          "size": [
           378
          ],
          "sizemode": "area",
          "sizeref": 9.3,
          "symbol": "circle"
         },
         "mode": "markers",
         "name": "Germany",
         "orientation": "v",
         "showlegend": true,
         "type": "scatter",
         "x": [
          7415612039
         ],
         "xaxis": "x",
         "y": [
          581646284
         ],
         "yaxis": "y"
        },
        {
         "customdata": [
          [
           11326031272,
           348,
           3,
           0,
           0,
           3
          ]
         ],
         "hovertemplate": "<b>%{hovertext}</b><br><br>Country=Japan<br>Average Revenue (USD)=%{x:,.0f}<br>Average Earnings (USD)=%{y:,.0f}<br>Companies=%{customdata[1]}<br>Avg_MarketCap=%{customdata[0]:,.0f}<br>Gold=%{customdata[2]}<br>Silver=%{customdata[3]}<br>Bronze=%{customdata[4]}<br>Total=%{customdata[5]}<extra></extra>",
         "hovertext": [
          "Japan"
         ],
         "legendgroup": "Japan",
         "marker": {
          "color": "#FFA15A",
          "size": [
           348
          ],
          "sizemode": "area",
          "sizeref": 9.3,
          "symbol": "circle"
         },
         "mode": "markers",
         "name": "Japan",
         "orientation": "v",
         "showlegend": true,
         "type": "scatter",
         "x": [
          12578933195
         ],
         "xaxis": "x",
         "y": [
          1280267358
         ],
         "yaxis": "y"
        },
        {
         "customdata": [
          [
           9190632952,
           225,
           1,
           1,
           1,
           3
          ]
         ],
         "hovertemplate": "<b>%{hovertext}</b><br><br>Country=Saudi Arabia<br>Average Revenue (USD)=%{x:,.0f}<br>Average Earnings (USD)=%{y:,.0f}<br>Companies=%{customdata[1]}<br>Avg_MarketCap=%{customdata[0]:,.0f}<br>Gold=%{customdata[2]}<br>Silver=%{customdata[3]}<br>Bronze=%{customdata[4]}<br>Total=%{customdata[5]}<extra></extra>",
         "hovertext": [
          "Saudi Arabia"
         ],
         "legendgroup": "Saudi Arabia",
         "marker": {
          "color": "#19d3f3",
          "size": [
           225
          ],
          "sizemode": "area",
          "sizeref": 9.3,
          "symbol": "circle"
         },
         "mode": "markers",
         "name": "Saudi Arabia",
         "orientation": "v",
         "showlegend": true,
         "type": "scatter",
         "x": [
          3366973617
         ],
         "xaxis": "x",
         "y": [
          1225676919
         ],
         "yaxis": "y"
        },
        {
         "customdata": [
          [
           3926408056,
           343,
           0,
           0,
           3,
           3
          ]
         ],
         "hovertemplate": "<b>%{hovertext}</b><br><br>Country=Australia<br>Average Revenue (USD)=%{x:,.0f}<br>Average Earnings (USD)=%{y:,.0f}<br>Companies=%{customdata[1]}<br>Avg_MarketCap=%{customdata[0]:,.0f}<br>Gold=%{customdata[2]}<br>Silver=%{customdata[3]}<br>Bronze=%{customdata[4]}<br>Total=%{customdata[5]}<extra></extra>",
         "hovertext": [
          "Australia"
         ],
         "legendgroup": "Australia",
         "marker": {
          "color": "#FF6692",
          "size": [
           343
          ],
          "sizemode": "area",
          "sizeref": 9.3,
          "symbol": "circle"
         },
         "mode": "markers",
         "name": "Australia",
         "orientation": "v",
         "showlegend": true,
         "type": "scatter",
         "x": [
          1909929017
         ],
         "xaxis": "x",
         "y": [
          330766975
         ],
         "yaxis": "y"
        },
        {
         "customdata": [
          [
           8763533853,
           104,
           0,
           1,
           2,
           3
          ]
         ],
         "hovertemplate": "<b>%{hovertext}</b><br><br>Country=South Korea<br>Average Revenue (USD)=%{x:,.0f}<br>Average Earnings (USD)=%{y:,.0f}<br>Companies=%{customdata[1]}<br>Avg_MarketCap=%{customdata[0]:,.0f}<br>Gold=%{customdata[2]}<br>Silver=%{customdata[3]}<br>Bronze=%{customdata[4]}<br>Total=%{customdata[5]}<extra></extra>",
         "hovertext": [
          "South Korea"
         ],
         "legendgroup": "South Korea",
         "marker": {
          "color": "#B6E880",
          "size": [
           104
          ],
          "sizemode": "area",
          "sizeref": 9.3,
          "symbol": "circle"
         },
         "mode": "markers",
         "name": "South Korea",
         "orientation": "v",
         "showlegend": true,
         "type": "scatter",
         "x": [
          13642306659
         ],
         "xaxis": "x",
         "y": [
          1210048247
         ],
         "yaxis": "y"
        },
        {
         "customdata": [
          [
           6272198466,
           586,
           2,
           1,
           0,
           3
          ]
         ],
         "hovertemplate": "<b>%{hovertext}</b><br><br>Country=India<br>Average Revenue (USD)=%{x:,.0f}<br>Average Earnings (USD)=%{y:,.0f}<br>Companies=%{customdata[1]}<br>Avg_MarketCap=%{customdata[0]:,.0f}<br>Gold=%{customdata[2]}<br>Silver=%{customdata[3]}<br>Bronze=%{customdata[4]}<br>Total=%{customdata[5]}<extra></extra>",
         "hovertext": [
          "India"
         ],
         "legendgroup": "India",
         "marker": {
          "color": "#FF97FF",
          "size": [
           586
          ],
          "sizemode": "area",
          "sizeref": 9.3,
          "symbol": "circle"
         },
         "mode": "markers",
         "name": "India",
         "orientation": "v",
         "showlegend": true,
         "type": "scatter",
         "x": [
          2913324245
         ],
         "xaxis": "x",
         "y": [
          418249909
         ],
         "yaxis": "y"
        },
        {
         "customdata": [
          [
           17780550269,
           319,
           3,
           0,
           0,
           3
          ]
         ],
         "hovertemplate": "<b>%{hovertext}</b><br><br>Country=China<br>Average Revenue (USD)=%{x:,.0f}<br>Average Earnings (USD)=%{y:,.0f}<br>Companies=%{customdata[1]}<br>Avg_MarketCap=%{customdata[0]:,.0f}<br>Gold=%{customdata[2]}<br>Silver=%{customdata[3]}<br>Bronze=%{customdata[4]}<br>Total=%{customdata[5]}<extra></extra>",
         "hovertext": [
          "China"
         ],
         "legendgroup": "China",
         "marker": {
          "color": "#FECB52",
          "size": [
           319
          ],
          "sizemode": "area",
          "sizeref": 9.3,
          "symbol": "circle"
         },
         "mode": "markers",
         "name": "China",
         "orientation": "v",
         "showlegend": true,
         "type": "scatter",
         "x": [
          17640377528
         ],
         "xaxis": "x",
         "y": [
          2643617895
         ],
         "yaxis": "y"
        },
        {
         "customdata": [
          [
           4394488844,
           193,
           0,
           0,
           3,
           3
          ]
         ],
         "hovertemplate": "<b>%{hovertext}</b><br><br>Country=Sweden<br>Average Revenue (USD)=%{x:,.0f}<br>Average Earnings (USD)=%{y:,.0f}<br>Companies=%{customdata[1]}<br>Avg_MarketCap=%{customdata[0]:,.0f}<br>Gold=%{customdata[2]}<br>Silver=%{customdata[3]}<br>Bronze=%{customdata[4]}<br>Total=%{customdata[5]}<extra></extra>",
         "hovertext": [
          "Sweden"
         ],
         "legendgroup": "Sweden",
         "marker": {
          "color": "#636efa",
          "size": [
           193
          ],
          "sizemode": "area",
          "sizeref": 9.3,
          "symbol": "circle"
         },
         "mode": "markers",
         "name": "Sweden",
         "orientation": "v",
         "showlegend": true,
         "type": "scatter",
         "x": [
          2720235309
         ],
         "xaxis": "x",
         "y": [
          321648315
         ],
         "yaxis": "y"
        },
        {
         "customdata": [
          [
           10510095815,
           65,
           0,
           0,
           3,
           3
          ]
         ],
         "hovertemplate": "<b>%{hovertext}</b><br><br>Country=Spain<br>Average Revenue (USD)=%{x:,.0f}<br>Average Earnings (USD)=%{y:,.0f}<br>Companies=%{customdata[1]}<br>Avg_MarketCap=%{customdata[0]:,.0f}<br>Gold=%{customdata[2]}<br>Silver=%{customdata[3]}<br>Bronze=%{customdata[4]}<br>Total=%{customdata[5]}<extra></extra>",
         "hovertext": [
          "Spain"
         ],
         "legendgroup": "Spain",
         "marker": {
          "color": "#EF553B",
          "size": [
           65
          ],
          "sizemode": "area",
          "sizeref": 9.3,
          "symbol": "circle"
         },
         "mode": "markers",
         "name": "Spain",
         "orientation": "v",
         "showlegend": true,
         "type": "scatter",
         "x": [
          9920198853
         ],
         "xaxis": "x",
         "y": [
          1460637690
         ],
         "yaxis": "y"
        },
        {
         "customdata": [
          [
           4815198812,
           471,
           0,
           3,
           0,
           3
          ]
         ],
         "hovertemplate": "<b>%{hovertext}</b><br><br>Country=Canada<br>Average Revenue (USD)=%{x:,.0f}<br>Average Earnings (USD)=%{y:,.0f}<br>Companies=%{customdata[1]}<br>Avg_MarketCap=%{customdata[0]:,.0f}<br>Gold=%{customdata[2]}<br>Silver=%{customdata[3]}<br>Bronze=%{customdata[4]}<br>Total=%{customdata[5]}<extra></extra>",
         "hovertext": [
          "Canada"
         ],
         "legendgroup": "Canada",
         "marker": {
          "color": "#00cc96",
          "size": [
           471
          ],
          "sizemode": "area",
          "sizeref": 9.3,
          "symbol": "circle"
         },
         "mode": "markers",
         "name": "Canada",
         "orientation": "v",
         "showlegend": true,
         "type": "scatter",
         "x": [
          3417736280
         ],
         "xaxis": "x",
         "y": [
          470717266
         ],
         "yaxis": "y"
        },
        {
         "customdata": [
          [
           15776542457,
           65,
           0,
           0,
           3,
           3
          ]
         ],
         "hovertemplate": "<b>%{hovertext}</b><br><br>Country=Netherlands<br>Average Revenue (USD)=%{x:,.0f}<br>Average Earnings (USD)=%{y:,.0f}<br>Companies=%{customdata[1]}<br>Avg_MarketCap=%{customdata[0]:,.0f}<br>Gold=%{customdata[2]}<br>Silver=%{customdata[3]}<br>Bronze=%{customdata[4]}<br>Total=%{customdata[5]}<extra></extra>",
         "hovertext": [
          "Netherlands"
         ],
         "legendgroup": "Netherlands",
         "marker": {
          "color": "#ab63fa",
          "size": [
           65
          ],
          "sizemode": "area",
          "sizeref": 9.3,
          "symbol": "circle"
         },
         "mode": "markers",
         "name": "Netherlands",
         "orientation": "v",
         "showlegend": true,
         "type": "scatter",
         "x": [
          12196269169
         ],
         "xaxis": "x",
         "y": [
          1065545320
         ],
         "yaxis": "y"
        },
        {
         "customdata": [
          [
           13568378670,
           101,
           0,
           0,
           3,
           3
          ]
         ],
         "hovertemplate": "<b>%{hovertext}</b><br><br>Country=Taiwan<br>Average Revenue (USD)=%{x:,.0f}<br>Average Earnings (USD)=%{y:,.0f}<br>Companies=%{customdata[1]}<br>Avg_MarketCap=%{customdata[0]:,.0f}<br>Gold=%{customdata[2]}<br>Silver=%{customdata[3]}<br>Bronze=%{customdata[4]}<br>Total=%{customdata[5]}<extra></extra>",
         "hovertext": [
          "Taiwan"
         ],
         "legendgroup": "Taiwan",
         "marker": {
          "color": "#FFA15A",
          "size": [
           101
          ],
          "sizemode": "area",
          "sizeref": 9.3,
          "symbol": "circle"
         },
         "mode": "markers",
         "name": "Taiwan",
         "orientation": "v",
         "showlegend": true,
         "type": "scatter",
         "x": [
          7324497281
         ],
         "xaxis": "x",
         "y": [
          1021282538
         ],
         "yaxis": "y"
        },
        {
         "customdata": [
          [
           6866673241,
           414,
           2,
           1,
           0,
           3
          ]
         ],
         "hovertemplate": "<b>%{hovertext}</b><br><br>Country=United Kingdom<br>Average Revenue (USD)=%{x:,.0f}<br>Average Earnings (USD)=%{y:,.0f}<br>Companies=%{customdata[1]}<br>Avg_MarketCap=%{customdata[0]:,.0f}<br>Gold=%{customdata[2]}<br>Silver=%{customdata[3]}<br>Bronze=%{customdata[4]}<br>Total=%{customdata[5]}<extra></extra>",
         "hovertext": [
          "United Kingdom"
         ],
         "legendgroup": "United Kingdom",
         "marker": {
          "color": "#19d3f3",
          "size": [
           414
          ],
          "sizemode": "area",
          "sizeref": 9.3,
          "symbol": "circle"
         },
         "mode": "markers",
         "name": "United Kingdom",
         "orientation": "v",
         "showlegend": true,
         "type": "scatter",
         "x": [
          5666205563
         ],
         "xaxis": "x",
         "y": [
          582934648
         ],
         "yaxis": "y"
        },
        {
         "customdata": [
          [
           12012542558,
           3720,
           3,
           0,
           0,
           3
          ]
         ],
         "hovertemplate": "<b>%{hovertext}</b><br><br>Country=United States<br>Average Revenue (USD)=%{x:,.0f}<br>Average Earnings (USD)=%{y:,.0f}<br>Companies=%{customdata[1]}<br>Avg_MarketCap=%{customdata[0]:,.0f}<br>Gold=%{customdata[2]}<br>Silver=%{customdata[3]}<br>Bronze=%{customdata[4]}<br>Total=%{customdata[5]}<extra></extra>",
         "hovertext": [
          "United States"
         ],
         "legendgroup": "United States",
         "marker": {
          "color": "#FF6692",
          "size": [
           3720
          ],
          "sizemode": "area",
          "sizeref": 9.3,
          "symbol": "circle"
         },
         "mode": "markers",
         "name": "United States",
         "orientation": "v",
         "showlegend": true,
         "type": "scatter",
         "x": [
          5855073618
         ],
         "xaxis": "x",
         "y": [
          696450335
         ],
         "yaxis": "y"
        },
        {
         "customdata": [
          [
           18002822874,
           45,
           0,
           0,
           2,
           2
          ]
         ],
         "hovertemplate": "<b>%{hovertext}</b><br><br>Country=Ireland<br>Average Revenue (USD)=%{x:,.0f}<br>Average Earnings (USD)=%{y:,.0f}<br>Companies=%{customdata[1]}<br>Avg_MarketCap=%{customdata[0]:,.0f}<br>Gold=%{customdata[2]}<br>Silver=%{customdata[3]}<br>Bronze=%{customdata[4]}<br>Total=%{customdata[5]}<extra></extra>",
         "hovertext": [
          "Ireland"
         ],
         "legendgroup": "Ireland",
         "marker": {
          "color": "#B6E880",
          "size": [
           45
          ],
          "sizemode": "area",
          "sizeref": 9.3,
          "symbol": "circle"
         },
         "mode": "markers",
         "name": "Ireland",
         "orientation": "v",
         "showlegend": true,
         "type": "scatter",
         "x": [
          9053105386
         ],
         "xaxis": "x",
         "y": [
          1155260998
         ],
         "yaxis": "y"
        },
        {
         "customdata": [
          [
           7289551362,
           84,
           0,
           0,
           2,
           2
          ]
         ],
         "hovertemplate": "<b>%{hovertext}</b><br><br>Country=Brazil<br>Average Revenue (USD)=%{x:,.0f}<br>Average Earnings (USD)=%{y:,.0f}<br>Companies=%{customdata[1]}<br>Avg_MarketCap=%{customdata[0]:,.0f}<br>Gold=%{customdata[2]}<br>Silver=%{customdata[3]}<br>Bronze=%{customdata[4]}<br>Total=%{customdata[5]}<extra></extra>",
         "hovertext": [
          "Brazil"
         ],
         "legendgroup": "Brazil",
         "marker": {
          "color": "#FF97FF",
          "size": [
           84
          ],
          "sizemode": "area",
          "sizeref": 9.3,
          "symbol": "circle"
         },
         "mode": "markers",
         "name": "Brazil",
         "orientation": "v",
         "showlegend": true,
         "type": "scatter",
         "x": [
          9998948928
         ],
         "xaxis": "x",
         "y": [
          1181275106
         ],
         "yaxis": "y"
        },
        {
         "customdata": [
          [
           6890152211,
           93,
           0,
           0,
           2,
           2
          ]
         ],
         "hovertemplate": "<b>%{hovertext}</b><br><br>Country=Italy<br>Average Revenue (USD)=%{x:,.0f}<br>Average Earnings (USD)=%{y:,.0f}<br>Companies=%{customdata[1]}<br>Avg_MarketCap=%{customdata[0]:,.0f}<br>Gold=%{customdata[2]}<br>Silver=%{customdata[3]}<br>Bronze=%{customdata[4]}<br>Total=%{customdata[5]}<extra></extra>",
         "hovertext": [
          "Italy"
         ],
         "legendgroup": "Italy",
         "marker": {
          "color": "#FECB52",
          "size": [
           93
          ],
          "sizemode": "area",
          "sizeref": 9.3,
          "symbol": "circle"
         },
         "mode": "markers",
         "name": "Italy",
         "orientation": "v",
         "showlegend": true,
         "type": "scatter",
         "x": [
          7484325647
         ],
         "xaxis": "x",
         "y": [
          1029938111
         ],
         "yaxis": "y"
        },
        {
         "customdata": [
          [
           11548008454,
           60,
           0,
           0,
           1,
           1
          ]
         ],
         "hovertemplate": "<b>%{hovertext}</b><br><br>Country=Denmark<br>Average Revenue (USD)=%{x:,.0f}<br>Average Earnings (USD)=%{y:,.0f}<br>Companies=%{customdata[1]}<br>Avg_MarketCap=%{customdata[0]:,.0f}<br>Gold=%{customdata[2]}<br>Silver=%{customdata[3]}<br>Bronze=%{customdata[4]}<br>Total=%{customdata[5]}<extra></extra>",
         "hovertext": [
          "Denmark"
         ],
         "legendgroup": "Denmark",
         "marker": {
          "color": "#636efa",
          "size": [
           60
          ],
          "sizemode": "area",
          "sizeref": 9.3,
          "symbol": "circle"
         },
         "mode": "markers",
         "name": "Denmark",
         "orientation": "v",
         "showlegend": true,
         "type": "scatter",
         "x": [
          4026350836
         ],
         "xaxis": "x",
         "y": [
          263060456
         ],
         "yaxis": "y"
        },
        {
         "customdata": [
          [
           2288494538,
           103,
           0,
           0,
           1,
           1
          ]
         ],
         "hovertemplate": "<b>%{hovertext}</b><br><br>Country=Norway<br>Average Revenue (USD)=%{x:,.0f}<br>Average Earnings (USD)=%{y:,.0f}<br>Companies=%{customdata[1]}<br>Avg_MarketCap=%{customdata[0]:,.0f}<br>Gold=%{customdata[2]}<br>Silver=%{customdata[3]}<br>Bronze=%{customdata[4]}<br>Total=%{customdata[5]}<extra></extra>",
         "hovertext": [
          "Norway"
         ],
         "legendgroup": "Norway",
         "marker": {
          "color": "#EF553B",
          "size": [
           103
          ],
          "sizemode": "area",
          "sizeref": 9.3,
          "symbol": "circle"
         },
         "mode": "markers",
         "name": "Norway",
         "orientation": "v",
         "showlegend": true,
         "type": "scatter",
         "x": [
          2662039699
         ],
         "xaxis": "x",
         "y": [
          618228758
         ],
         "yaxis": "y"
        },
        {
         "customdata": [
          [
           5224291408,
           145,
           0,
           0,
           1,
           1
          ]
         ],
         "hovertemplate": "<b>%{hovertext}</b><br><br>Country=United Arab Emirates<br>Average Revenue (USD)=%{x:,.0f}<br>Average Earnings (USD)=%{y:,.0f}<br>Companies=%{customdata[1]}<br>Avg_MarketCap=%{customdata[0]:,.0f}<br>Gold=%{customdata[2]}<br>Silver=%{customdata[3]}<br>Bronze=%{customdata[4]}<br>Total=%{customdata[5]}<extra></extra>",
         "hovertext": [
          "United Arab Emirates"
         ],
         "legendgroup": "United Arab Emirates",
         "marker": {
          "color": "#00cc96",
          "size": [
           145
          ],
          "sizemode": "area",
          "sizeref": 9.3,
          "symbol": "circle"
         },
         "mode": "markers",
         "name": "United Arab Emirates",
         "orientation": "v",
         "showlegend": true,
         "type": "scatter",
         "x": [
          -87205738
         ],
         "xaxis": "x",
         "y": [
          219340987
         ],
         "yaxis": "y"
        },
        {
         "customdata": [
          [
           1936062140,
           2,
           0,
           0,
           0,
           0
          ]
         ],
         "hovertemplate": "<b>%{hovertext}</b><br><br>Country=Panama<br>Average Revenue (USD)=%{x:,.0f}<br>Average Earnings (USD)=%{y:,.0f}<br>Companies=%{customdata[1]}<br>Avg_MarketCap=%{customdata[0]:,.0f}<br>Gold=%{customdata[2]}<br>Silver=%{customdata[3]}<br>Bronze=%{customdata[4]}<br>Total=%{customdata[5]}<extra></extra>",
         "hovertext": [
          "Panama"
         ],
         "legendgroup": "Panama",
         "marker": {
          "color": "#ab63fa",
          "size": [
           2
          ],
          "sizemode": "area",
          "sizeref": 9.3,
          "symbol": "circle"
         },
         "mode": "markers",
         "name": "Panama",
         "orientation": "v",
         "showlegend": true,
         "type": "scatter",
         "x": [
          1880913500
         ],
         "xaxis": "x",
         "y": [
          483313500
         ],
         "yaxis": "y"
        },
        {
         "customdata": [
          [
           1508540368,
           4,
           0,
           0,
           0,
           0
          ]
         ],
         "hovertemplate": "<b>%{hovertext}</b><br><br>Country=Monaco<br>Average Revenue (USD)=%{x:,.0f}<br>Average Earnings (USD)=%{y:,.0f}<br>Companies=%{customdata[1]}<br>Avg_MarketCap=%{customdata[0]:,.0f}<br>Gold=%{customdata[2]}<br>Silver=%{customdata[3]}<br>Bronze=%{customdata[4]}<br>Total=%{customdata[5]}<extra></extra>",
         "hovertext": [
          "Monaco"
         ],
         "legendgroup": "Monaco",
         "marker": {
          "color": "#FFA15A",
          "size": [
           4
          ],
          "sizemode": "area",
          "sizeref": 9.3,
          "symbol": "circle"
         },
         "mode": "markers",
         "name": "Monaco",
         "orientation": "v",
         "showlegend": true,
         "type": "scatter",
         "x": [
          1225962500
         ],
         "xaxis": "x",
         "y": [
          492492000
         ],
         "yaxis": "y"
        },
        {
         "customdata": [
          [
           385833032,
           45,
           0,
           0,
           0,
           0
          ]
         ],
         "hovertemplate": "<b>%{hovertext}</b><br><br>Country=Oman<br>Average Revenue (USD)=%{x:,.0f}<br>Average Earnings (USD)=%{y:,.0f}<br>Companies=%{customdata[1]}<br>Avg_MarketCap=%{customdata[0]:,.0f}<br>Gold=%{customdata[2]}<br>Silver=%{customdata[3]}<br>Bronze=%{customdata[4]}<br>Total=%{customdata[5]}<extra></extra>",
         "hovertext": [
          "Oman"
         ],
         "legendgroup": "Oman",
         "marker": {
          "color": "#19d3f3",
          "size": [
           45
          ],
          "sizemode": "area",
          "sizeref": 9.3,
          "symbol": "circle"
         },
         "mode": "markers",
         "name": "Oman",
         "orientation": "v",
         "showlegend": true,
         "type": "scatter",
         "x": [
          0
         ],
         "xaxis": "x",
         "y": [
          0
         ],
         "yaxis": "y"
        },
        {
         "customdata": [
          [
           507997220,
           38,
           0,
           0,
           0,
           0
          ]
         ],
         "hovertemplate": "<b>%{hovertext}</b><br><br>Country=Pakistan<br>Average Revenue (USD)=%{x:,.0f}<br>Average Earnings (USD)=%{y:,.0f}<br>Companies=%{customdata[1]}<br>Avg_MarketCap=%{customdata[0]:,.0f}<br>Gold=%{customdata[2]}<br>Silver=%{customdata[3]}<br>Bronze=%{customdata[4]}<br>Total=%{customdata[5]}<extra></extra>",
         "hovertext": [
          "Pakistan"
         ],
         "legendgroup": "Pakistan",
         "marker": {
          "color": "#FF6692",
          "size": [
           38
          ],
          "sizemode": "area",
          "sizeref": 9.3,
          "symbol": "circle"
         },
         "mode": "markers",
         "name": "Pakistan",
         "orientation": "v",
         "showlegend": true,
         "type": "scatter",
         "x": [
          0
         ],
         "xaxis": "x",
         "y": [
          0
         ],
         "yaxis": "y"
        },
        {
         "customdata": [
          [
           2201087605,
           37,
           0,
           0,
           0,
           0
          ]
         ],
         "hovertemplate": "<b>%{hovertext}</b><br><br>Country=New Zealand<br>Average Revenue (USD)=%{x:,.0f}<br>Average Earnings (USD)=%{y:,.0f}<br>Companies=%{customdata[1]}<br>Avg_MarketCap=%{customdata[0]:,.0f}<br>Gold=%{customdata[2]}<br>Silver=%{customdata[3]}<br>Bronze=%{customdata[4]}<br>Total=%{customdata[5]}<extra></extra>",
         "hovertext": [
          "New Zealand"
         ],
         "legendgroup": "New Zealand",
         "marker": {
          "color": "#B6E880",
          "size": [
           37
          ],
          "sizemode": "area",
          "sizeref": 9.3,
          "symbol": "circle"
         },
         "mode": "markers",
         "name": "New Zealand",
         "orientation": "v",
         "showlegend": true,
         "type": "scatter",
         "x": [
          1497482098
         ],
         "xaxis": "x",
         "y": [
          102924218
         ],
         "yaxis": "y"
        },
        {
         "customdata": [
          [
           755460373,
           1,
           0,
           0,
           0,
           0
          ]
         ],
         "hovertemplate": "<b>%{hovertext}</b><br><br>Country=Nigeria<br>Average Revenue (USD)=%{x:,.0f}<br>Average Earnings (USD)=%{y:,.0f}<br>Companies=%{customdata[1]}<br>Avg_MarketCap=%{customdata[0]:,.0f}<br>Gold=%{customdata[2]}<br>Silver=%{customdata[3]}<br>Bronze=%{customdata[4]}<br>Total=%{customdata[5]}<extra></extra>",
         "hovertext": [
          "Nigeria"
         ],
         "legendgroup": "Nigeria",
         "marker": {
          "color": "#FF97FF",
          "size": [
           1
          ],
          "sizemode": "area",
          "sizeref": 9.3,
          "symbol": "circle"
         },
         "mode": "markers",
         "name": "Nigeria",
         "orientation": "v",
         "showlegend": true,
         "type": "scatter",
         "x": [
          1767391607
         ],
         "xaxis": "x",
         "y": [
          1137820000
         ],
         "yaxis": "y"
        },
        {
         "customdata": [
          [
           1707917597,
           3,
           0,
           0,
           0,
           0
          ]
         ],
         "hovertemplate": "<b>%{hovertext}</b><br><br>Country=Peru<br>Average Revenue (USD)=%{x:,.0f}<br>Average Earnings (USD)=%{y:,.0f}<br>Companies=%{customdata[1]}<br>Avg_MarketCap=%{customdata[0]:,.0f}<br>Gold=%{customdata[2]}<br>Silver=%{customdata[3]}<br>Bronze=%{customdata[4]}<br>Total=%{customdata[5]}<extra></extra>",
         "hovertext": [
          "Peru"
         ],
         "legendgroup": "Peru",
         "marker": {
          "color": "#FECB52",
          "size": [
           3
          ],
          "sizemode": "area",
          "sizeref": 9.3,
          "symbol": "circle"
         },
         "mode": "markers",
         "name": "Peru",
         "orientation": "v",
         "showlegend": true,
         "type": "scatter",
         "x": [
          1260684965
         ],
         "xaxis": "x",
         "y": [
          184407133
         ],
         "yaxis": "y"
        },
        {
         "customdata": [
          [
           6714590307,
           19,
           0,
           0,
           0,
           0
          ]
         ],
         "hovertemplate": "<b>%{hovertext}</b><br><br>Country=Argentina<br>Average Revenue (USD)=%{x:,.0f}<br>Average Earnings (USD)=%{y:,.0f}<br>Companies=%{customdata[1]}<br>Avg_MarketCap=%{customdata[0]:,.0f}<br>Gold=%{customdata[2]}<br>Silver=%{customdata[3]}<br>Bronze=%{customdata[4]}<br>Total=%{customdata[5]}<extra></extra>",
         "hovertext": [
          "Argentina"
         ],
         "legendgroup": "Argentina",
         "marker": {
          "color": "#636efa",
          "size": [
           19
          ],
          "sizemode": "area",
          "sizeref": 9.3,
          "symbol": "circle"
         },
         "mode": "markers",
         "name": "Argentina",
         "orientation": "v",
         "showlegend": true,
         "type": "scatter",
         "x": [
          3403506426
         ],
         "xaxis": "x",
         "y": [
          518116053
         ],
         "yaxis": "y"
        },
        {
         "customdata": [
          [
           7339369004,
           13,
           0,
           0,
           0,
           0
          ]
         ],
         "hovertemplate": "<b>%{hovertext}</b><br><br>Country=Philippines<br>Average Revenue (USD)=%{x:,.0f}<br>Average Earnings (USD)=%{y:,.0f}<br>Companies=%{customdata[1]}<br>Avg_MarketCap=%{customdata[0]:,.0f}<br>Gold=%{customdata[2]}<br>Silver=%{customdata[3]}<br>Bronze=%{customdata[4]}<br>Total=%{customdata[5]}<extra></extra>",
         "hovertext": [
          "Philippines"
         ],
         "legendgroup": "Philippines",
         "marker": {
          "color": "#EF553B",
          "size": [
           13
          ],
          "sizemode": "area",
          "sizeref": 9.3,
          "symbol": "circle"
         },
         "mode": "markers",
         "name": "Philippines",
         "orientation": "v",
         "showlegend": true,
         "type": "scatter",
         "x": [
          3825378591
         ],
         "xaxis": "x",
         "y": [
          1080023462
         ],
         "yaxis": "y"
        },
        {
         "customdata": [
          [
           1270402050,
           107,
           0,
           0,
           0,
           0
          ]
         ],
         "hovertemplate": "<b>%{hovertext}</b><br><br>Country=Poland<br>Average Revenue (USD)=%{x:,.0f}<br>Average Earnings (USD)=%{y:,.0f}<br>Companies=%{customdata[1]}<br>Avg_MarketCap=%{customdata[0]:,.0f}<br>Gold=%{customdata[2]}<br>Silver=%{customdata[3]}<br>Bronze=%{customdata[4]}<br>Total=%{customdata[5]}<extra></extra>",
         "hovertext": [
          "Poland"
         ],
         "legendgroup": "Poland",
         "marker": {
          "color": "#00cc96",
          "size": [
           107
          ],
          "sizemode": "area",
          "sizeref": 9.3,
          "symbol": "circle"
         },
         "mode": "markers",
         "name": "Poland",
         "orientation": "v",
         "showlegend": true,
         "type": "scatter",
         "x": [
          2244239625
         ],
         "xaxis": "x",
         "y": [
          204953683
         ],
         "yaxis": "y"
        },
        {
         "customdata": [
          [
           3209152414,
           17,
           0,
           0,
           0,
           0
          ]
         ],
         "hovertemplate": "<b>%{hovertext}</b><br><br>Country=Portugal<br>Average Revenue (USD)=%{x:,.0f}<br>Average Earnings (USD)=%{y:,.0f}<br>Companies=%{customdata[1]}<br>Avg_MarketCap=%{customdata[0]:,.0f}<br>Gold=%{customdata[2]}<br>Silver=%{customdata[3]}<br>Bronze=%{customdata[4]}<br>Total=%{customdata[5]}<extra></extra>",
         "hovertext": [
          "Portugal"
         ],
         "legendgroup": "Portugal",
         "marker": {
          "color": "#ab63fa",
          "size": [
           17
          ],
          "sizemode": "area",
          "sizeref": 9.3,
          "symbol": "circle"
         },
         "mode": "markers",
         "name": "Portugal",
         "orientation": "v",
         "showlegend": true,
         "type": "scatter",
         "x": [
          5828480603
         ],
         "xaxis": "x",
         "y": [
          602581429
         ],
         "yaxis": "y"
        },
        {
         "customdata": [
          [
           2503169147,
           52,
           0,
           0,
           0,
           0
          ]
         ],
         "hovertemplate": "<b>%{hovertext}</b><br><br>Country=Qatar<br>Average Revenue (USD)=%{x:,.0f}<br>Average Earnings (USD)=%{y:,.0f}<br>Companies=%{customdata[1]}<br>Avg_MarketCap=%{customdata[0]:,.0f}<br>Gold=%{customdata[2]}<br>Silver=%{customdata[3]}<br>Bronze=%{customdata[4]}<br>Total=%{customdata[5]}<extra></extra>",
         "hovertext": [
          "Qatar"
         ],
         "legendgroup": "Qatar",
         "marker": {
          "color": "#FFA15A",
          "size": [
           52
          ],
          "sizemode": "area",
          "sizeref": 9.3,
          "symbol": "circle"
         },
         "mode": "markers",
         "name": "Qatar",
         "orientation": "v",
         "showlegend": true,
         "type": "scatter",
         "x": [
          964120787
         ],
         "xaxis": "x",
         "y": [
          308506426
         ],
         "yaxis": "y"
        },
        {
         "customdata": [
          [
           4667191257,
           3,
           0,
           0,
           0,
           0
          ]
         ],
         "hovertemplate": "<b>%{hovertext}</b><br><br>Country=Romania<br>Average Revenue (USD)=%{x:,.0f}<br>Average Earnings (USD)=%{y:,.0f}<br>Companies=%{customdata[1]}<br>Avg_MarketCap=%{customdata[0]:,.0f}<br>Gold=%{customdata[2]}<br>Silver=%{customdata[3]}<br>Bronze=%{customdata[4]}<br>Total=%{customdata[5]}<extra></extra>",
         "hovertext": [
          "Romania"
         ],
         "legendgroup": "Romania",
         "marker": {
          "color": "#19d3f3",
          "size": [
           3
          ],
          "sizemode": "area",
          "sizeref": 9.3,
          "symbol": "circle"
         },
         "mode": "markers",
         "name": "Romania",
         "orientation": "v",
         "showlegend": true,
         "type": "scatter",
         "x": [
          1352245189
         ],
         "xaxis": "x",
         "y": [
          494209000
         ],
         "yaxis": "y"
        },
        {
         "customdata": [
          [
           873439814,
           3,
           0,
           0,
           0,
           0
          ]
         ],
         "hovertemplate": "<b>%{hovertext}</b><br><br>Country=Malta<br>Average Revenue (USD)=%{x:,.0f}<br>Average Earnings (USD)=%{y:,.0f}<br>Companies=%{customdata[1]}<br>Avg_MarketCap=%{customdata[0]:,.0f}<br>Gold=%{customdata[2]}<br>Silver=%{customdata[3]}<br>Bronze=%{customdata[4]}<br>Total=%{customdata[5]}<extra></extra>",
         "hovertext": [
          "Malta"
         ],
         "legendgroup": "Malta",
         "marker": {
          "color": "#FF6692",
          "size": [
           3
          ],
          "sizemode": "area",
          "sizeref": 9.3,
          "symbol": "circle"
         },
         "mode": "markers",
         "name": "Malta",
         "orientation": "v",
         "showlegend": true,
         "type": "scatter",
         "x": [
          648641251
         ],
         "xaxis": "x",
         "y": [
          49297300
         ],
         "yaxis": "y"
        },
        {
         "customdata": [
          [
           15968673258,
           17,
           0,
           0,
           0,
           0
          ]
         ],
         "hovertemplate": "<b>%{hovertext}</b><br><br>Country=Russia<br>Average Revenue (USD)=%{x:,.0f}<br>Average Earnings (USD)=%{y:,.0f}<br>Companies=%{customdata[1]}<br>Avg_MarketCap=%{customdata[0]:,.0f}<br>Gold=%{customdata[2]}<br>Silver=%{customdata[3]}<br>Bronze=%{customdata[4]}<br>Total=%{customdata[5]}<extra></extra>",
         "hovertext": [
          "Russia"
         ],
         "legendgroup": "Russia",
         "marker": {
          "color": "#B6E880",
          "size": [
           17
          ],
          "sizemode": "area",
          "sizeref": 9.3,
          "symbol": "circle"
         },
         "mode": "markers",
         "name": "Russia",
         "orientation": "v",
         "showlegend": true,
         "type": "scatter",
         "x": [
          320265979
         ],
         "xaxis": "x",
         "y": [
          88374706
         ],
         "yaxis": "y"
        },
        {
         "customdata": [
          [
           5189072793,
           77,
           0,
           0,
           0,
           0
          ]
         ],
         "hovertemplate": "<b>%{hovertext}</b><br><br>Country=Singapore<br>Average Revenue (USD)=%{x:,.0f}<br>Average Earnings (USD)=%{y:,.0f}<br>Companies=%{customdata[1]}<br>Avg_MarketCap=%{customdata[0]:,.0f}<br>Gold=%{customdata[2]}<br>Silver=%{customdata[3]}<br>Bronze=%{customdata[4]}<br>Total=%{customdata[5]}<extra></extra>",
         "hovertext": [
          "Singapore"
         ],
         "legendgroup": "Singapore",
         "marker": {
          "color": "#FF97FF",
          "size": [
           77
          ],
          "sizemode": "area",
          "sizeref": 9.3,
          "symbol": "circle"
         },
         "mode": "markers",
         "name": "Singapore",
         "orientation": "v",
         "showlegend": true,
         "type": "scatter",
         "x": [
          3482400095
         ],
         "xaxis": "x",
         "y": [
          550168123
         ],
         "yaxis": "y"
        },
        {
         "customdata": [
          [
           4521230619,
           49,
           0,
           0,
           0,
           0
          ]
         ],
         "hovertemplate": "<b>%{hovertext}</b><br><br>Country=South Africa<br>Average Revenue (USD)=%{x:,.0f}<br>Average Earnings (USD)=%{y:,.0f}<br>Companies=%{customdata[1]}<br>Avg_MarketCap=%{customdata[0]:,.0f}<br>Gold=%{customdata[2]}<br>Silver=%{customdata[3]}<br>Bronze=%{customdata[4]}<br>Total=%{customdata[5]}<extra></extra>",
         "hovertext": [
          "South Africa"
         ],
         "legendgroup": "South Africa",
         "marker": {
          "color": "#FECB52",
          "size": [
           49
          ],
          "sizemode": "area",
          "sizeref": 9.3,
          "symbol": "circle"
         },
         "mode": "markers",
         "name": "South Africa",
         "orientation": "v",
         "showlegend": true,
         "type": "scatter",
         "x": [
          5019950179
         ],
         "xaxis": "x",
         "y": [
          530050007
         ],
         "yaxis": "y"
        },
        {
         "customdata": [
          [
           69419836,
           1,
           0,
           0,
           0,
           0
          ]
         ],
         "hovertemplate": "<b>%{hovertext}</b><br><br>Country=Sudan<br>Average Revenue (USD)=%{x:,.0f}<br>Average Earnings (USD)=%{y:,.0f}<br>Companies=%{customdata[1]}<br>Avg_MarketCap=%{customdata[0]:,.0f}<br>Gold=%{customdata[2]}<br>Silver=%{customdata[3]}<br>Bronze=%{customdata[4]}<br>Total=%{customdata[5]}<extra></extra>",
         "hovertext": [
          "Sudan"
         ],
         "legendgroup": "Sudan",
         "marker": {
          "color": "#636efa",
          "size": [
           1
          ],
          "sizemode": "area",
          "sizeref": 9.3,
          "symbol": "circle"
         },
         "mode": "markers",
         "name": "Sudan",
         "orientation": "v",
         "showlegend": true,
         "type": "scatter",
         "x": [
          0
         ],
         "xaxis": "x",
         "y": [
          0
         ],
         "yaxis": "y"
        },
        {
         "customdata": [
          [
           5107674819,
           59,
           0,
           0,
           0,
           0
          ]
         ],
         "hovertemplate": "<b>%{hovertext}</b><br><br>Country=Thailand<br>Average Revenue (USD)=%{x:,.0f}<br>Average Earnings (USD)=%{y:,.0f}<br>Companies=%{customdata[1]}<br>Avg_MarketCap=%{customdata[0]:,.0f}<br>Gold=%{customdata[2]}<br>Silver=%{customdata[3]}<br>Bronze=%{customdata[4]}<br>Total=%{customdata[5]}<extra></extra>",
         "hovertext": [
          "Thailand"
         ],
         "legendgroup": "Thailand",
         "marker": {
          "color": "#EF553B",
          "size": [
           59
          ],
          "sizemode": "area",
          "sizeref": 9.3,
          "symbol": "circle"
         },
         "mode": "markers",
         "name": "Thailand",
         "orientation": "v",
         "showlegend": true,
         "type": "scatter",
         "x": [
          5865209115
         ],
         "xaxis": "x",
         "y": [
          588821530
         ],
         "yaxis": "y"
        },
        {
         "customdata": [
          [
           4043700920,
           42,
           0,
           0,
           0,
           0
          ]
         ],
         "hovertemplate": "<b>%{hovertext}</b><br><br>Country=Turkey<br>Average Revenue (USD)=%{x:,.0f}<br>Average Earnings (USD)=%{y:,.0f}<br>Companies=%{customdata[1]}<br>Avg_MarketCap=%{customdata[0]:,.0f}<br>Gold=%{customdata[2]}<br>Silver=%{customdata[3]}<br>Bronze=%{customdata[4]}<br>Total=%{customdata[5]}<extra></extra>",
         "hovertext": [
          "Turkey"
         ],
         "legendgroup": "Turkey",
         "marker": {
          "color": "#00cc96",
          "size": [
           42
          ],
          "sizemode": "area",
          "sizeref": 9.3,
          "symbol": "circle"
         },
         "mode": "markers",
         "name": "Turkey",
         "orientation": "v",
         "showlegend": true,
         "type": "scatter",
         "x": [
          7721034057
         ],
         "xaxis": "x",
         "y": [
          1177380079
         ],
         "yaxis": "y"
        },
        {
         "customdata": [
          [
           1585352166,
           2,
           0,
           0,
           0,
           0
          ]
         ],
         "hovertemplate": "<b>%{hovertext}</b><br><br>Country=Uruguay<br>Average Revenue (USD)=%{x:,.0f}<br>Average Earnings (USD)=%{y:,.0f}<br>Companies=%{customdata[1]}<br>Avg_MarketCap=%{customdata[0]:,.0f}<br>Gold=%{customdata[2]}<br>Silver=%{customdata[3]}<br>Bronze=%{customdata[4]}<br>Total=%{customdata[5]}<extra></extra>",
         "hovertext": [
          "Uruguay"
         ],
         "legendgroup": "Uruguay",
         "marker": {
          "color": "#ab63fa",
          "size": [
           2
          ],
          "sizemode": "area",
          "sizeref": 9.3,
          "symbol": "circle"
         },
         "mode": "markers",
         "name": "Uruguay",
         "orientation": "v",
         "showlegend": true,
         "type": "scatter",
         "x": [
          2600228500
         ],
         "xaxis": "x",
         "y": [
          205559000
         ],
         "yaxis": "y"
        },
        {
         "customdata": [
          [
           12737329826,
           31,
           0,
           0,
           0,
           0
          ]
         ],
         "hovertemplate": "<b>%{hovertext}</b><br><br>Country=Mexico<br>Average Revenue (USD)=%{x:,.0f}<br>Average Earnings (USD)=%{y:,.0f}<br>Companies=%{customdata[1]}<br>Avg_MarketCap=%{customdata[0]:,.0f}<br>Gold=%{customdata[2]}<br>Silver=%{customdata[3]}<br>Bronze=%{customdata[4]}<br>Total=%{customdata[5]}<extra></extra>",
         "hovertext": [
          "Mexico"
         ],
         "legendgroup": "Mexico",
         "marker": {
          "color": "#FFA15A",
          "size": [
           31
          ],
          "sizemode": "area",
          "sizeref": 9.3,
          "symbol": "circle"
         },
         "mode": "markers",
         "name": "Mexico",
         "orientation": "v",
         "showlegend": true,
         "type": "scatter",
         "x": [
          9701113106
         ],
         "xaxis": "x",
         "y": [
          1353269016
         ],
         "yaxis": "y"
        },
        {
         "customdata": [
          [
           8418995785,
           4,
           0,
           0,
           0,
           0
          ]
         ],
         "hovertemplate": "<b>%{hovertext}</b><br><br>Country=Kazakhstan<br>Average Revenue (USD)=%{x:,.0f}<br>Average Earnings (USD)=%{y:,.0f}<br>Companies=%{customdata[1]}<br>Avg_MarketCap=%{customdata[0]:,.0f}<br>Gold=%{customdata[2]}<br>Silver=%{customdata[3]}<br>Bronze=%{customdata[4]}<br>Total=%{customdata[5]}<extra></extra>",
         "hovertext": [
          "Kazakhstan"
         ],
         "legendgroup": "Kazakhstan",
         "marker": {
          "color": "#19d3f3",
          "size": [
           4
          ],
          "sizemode": "area",
          "sizeref": 9.3,
          "symbol": "circle"
         },
         "mode": "markers",
         "name": "Kazakhstan",
         "orientation": "v",
         "showlegend": true,
         "type": "scatter",
         "x": [
          3165891273
         ],
         "xaxis": "x",
         "y": [
          1842141250
         ],
         "yaxis": "y"
        },
        {
         "customdata": [
          [
           4423461258,
           49,
           0,
           0,
           0,
           0
          ]
         ],
         "hovertemplate": "<b>%{hovertext}</b><br><br>Country=Malaysia<br>Average Revenue (USD)=%{x:,.0f}<br>Average Earnings (USD)=%{y:,.0f}<br>Companies=%{customdata[1]}<br>Avg_MarketCap=%{customdata[0]:,.0f}<br>Gold=%{customdata[2]}<br>Silver=%{customdata[3]}<br>Bronze=%{customdata[4]}<br>Total=%{customdata[5]}<extra></extra>",
         "hovertext": [
          "Malaysia"
         ],
         "legendgroup": "Malaysia",
         "marker": {
          "color": "#FF6692",
          "size": [
           49
          ],
          "sizemode": "area",
          "sizeref": 9.3,
          "symbol": "circle"
         },
         "mode": "markers",
         "name": "Malaysia",
         "orientation": "v",
         "showlegend": true,
         "type": "scatter",
         "x": [
          2472718872
         ],
         "xaxis": "x",
         "y": [
          458351051
         ],
         "yaxis": "y"
        },
        {
         "customdata": [
          [
           4028534302,
           2,
           0,
           0,
           0,
           0
          ]
         ],
         "hovertemplate": "<b>%{hovertext}</b><br><br>Country=Macau<br>Average Revenue (USD)=%{x:,.0f}<br>Average Earnings (USD)=%{y:,.0f}<br>Companies=%{customdata[1]}<br>Avg_MarketCap=%{customdata[0]:,.0f}<br>Gold=%{customdata[2]}<br>Silver=%{customdata[3]}<br>Bronze=%{customdata[4]}<br>Total=%{customdata[5]}<extra></extra>",
         "hovertext": [
          "Macau"
         ],
         "legendgroup": "Macau",
         "marker": {
          "color": "#B6E880",
          "size": [
           2
          ],
          "sizemode": "area",
          "sizeref": 9.3,
          "symbol": "circle"
         },
         "mode": "markers",
         "name": "Macau",
         "orientation": "v",
         "showlegend": true,
         "type": "scatter",
         "x": [
          698333536
         ],
         "xaxis": "x",
         "y": [
          -645931000
         ],
         "yaxis": "y"
        },
        {
         "customdata": [
          [
           2076770374,
           60,
           0,
           0,
           0,
           0
          ]
         ],
         "hovertemplate": "<b>%{hovertext}</b><br><br>Country=Austria<br>Average Revenue (USD)=%{x:,.0f}<br>Average Earnings (USD)=%{y:,.0f}<br>Companies=%{customdata[1]}<br>Avg_MarketCap=%{customdata[0]:,.0f}<br>Gold=%{customdata[2]}<br>Silver=%{customdata[3]}<br>Bronze=%{customdata[4]}<br>Total=%{customdata[5]}<extra></extra>",
         "hovertext": [
          "Austria"
         ],
         "legendgroup": "Austria",
         "marker": {
          "color": "#FF97FF",
          "size": [
           60
          ],
          "sizemode": "area",
          "sizeref": 9.3,
          "symbol": "circle"
         },
         "mode": "markers",
         "name": "Austria",
         "orientation": "v",
         "showlegend": true,
         "type": "scatter",
         "x": [
          3359665464
         ],
         "xaxis": "x",
         "y": [
          440348653
         ],
         "yaxis": "y"
        },
        {
         "customdata": [
          [
           666001939,
           2,
           0,
           0,
           0,
           0
          ]
         ],
         "hovertemplate": "<b>%{hovertext}</b><br><br>Country=Bahamas<br>Average Revenue (USD)=%{x:,.0f}<br>Average Earnings (USD)=%{y:,.0f}<br>Companies=%{customdata[1]}<br>Avg_MarketCap=%{customdata[0]:,.0f}<br>Gold=%{customdata[2]}<br>Silver=%{customdata[3]}<br>Bronze=%{customdata[4]}<br>Total=%{customdata[5]}<extra></extra>",
         "hovertext": [
          "Bahamas"
         ],
         "legendgroup": "Bahamas",
         "marker": {
          "color": "#FECB52",
          "size": [
           2
          ],
          "sizemode": "area",
          "sizeref": 9.3,
          "symbol": "circle"
         },
         "mode": "markers",
         "name": "Bahamas",
         "orientation": "v",
         "showlegend": true,
         "type": "scatter",
         "x": [
          423597000
         ],
         "xaxis": "x",
         "y": [
          33864000
         ],
         "yaxis": "y"
        },
        {
         "customdata": [
          [
           858457639,
           28,
           0,
           0,
           0,
           0
          ]
         ],
         "hovertemplate": "<b>%{hovertext}</b><br><br>Country=Bahrain<br>Average Revenue (USD)=%{x:,.0f}<br>Average Earnings (USD)=%{y:,.0f}<br>Companies=%{customdata[1]}<br>Avg_MarketCap=%{customdata[0]:,.0f}<br>Gold=%{customdata[2]}<br>Silver=%{customdata[3]}<br>Bronze=%{customdata[4]}<br>Total=%{customdata[5]}<extra></extra>",
         "hovertext": [
          "Bahrain"
         ],
         "legendgroup": "Bahrain",
         "marker": {
          "color": "#636efa",
          "size": [
           28
          ],
          "sizemode": "area",
          "sizeref": 9.3,
          "symbol": "circle"
         },
         "mode": "markers",
         "name": "Bahrain",
         "orientation": "v",
         "showlegend": true,
         "type": "scatter",
         "x": [
          404532811
         ],
         "xaxis": "x",
         "y": [
          109994335
         ],
         "yaxis": "y"
        },
        {
         "customdata": [
          [
           3624425062,
           75,
           0,
           0,
           0,
           0
          ]
         ],
         "hovertemplate": "<b>%{hovertext}</b><br><br>Country=Belgium<br>Average Revenue (USD)=%{x:,.0f}<br>Average Earnings (USD)=%{y:,.0f}<br>Companies=%{customdata[1]}<br>Avg_MarketCap=%{customdata[0]:,.0f}<br>Gold=%{customdata[2]}<br>Silver=%{customdata[3]}<br>Bronze=%{customdata[4]}<br>Total=%{customdata[5]}<extra></extra>",
         "hovertext": [
          "Belgium"
         ],
         "legendgroup": "Belgium",
         "marker": {
          "color": "#EF553B",
          "size": [
           75
          ],
          "sizemode": "area",
          "sizeref": 9.3,
          "symbol": "circle"
         },
         "mode": "markers",
         "name": "Belgium",
         "orientation": "v",
         "showlegend": true,
         "type": "scatter",
         "x": [
          2764777368
         ],
         "xaxis": "x",
         "y": [
          303603759
         ],
         "yaxis": "y"
        },
        {
         "customdata": [
          [
           4422290372,
           40,
           0,
           0,
           0,
           0
          ]
         ],
         "hovertemplate": "<b>%{hovertext}</b><br><br>Country=Bermuda<br>Average Revenue (USD)=%{x:,.0f}<br>Average Earnings (USD)=%{y:,.0f}<br>Companies=%{customdata[1]}<br>Avg_MarketCap=%{customdata[0]:,.0f}<br>Gold=%{customdata[2]}<br>Silver=%{customdata[3]}<br>Bronze=%{customdata[4]}<br>Total=%{customdata[5]}<extra></extra>",
         "hovertext": [
          "Bermuda"
         ],
         "legendgroup": "Bermuda",
         "marker": {
          "color": "#00cc96",
          "size": [
           40
          ],
          "sizemode": "area",
          "sizeref": 9.3,
          "symbol": "circle"
         },
         "mode": "markers",
         "name": "Bermuda",
         "orientation": "v",
         "showlegend": true,
         "type": "scatter",
         "x": [
          3388617341
         ],
         "xaxis": "x",
         "y": [
          647544383
         ],
         "yaxis": "y"
        },
        {
         "customdata": [
          [
           5553837,
           1,
           0,
           0,
           0,
           0
          ]
         ],
         "hovertemplate": "<b>%{hovertext}</b><br><br>Country=British Virgin Islands<br>Average Revenue (USD)=%{x:,.0f}<br>Average Earnings (USD)=%{y:,.0f}<br>Companies=%{customdata[1]}<br>Avg_MarketCap=%{customdata[0]:,.0f}<br>Gold=%{customdata[2]}<br>Silver=%{customdata[3]}<br>Bronze=%{customdata[4]}<br>Total=%{customdata[5]}<extra></extra>",
         "hovertext": [
          "British Virgin Islands"
         ],
         "legendgroup": "British Virgin Islands",
         "marker": {
          "color": "#ab63fa",
          "size": [
           1
          ],
          "sizemode": "area",
          "sizeref": 9.3,
          "symbol": "circle"
         },
         "mode": "markers",
         "name": "British Virgin Islands",
         "orientation": "v",
         "showlegend": true,
         "type": "scatter",
         "x": [
          0
         ],
         "xaxis": "x",
         "y": [
          -82680000
         ],
         "yaxis": "y"
        },
        {
         "customdata": [
          [
           398524637,
           9,
           0,
           0,
           0,
           0
          ]
         ],
         "hovertemplate": "<b>%{hovertext}</b><br><br>Country=Cambodia<br>Average Revenue (USD)=%{x:,.0f}<br>Average Earnings (USD)=%{y:,.0f}<br>Companies=%{customdata[1]}<br>Avg_MarketCap=%{customdata[0]:,.0f}<br>Gold=%{customdata[2]}<br>Silver=%{customdata[3]}<br>Bronze=%{customdata[4]}<br>Total=%{customdata[5]}<extra></extra>",
         "hovertext": [
          "Cambodia"
         ],
         "legendgroup": "Cambodia",
         "marker": {
          "color": "#FFA15A",
          "size": [
           9
          ],
          "sizemode": "area",
          "sizeref": 9.3,
          "symbol": "circle"
         },
         "mode": "markers",
         "name": "Cambodia",
         "orientation": "v",
         "showlegend": true,
         "type": "scatter",
         "x": [
          125060419
         ],
         "xaxis": "x",
         "y": [
          59358749
         ],
         "yaxis": "y"
        },
        {
         "customdata": [
          [
           1284713326,
           8,
           0,
           0,
           0,
           0
          ]
         ],
         "hovertemplate": "<b>%{hovertext}</b><br><br>Country=Cayman Islands<br>Average Revenue (USD)=%{x:,.0f}<br>Average Earnings (USD)=%{y:,.0f}<br>Companies=%{customdata[1]}<br>Avg_MarketCap=%{customdata[0]:,.0f}<br>Gold=%{customdata[2]}<br>Silver=%{customdata[3]}<br>Bronze=%{customdata[4]}<br>Total=%{customdata[5]}<extra></extra>",
         "hovertext": [
          "Cayman Islands"
         ],
         "legendgroup": "Cayman Islands",
         "marker": {
          "color": "#19d3f3",
          "size": [
           8
          ],
          "sizemode": "area",
          "sizeref": 9.3,
          "symbol": "circle"
         },
         "mode": "markers",
         "name": "Cayman Islands",
         "orientation": "v",
         "showlegend": true,
         "type": "scatter",
         "x": [
          1102124066
         ],
         "xaxis": "x",
         "y": [
          57006288
         ],
         "yaxis": "y"
        },
        {
         "customdata": [
          [
           4131068241,
           21,
           0,
           0,
           0,
           0
          ]
         ],
         "hovertemplate": "<b>%{hovertext}</b><br><br>Country=Chile<br>Average Revenue (USD)=%{x:,.0f}<br>Average Earnings (USD)=%{y:,.0f}<br>Companies=%{customdata[1]}<br>Avg_MarketCap=%{customdata[0]:,.0f}<br>Gold=%{customdata[2]}<br>Silver=%{customdata[3]}<br>Bronze=%{customdata[4]}<br>Total=%{customdata[5]}<extra></extra>",
         "hovertext": [
          "Chile"
         ],
         "legendgroup": "Chile",
         "marker": {
          "color": "#FF6692",
          "size": [
           21
          ],
          "sizemode": "area",
          "sizeref": 9.3,
          "symbol": "circle"
         },
         "mode": "markers",
         "name": "Chile",
         "orientation": "v",
         "showlegend": true,
         "type": "scatter",
         "x": [
          7579173002
         ],
         "xaxis": "x",
         "y": [
          894541824
         ],
         "yaxis": "y"
        },
        {
         "customdata": [
          [
           6134587799,
           4,
           0,
           0,
           0,
           0
          ]
         ],
         "hovertemplate": "<b>%{hovertext}</b><br><br>Country=Colombia<br>Average Revenue (USD)=%{x:,.0f}<br>Average Earnings (USD)=%{y:,.0f}<br>Companies=%{customdata[1]}<br>Avg_MarketCap=%{customdata[0]:,.0f}<br>Gold=%{customdata[2]}<br>Silver=%{customdata[3]}<br>Bronze=%{customdata[4]}<br>Total=%{customdata[5]}<extra></extra>",
         "hovertext": [
          "Colombia"
         ],
         "legendgroup": "Colombia",
         "marker": {
          "color": "#B6E880",
          "size": [
           4
          ],
          "sizemode": "area",
          "sizeref": 9.3,
          "symbol": "circle"
         },
         "mode": "markers",
         "name": "Colombia",
         "orientation": "v",
         "showlegend": true,
         "type": "scatter",
         "x": [
          11306012167
         ],
         "xaxis": "x",
         "y": [
          2672251500
         ],
         "yaxis": "y"
        },
        {
         "customdata": [
          [
           993476755,
           1,
           0,
           0,
           0,
           0
          ]
         ],
         "hovertemplate": "<b>%{hovertext}</b><br><br>Country=Costa Rica<br>Average Revenue (USD)=%{x:,.0f}<br>Average Earnings (USD)=%{y:,.0f}<br>Companies=%{customdata[1]}<br>Avg_MarketCap=%{customdata[0]:,.0f}<br>Gold=%{customdata[2]}<br>Silver=%{customdata[3]}<br>Bronze=%{customdata[4]}<br>Total=%{customdata[5]}<extra></extra>",
         "hovertext": [
          "Costa Rica"
         ],
         "legendgroup": "Costa Rica",
         "marker": {
          "color": "#FF97FF",
          "size": [
           1
          ],
          "sizemode": "area",
          "sizeref": 9.3,
          "symbol": "circle"
         },
         "mode": "markers",
         "name": "Costa Rica",
         "orientation": "v",
         "showlegend": true,
         "type": "scatter",
         "x": [
          151350000
         ],
         "xaxis": "x",
         "y": [
          -84168000
         ],
         "yaxis": "y"
        },
        {
         "customdata": [
          [
           351948989,
           5,
           0,
           0,
           0,
           0
          ]
         ],
         "hovertemplate": "<b>%{hovertext}</b><br><br>Country=Cyprus<br>Average Revenue (USD)=%{x:,.0f}<br>Average Earnings (USD)=%{y:,.0f}<br>Companies=%{customdata[1]}<br>Avg_MarketCap=%{customdata[0]:,.0f}<br>Gold=%{customdata[2]}<br>Silver=%{customdata[3]}<br>Bronze=%{customdata[4]}<br>Total=%{customdata[5]}<extra></extra>",
         "hovertext": [
          "Cyprus"
         ],
         "legendgroup": "Cyprus",
         "marker": {
          "color": "#FECB52",
          "size": [
           5
          ],
          "sizemode": "area",
          "sizeref": 9.3,
          "symbol": "circle"
         },
         "mode": "markers",
         "name": "Cyprus",
         "orientation": "v",
         "showlegend": true,
         "type": "scatter",
         "x": [
          982027574
         ],
         "xaxis": "x",
         "y": [
          34656140
         ],
         "yaxis": "y"
        },
        {
         "customdata": [
          [
           6111659003,
           4,
           0,
           0,
           0,
           0
          ]
         ],
         "hovertemplate": "<b>%{hovertext}</b><br><br>Country=Czech Republic<br>Average Revenue (USD)=%{x:,.0f}<br>Average Earnings (USD)=%{y:,.0f}<br>Companies=%{customdata[1]}<br>Avg_MarketCap=%{customdata[0]:,.0f}<br>Gold=%{customdata[2]}<br>Silver=%{customdata[3]}<br>Bronze=%{customdata[4]}<br>Total=%{customdata[5]}<extra></extra>",
         "hovertext": [
          "Czech Republic"
         ],
         "legendgroup": "Czech Republic",
         "marker": {
          "color": "#636efa",
          "size": [
           4
          ],
          "sizemode": "area",
          "sizeref": 9.3,
          "symbol": "circle"
         },
         "mode": "markers",
         "name": "Czech Republic",
         "orientation": "v",
         "showlegend": true,
         "type": "scatter",
         "x": [
          4104696068
         ],
         "xaxis": "x",
         "y": [
          1331124500
         ],
         "yaxis": "y"
        },
        {
         "customdata": [
          [
           3920486308,
           1,
           0,
           0,
           0,
           0
          ]
         ],
         "hovertemplate": "<b>%{hovertext}</b><br><br>Country=Egypt<br>Average Revenue (USD)=%{x:,.0f}<br>Average Earnings (USD)=%{y:,.0f}<br>Companies=%{customdata[1]}<br>Avg_MarketCap=%{customdata[0]:,.0f}<br>Gold=%{customdata[2]}<br>Silver=%{customdata[3]}<br>Bronze=%{customdata[4]}<br>Total=%{customdata[5]}<extra></extra>",
         "hovertext": [
          "Egypt"
         ],
         "legendgroup": "Egypt",
         "marker": {
          "color": "#EF553B",
          "size": [
           1
          ],
          "sizemode": "area",
          "sizeref": 9.3,
          "symbol": "circle"
         },
         "mode": "markers",
         "name": "Egypt",
         "orientation": "v",
         "showlegend": true,
         "type": "scatter",
         "x": [
          1935054354
         ],
         "xaxis": "x",
         "y": [
          1454500000
         ],
         "yaxis": "y"
        },
        {
         "customdata": [
          [
           366648667,
           1,
           0,
           0,
           0,
           0
          ]
         ],
         "hovertemplate": "<b>%{hovertext}</b><br><br>Country=Estonia<br>Average Revenue (USD)=%{x:,.0f}<br>Average Earnings (USD)=%{y:,.0f}<br>Companies=%{customdata[1]}<br>Avg_MarketCap=%{customdata[0]:,.0f}<br>Gold=%{customdata[2]}<br>Silver=%{customdata[3]}<br>Bronze=%{customdata[4]}<br>Total=%{customdata[5]}<extra></extra>",
         "hovertext": [
          "Estonia"
         ],
         "legendgroup": "Estonia",
         "marker": {
          "color": "#00cc96",
          "size": [
           1
          ],
          "sizemode": "area",
          "sizeref": 9.3,
          "symbol": "circle"
         },
         "mode": "markers",
         "name": "Estonia",
         "orientation": "v",
         "showlegend": true,
         "type": "scatter",
         "x": [
          867348288
         ],
         "xaxis": "x",
         "y": [
          108097000
         ],
         "yaxis": "y"
        },
        {
         "customdata": [
          [
           3483979712,
           64,
           0,
           0,
           0,
           0
          ]
         ],
         "hovertemplate": "<b>%{hovertext}</b><br><br>Country=Finland<br>Average Revenue (USD)=%{x:,.0f}<br>Average Earnings (USD)=%{y:,.0f}<br>Companies=%{customdata[1]}<br>Avg_MarketCap=%{customdata[0]:,.0f}<br>Gold=%{customdata[2]}<br>Silver=%{customdata[3]}<br>Bronze=%{customdata[4]}<br>Total=%{customdata[5]}<extra></extra>",
         "hovertext": [
          "Finland"
         ],
         "legendgroup": "Finland",
         "marker": {
          "color": "#ab63fa",
          "size": [
           64
          ],
          "sizemode": "area",
          "sizeref": 9.3,
          "symbol": "circle"
         },
         "mode": "markers",
         "name": "Finland",
         "orientation": "v",
         "showlegend": true,
         "type": "scatter",
         "x": [
          3112713520
         ],
         "xaxis": "x",
         "y": [
          343052756
         ],
         "yaxis": "y"
        },
        {
         "customdata": [
          [
           236554103,
           1,
           0,
           0,
           0,
           0
          ]
         ],
         "hovertemplate": "<b>%{hovertext}</b><br><br>Country=Gibraltar<br>Average Revenue (USD)=%{x:,.0f}<br>Average Earnings (USD)=%{y:,.0f}<br>Companies=%{customdata[1]}<br>Avg_MarketCap=%{customdata[0]:,.0f}<br>Gold=%{customdata[2]}<br>Silver=%{customdata[3]}<br>Bronze=%{customdata[4]}<br>Total=%{customdata[5]}<extra></extra>",
         "hovertext": [
          "Gibraltar"
         ],
         "legendgroup": "Gibraltar",
         "marker": {
          "color": "#FFA15A",
          "size": [
           1
          ],
          "sizemode": "area",
          "sizeref": 9.3,
          "symbol": "circle"
         },
         "mode": "markers",
         "name": "Gibraltar",
         "orientation": "v",
         "showlegend": true,
         "type": "scatter",
         "x": [
          289772000
         ],
         "xaxis": "x",
         "y": [
          -8715000
         ],
         "yaxis": "y"
        },
        {
         "customdata": [
          [
           1539215273,
           42,
           0,
           0,
           0,
           0
          ]
         ],
         "hovertemplate": "<b>%{hovertext}</b><br><br>Country=Greece<br>Average Revenue (USD)=%{x:,.0f}<br>Average Earnings (USD)=%{y:,.0f}<br>Companies=%{customdata[1]}<br>Avg_MarketCap=%{customdata[0]:,.0f}<br>Gold=%{customdata[2]}<br>Silver=%{customdata[3]}<br>Bronze=%{customdata[4]}<br>Total=%{customdata[5]}<extra></extra>",
         "hovertext": [
          "Greece"
         ],
         "legendgroup": "Greece",
         "marker": {
          "color": "#19d3f3",
          "size": [
           42
          ],
          "sizemode": "area",
          "sizeref": 9.3,
          "symbol": "circle"
         },
         "mode": "markers",
         "name": "Greece",
         "orientation": "v",
         "showlegend": true,
         "type": "scatter",
         "x": [
          1646443907
         ],
         "xaxis": "x",
         "y": [
          324080317
         ],
         "yaxis": "y"
        },
        {
         "customdata": [
          [
           1795005618,
           2,
           0,
           0,
           0,
           0
          ]
         ],
         "hovertemplate": "<b>%{hovertext}</b><br><br>Country=Guernsey<br>Average Revenue (USD)=%{x:,.0f}<br>Average Earnings (USD)=%{y:,.0f}<br>Companies=%{customdata[1]}<br>Avg_MarketCap=%{customdata[0]:,.0f}<br>Gold=%{customdata[2]}<br>Silver=%{customdata[3]}<br>Bronze=%{customdata[4]}<br>Total=%{customdata[5]}<extra></extra>",
         "hovertext": [
          "Guernsey"
         ],
         "legendgroup": "Guernsey",
         "marker": {
          "color": "#FF6692",
          "size": [
           2
          ],
          "sizemode": "area",
          "sizeref": 9.3,
          "symbol": "circle"
         },
         "mode": "markers",
         "name": "Guernsey",
         "orientation": "v",
         "showlegend": true,
         "type": "scatter",
         "x": [
          1096862488
         ],
         "xaxis": "x",
         "y": [
          277527100
         ],
         "yaxis": "y"
        },
        {
         "customdata": [
          [
           6517266598,
           3,
           0,
           0,
           0,
           0
          ]
         ],
         "hovertemplate": "<b>%{hovertext}</b><br><br>Country=Hungary<br>Average Revenue (USD)=%{x:,.0f}<br>Average Earnings (USD)=%{y:,.0f}<br>Companies=%{customdata[1]}<br>Avg_MarketCap=%{customdata[0]:,.0f}<br>Gold=%{customdata[2]}<br>Silver=%{customdata[3]}<br>Bronze=%{customdata[4]}<br>Total=%{customdata[5]}<extra></extra>",
         "hovertext": [
          "Hungary"
         ],
         "legendgroup": "Hungary",
         "marker": {
          "color": "#B6E880",
          "size": [
           3
          ],
          "sizemode": "area",
          "sizeref": 9.3,
          "symbol": "circle"
         },
         "mode": "markers",
         "name": "Hungary",
         "orientation": "v",
         "showlegend": true,
         "type": "scatter",
         "x": [
          11512533012
         ],
         "xaxis": "x",
         "y": [
          1931942333
         ],
         "yaxis": "y"
        },
        {
         "customdata": [
          [
           514857113,
           31,
           0,
           0,
           0,
           0
          ]
         ],
         "hovertemplate": "<b>%{hovertext}</b><br><br>Country=Iceland<br>Average Revenue (USD)=%{x:,.0f}<br>Average Earnings (USD)=%{y:,.0f}<br>Companies=%{customdata[1]}<br>Avg_MarketCap=%{customdata[0]:,.0f}<br>Gold=%{customdata[2]}<br>Silver=%{customdata[3]}<br>Bronze=%{customdata[4]}<br>Total=%{customdata[5]}<extra></extra>",
         "hovertext": [
          "Iceland"
         ],
         "legendgroup": "Iceland",
         "marker": {
          "color": "#FF97FF",
          "size": [
           31
          ],
          "sizemode": "area",
          "sizeref": 9.3,
          "symbol": "circle"
         },
         "mode": "markers",
         "name": "Iceland",
         "orientation": "v",
         "showlegend": true,
         "type": "scatter",
         "x": [
          402373000
         ],
         "xaxis": "x",
         "y": [
          32912992
         ],
         "yaxis": "y"
        },
        {
         "customdata": [
          [
           6948542178,
           47,
           0,
           0,
           0,
           0
          ]
         ],
         "hovertemplate": "<b>%{hovertext}</b><br><br>Country=Indonesia<br>Average Revenue (USD)=%{x:,.0f}<br>Average Earnings (USD)=%{y:,.0f}<br>Companies=%{customdata[1]}<br>Avg_MarketCap=%{customdata[0]:,.0f}<br>Gold=%{customdata[2]}<br>Silver=%{customdata[3]}<br>Bronze=%{customdata[4]}<br>Total=%{customdata[5]}<extra></extra>",
         "hovertext": [
          "Indonesia"
         ],
         "legendgroup": "Indonesia",
         "marker": {
          "color": "#FECB52",
          "size": [
           47
          ],
          "sizemode": "area",
          "sizeref": 9.3,
          "symbol": "circle"
         },
         "mode": "markers",
         "name": "Indonesia",
         "orientation": "v",
         "showlegend": true,
         "type": "scatter",
         "x": [
          3147638164
         ],
         "xaxis": "x",
         "y": [
          634671083
         ],
         "yaxis": "y"
        },
        {
         "customdata": [
          [
           3613796096,
           2,
           0,
           0,
           0,
           0
          ]
         ],
         "hovertemplate": "<b>%{hovertext}</b><br><br>Country=Isle Of Man<br>Average Revenue (USD)=%{x:,.0f}<br>Average Earnings (USD)=%{y:,.0f}<br>Companies=%{customdata[1]}<br>Avg_MarketCap=%{customdata[0]:,.0f}<br>Gold=%{customdata[2]}<br>Silver=%{customdata[3]}<br>Bronze=%{customdata[4]}<br>Total=%{customdata[5]}<extra></extra>",
         "hovertext": [
          "Isle Of Man"
         ],
         "legendgroup": "Isle Of Man",
         "marker": {
          "color": "#636efa",
          "size": [
           2
          ],
          "sizemode": "area",
          "sizeref": 9.3,
          "symbol": "circle"
         },
         "mode": "markers",
         "name": "Isle Of Man",
         "orientation": "v",
         "showlegend": true,
         "type": "scatter",
         "x": [
          3458298833
         ],
         "xaxis": "x",
         "y": [
          113518000
         ],
         "yaxis": "y"
        },
        {
         "customdata": [
          [
           1548237368,
           150,
           0,
           0,
           0,
           0
          ]
         ],
         "hovertemplate": "<b>%{hovertext}</b><br><br>Country=Israel<br>Average Revenue (USD)=%{x:,.0f}<br>Average Earnings (USD)=%{y:,.0f}<br>Companies=%{customdata[1]}<br>Avg_MarketCap=%{customdata[0]:,.0f}<br>Gold=%{customdata[2]}<br>Silver=%{customdata[3]}<br>Bronze=%{customdata[4]}<br>Total=%{customdata[5]}<extra></extra>",
         "hovertext": [
          "Israel"
         ],
         "legendgroup": "Israel",
         "marker": {
          "color": "#EF553B",
          "size": [
           150
          ],
          "sizemode": "area",
          "sizeref": 9.3,
          "symbol": "circle"
         },
         "mode": "markers",
         "name": "Israel",
         "orientation": "v",
         "showlegend": true,
         "type": "scatter",
         "x": [
          1137745567
         ],
         "xaxis": "x",
         "y": [
          164547246
         ],
         "yaxis": "y"
        },
        {
         "customdata": [
          [
           1161338561,
           6,
           0,
           0,
           0,
           0
          ]
         ],
         "hovertemplate": "<b>%{hovertext}</b><br><br>Country=Jersey<br>Average Revenue (USD)=%{x:,.0f}<br>Average Earnings (USD)=%{y:,.0f}<br>Companies=%{customdata[1]}<br>Avg_MarketCap=%{customdata[0]:,.0f}<br>Gold=%{customdata[2]}<br>Silver=%{customdata[3]}<br>Bronze=%{customdata[4]}<br>Total=%{customdata[5]}<extra></extra>",
         "hovertext": [
          "Jersey"
         ],
         "legendgroup": "Jersey",
         "marker": {
          "color": "#00cc96",
          "size": [
           6
          ],
          "sizemode": "area",
          "sizeref": 9.3,
          "symbol": "circle"
         },
         "mode": "markers",
         "name": "Jersey",
         "orientation": "v",
         "showlegend": true,
         "type": "scatter",
         "x": [
          1061790540
         ],
         "xaxis": "x",
         "y": [
          4142933
         ],
         "yaxis": "y"
        },
        {
         "customdata": [
          [
           651779901,
           1,
           0,
           0,
           0,
           0
          ]
         ],
         "hovertemplate": "<b>%{hovertext}</b><br><br>Country=Jordan<br>Average Revenue (USD)=%{x:,.0f}<br>Average Earnings (USD)=%{y:,.0f}<br>Companies=%{customdata[1]}<br>Avg_MarketCap=%{customdata[0]:,.0f}<br>Gold=%{customdata[2]}<br>Silver=%{customdata[3]}<br>Bronze=%{customdata[4]}<br>Total=%{customdata[5]}<extra></extra>",
         "hovertext": [
          "Jordan"
         ],
         "legendgroup": "Jordan",
         "marker": {
          "color": "#ab63fa",
          "size": [
           1
          ],
          "sizemode": "area",
          "sizeref": 9.3,
          "symbol": "circle"
         },
         "mode": "markers",
         "name": "Jordan",
         "orientation": "v",
         "showlegend": true,
         "type": "scatter",
         "x": [
          485684000
         ],
         "xaxis": "x",
         "y": [
          117948000
         ],
         "yaxis": "y"
        },
        {
         "customdata": [
          [
           1696282366,
           58,
           0,
           0,
           0,
           0
          ]
         ],
         "hovertemplate": "<b>%{hovertext}</b><br><br>Country=Kuwait<br>Average Revenue (USD)=%{x:,.0f}<br>Average Earnings (USD)=%{y:,.0f}<br>Companies=%{customdata[1]}<br>Avg_MarketCap=%{customdata[0]:,.0f}<br>Gold=%{customdata[2]}<br>Silver=%{customdata[3]}<br>Bronze=%{customdata[4]}<br>Total=%{customdata[5]}<extra></extra>",
         "hovertext": [
          "Kuwait"
         ],
         "legendgroup": "Kuwait",
         "marker": {
          "color": "#FFA15A",
          "size": [
           58
          ],
          "sizemode": "area",
          "sizeref": 9.3,
          "symbol": "circle"
         },
         "mode": "markers",
         "name": "Kuwait",
         "orientation": "v",
         "showlegend": true,
         "type": "scatter",
         "x": [
          781104687
         ],
         "xaxis": "x",
         "y": [
          186284958
         ],
         "yaxis": "y"
        },
        {
         "customdata": [
          [
           784646630,
           1,
           0,
           0,
           0,
           0
          ]
         ],
         "hovertemplate": "<b>%{hovertext}</b><br><br>Country=Lithuania<br>Average Revenue (USD)=%{x:,.0f}<br>Average Earnings (USD)=%{y:,.0f}<br>Companies=%{customdata[1]}<br>Avg_MarketCap=%{customdata[0]:,.0f}<br>Gold=%{customdata[2]}<br>Silver=%{customdata[3]}<br>Bronze=%{customdata[4]}<br>Total=%{customdata[5]}<extra></extra>",
         "hovertext": [
          "Lithuania"
         ],
         "legendgroup": "Lithuania",
         "marker": {
          "color": "#19d3f3",
          "size": [
           1
          ],
          "sizemode": "area",
          "sizeref": 9.3,
          "symbol": "circle"
         },
         "mode": "markers",
         "name": "Lithuania",
         "orientation": "v",
         "showlegend": true,
         "type": "scatter",
         "x": [
          522912167
         ],
         "xaxis": "x",
         "y": [
          82522000
         ],
         "yaxis": "y"
        },
        {
         "customdata": [
          [
           3203982484,
           32,
           0,
           0,
           0,
           0
          ]
         ],
         "hovertemplate": "<b>%{hovertext}</b><br><br>Country=Luxembourg<br>Average Revenue (USD)=%{x:,.0f}<br>Average Earnings (USD)=%{y:,.0f}<br>Companies=%{customdata[1]}<br>Avg_MarketCap=%{customdata[0]:,.0f}<br>Gold=%{customdata[2]}<br>Silver=%{customdata[3]}<br>Bronze=%{customdata[4]}<br>Total=%{customdata[5]}<extra></extra>",
         "hovertext": [
          "Luxembourg"
         ],
         "legendgroup": "Luxembourg",
         "marker": {
          "color": "#FF6692",
          "size": [
           32
          ],
          "sizemode": "area",
          "sizeref": 9.3,
          "symbol": "circle"
         },
         "mode": "markers",
         "name": "Luxembourg",
         "orientation": "v",
         "showlegend": true,
         "type": "scatter",
         "x": [
          5070009211
         ],
         "xaxis": "x",
         "y": [
          175714767
         ],
         "yaxis": "y"
        },
        {
         "customdata": [
          [
           2540785275,
           37,
           0,
           0,
           0,
           0
          ]
         ],
         "hovertemplate": "<b>%{hovertext}</b><br><br>Country=Vietnam<br>Average Revenue (USD)=%{x:,.0f}<br>Average Earnings (USD)=%{y:,.0f}<br>Companies=%{customdata[1]}<br>Avg_MarketCap=%{customdata[0]:,.0f}<br>Gold=%{customdata[2]}<br>Silver=%{customdata[3]}<br>Bronze=%{customdata[4]}<br>Total=%{customdata[5]}<extra></extra>",
         "hovertext": [
          "Vietnam"
         ],
         "legendgroup": "Vietnam",
         "marker": {
          "color": "#B6E880",
          "size": [
           37
          ],
          "sizemode": "area",
          "sizeref": 9.3,
          "symbol": "circle"
         },
         "mode": "markers",
         "name": "Vietnam",
         "orientation": "v",
         "showlegend": true,
         "type": "scatter",
         "x": [
          1865514211
         ],
         "xaxis": "x",
         "y": [
          249097927
         ],
         "yaxis": "y"
        }
       ],
       "layout": {
        "legend": {
         "itemsizing": "constant",
         "title": {
          "text": "Country"
         },
         "tracegroupgap": 0
        },
        "template": {
         "data": {
          "bar": [
           {
            "error_x": {
             "color": "#2a3f5f"
            },
            "error_y": {
             "color": "#2a3f5f"
            },
            "marker": {
             "line": {
              "color": "#E5ECF6",
              "width": 0.5
             },
             "pattern": {
              "fillmode": "overlay",
              "size": 10,
              "solidity": 0.2
             }
            },
            "type": "bar"
           }
          ],
          "barpolar": [
           {
            "marker": {
             "line": {
              "color": "#E5ECF6",
              "width": 0.5
             },
             "pattern": {
              "fillmode": "overlay",
              "size": 10,
              "solidity": 0.2
             }
            },
            "type": "barpolar"
           }
          ],
          "carpet": [
           {
            "aaxis": {
             "endlinecolor": "#2a3f5f",
             "gridcolor": "white",
             "linecolor": "white",
             "minorgridcolor": "white",
             "startlinecolor": "#2a3f5f"
            },
            "baxis": {
             "endlinecolor": "#2a3f5f",
             "gridcolor": "white",
             "linecolor": "white",
             "minorgridcolor": "white",
             "startlinecolor": "#2a3f5f"
            },
            "type": "carpet"
           }
          ],
          "choropleth": [
           {
            "colorbar": {
             "outlinewidth": 0,
             "ticks": ""
            },
            "type": "choropleth"
           }
          ],
          "contour": [
           {
            "colorbar": {
             "outlinewidth": 0,
             "ticks": ""
            },
            "colorscale": [
             [
              0,
              "#0d0887"
             ],
             [
              0.1111111111111111,
              "#46039f"
             ],
             [
              0.2222222222222222,
              "#7201a8"
             ],
             [
              0.3333333333333333,
              "#9c179e"
             ],
             [
              0.4444444444444444,
              "#bd3786"
             ],
             [
              0.5555555555555556,
              "#d8576b"
             ],
             [
              0.6666666666666666,
              "#ed7953"
             ],
             [
              0.7777777777777778,
              "#fb9f3a"
             ],
             [
              0.8888888888888888,
              "#fdca26"
             ],
             [
              1,
              "#f0f921"
             ]
            ],
            "type": "contour"
           }
          ],
          "contourcarpet": [
           {
            "colorbar": {
             "outlinewidth": 0,
             "ticks": ""
            },
            "type": "contourcarpet"
           }
          ],
          "heatmap": [
           {
            "colorbar": {
             "outlinewidth": 0,
             "ticks": ""
            },
            "colorscale": [
             [
              0,
              "#0d0887"
             ],
             [
              0.1111111111111111,
              "#46039f"
             ],
             [
              0.2222222222222222,
              "#7201a8"
             ],
             [
              0.3333333333333333,
              "#9c179e"
             ],
             [
              0.4444444444444444,
              "#bd3786"
             ],
             [
              0.5555555555555556,
              "#d8576b"
             ],
             [
              0.6666666666666666,
              "#ed7953"
             ],
             [
              0.7777777777777778,
              "#fb9f3a"
             ],
             [
              0.8888888888888888,
              "#fdca26"
             ],
             [
              1,
              "#f0f921"
             ]
            ],
            "type": "heatmap"
           }
          ],
          "heatmapgl": [
           {
            "colorbar": {
             "outlinewidth": 0,
             "ticks": ""
            },
            "colorscale": [
             [
              0,
              "#0d0887"
             ],
             [
              0.1111111111111111,
              "#46039f"
             ],
             [
              0.2222222222222222,
              "#7201a8"
             ],
             [
              0.3333333333333333,
              "#9c179e"
             ],
             [
              0.4444444444444444,
              "#bd3786"
             ],
             [
              0.5555555555555556,
              "#d8576b"
             ],
             [
              0.6666666666666666,
              "#ed7953"
             ],
             [
              0.7777777777777778,
              "#fb9f3a"
             ],
             [
              0.8888888888888888,
              "#fdca26"
             ],
             [
              1,
              "#f0f921"
             ]
            ],
            "type": "heatmapgl"
           }
          ],
          "histogram": [
           {
            "marker": {
             "pattern": {
              "fillmode": "overlay",
              "size": 10,
              "solidity": 0.2
             }
            },
            "type": "histogram"
           }
          ],
          "histogram2d": [
           {
            "colorbar": {
             "outlinewidth": 0,
             "ticks": ""
            },
            "colorscale": [
             [
              0,
              "#0d0887"
             ],
             [
              0.1111111111111111,
              "#46039f"
             ],
             [
              0.2222222222222222,
              "#7201a8"
             ],
             [
              0.3333333333333333,
              "#9c179e"
             ],
             [
              0.4444444444444444,
              "#bd3786"
             ],
             [
              0.5555555555555556,
              "#d8576b"
             ],
             [
              0.6666666666666666,
              "#ed7953"
             ],
             [
              0.7777777777777778,
              "#fb9f3a"
             ],
             [
              0.8888888888888888,
              "#fdca26"
             ],
             [
              1,
              "#f0f921"
             ]
            ],
            "type": "histogram2d"
           }
          ],
          "histogram2dcontour": [
           {
            "colorbar": {
             "outlinewidth": 0,
             "ticks": ""
            },
            "colorscale": [
             [
              0,
              "#0d0887"
             ],
             [
              0.1111111111111111,
              "#46039f"
             ],
             [
              0.2222222222222222,
              "#7201a8"
             ],
             [
              0.3333333333333333,
              "#9c179e"
             ],
             [
              0.4444444444444444,
              "#bd3786"
             ],
             [
              0.5555555555555556,
              "#d8576b"
             ],
             [
              0.6666666666666666,
              "#ed7953"
             ],
             [
              0.7777777777777778,
              "#fb9f3a"
             ],
             [
              0.8888888888888888,
              "#fdca26"
             ],
             [
              1,
              "#f0f921"
             ]
            ],
            "type": "histogram2dcontour"
           }
          ],
          "mesh3d": [
           {
            "colorbar": {
             "outlinewidth": 0,
             "ticks": ""
            },
            "type": "mesh3d"
           }
          ],
          "parcoords": [
           {
            "line": {
             "colorbar": {
              "outlinewidth": 0,
              "ticks": ""
             }
            },
            "type": "parcoords"
           }
          ],
          "pie": [
           {
            "automargin": true,
            "type": "pie"
           }
          ],
          "scatter": [
           {
            "fillpattern": {
             "fillmode": "overlay",
             "size": 10,
             "solidity": 0.2
            },
            "type": "scatter"
           }
          ],
          "scatter3d": [
           {
            "line": {
             "colorbar": {
              "outlinewidth": 0,
              "ticks": ""
             }
            },
            "marker": {
             "colorbar": {
              "outlinewidth": 0,
              "ticks": ""
             }
            },
            "type": "scatter3d"
           }
          ],
          "scattercarpet": [
           {
            "marker": {
             "colorbar": {
              "outlinewidth": 0,
              "ticks": ""
             }
            },
            "type": "scattercarpet"
           }
          ],
          "scattergeo": [
           {
            "marker": {
             "colorbar": {
              "outlinewidth": 0,
              "ticks": ""
             }
            },
            "type": "scattergeo"
           }
          ],
          "scattergl": [
           {
            "marker": {
             "colorbar": {
              "outlinewidth": 0,
              "ticks": ""
             }
            },
            "type": "scattergl"
           }
          ],
          "scattermapbox": [
           {
            "marker": {
             "colorbar": {
              "outlinewidth": 0,
              "ticks": ""
             }
            },
            "type": "scattermapbox"
           }
          ],
          "scatterpolar": [
           {
            "marker": {
             "colorbar": {
              "outlinewidth": 0,
              "ticks": ""
             }
            },
            "type": "scatterpolar"
           }
          ],
          "scatterpolargl": [
           {
            "marker": {
             "colorbar": {
              "outlinewidth": 0,
              "ticks": ""
             }
            },
            "type": "scatterpolargl"
           }
          ],
          "scatterternary": [
           {
            "marker": {
             "colorbar": {
              "outlinewidth": 0,
              "ticks": ""
             }
            },
            "type": "scatterternary"
           }
          ],
          "surface": [
           {
            "colorbar": {
             "outlinewidth": 0,
             "ticks": ""
            },
            "colorscale": [
             [
              0,
              "#0d0887"
             ],
             [
              0.1111111111111111,
              "#46039f"
             ],
             [
              0.2222222222222222,
              "#7201a8"
             ],
             [
              0.3333333333333333,
              "#9c179e"
             ],
             [
              0.4444444444444444,
              "#bd3786"
             ],
             [
              0.5555555555555556,
              "#d8576b"
             ],
             [
              0.6666666666666666,
              "#ed7953"
             ],
             [
              0.7777777777777778,
              "#fb9f3a"
             ],
             [
              0.8888888888888888,
              "#fdca26"
             ],
             [
              1,
              "#f0f921"
             ]
            ],
            "type": "surface"
           }
          ],
          "table": [
           {
            "cells": {
             "fill": {
              "color": "#EBF0F8"
             },
             "line": {
              "color": "white"
             }
            },
            "header": {
             "fill": {
              "color": "#C8D4E3"
             },
             "line": {
              "color": "white"
             }
            },
            "type": "table"
           }
          ]
         },
         "layout": {
          "annotationdefaults": {
           "arrowcolor": "#2a3f5f",
           "arrowhead": 0,
           "arrowwidth": 1
          },
          "autotypenumbers": "strict",
          "coloraxis": {
           "colorbar": {
            "outlinewidth": 0,
            "ticks": ""
           }
          },
          "colorscale": {
           "diverging": [
            [
             0,
             "#8e0152"
            ],
            [
             0.1,
             "#c51b7d"
            ],
            [
             0.2,
             "#de77ae"
            ],
            [
             0.3,
             "#f1b6da"
            ],
            [
             0.4,
             "#fde0ef"
            ],
            [
             0.5,
             "#f7f7f7"
            ],
            [
             0.6,
             "#e6f5d0"
            ],
            [
             0.7,
             "#b8e186"
            ],
            [
             0.8,
             "#7fbc41"
            ],
            [
             0.9,
             "#4d9221"
            ],
            [
             1,
             "#276419"
            ]
           ],
           "sequential": [
            [
             0,
             "#0d0887"
            ],
            [
             0.1111111111111111,
             "#46039f"
            ],
            [
             0.2222222222222222,
             "#7201a8"
            ],
            [
             0.3333333333333333,
             "#9c179e"
            ],
            [
             0.4444444444444444,
             "#bd3786"
            ],
            [
             0.5555555555555556,
             "#d8576b"
            ],
            [
             0.6666666666666666,
             "#ed7953"
            ],
            [
             0.7777777777777778,
             "#fb9f3a"
            ],
            [
             0.8888888888888888,
             "#fdca26"
            ],
            [
             1,
             "#f0f921"
            ]
           ],
           "sequentialminus": [
            [
             0,
             "#0d0887"
            ],
            [
             0.1111111111111111,
             "#46039f"
            ],
            [
             0.2222222222222222,
             "#7201a8"
            ],
            [
             0.3333333333333333,
             "#9c179e"
            ],
            [
             0.4444444444444444,
             "#bd3786"
            ],
            [
             0.5555555555555556,
             "#d8576b"
            ],
            [
             0.6666666666666666,
             "#ed7953"
            ],
            [
             0.7777777777777778,
             "#fb9f3a"
            ],
            [
             0.8888888888888888,
             "#fdca26"
            ],
            [
             1,
             "#f0f921"
            ]
           ]
          },
          "colorway": [
           "#636efa",
           "#EF553B",
           "#00cc96",
           "#ab63fa",
           "#FFA15A",
           "#19d3f3",
           "#FF6692",
           "#B6E880",
           "#FF97FF",
           "#FECB52"
          ],
          "font": {
           "color": "#2a3f5f"
          },
          "geo": {
           "bgcolor": "white",
           "lakecolor": "white",
           "landcolor": "#E5ECF6",
           "showlakes": true,
           "showland": true,
           "subunitcolor": "white"
          },
          "hoverlabel": {
           "align": "left"
          },
          "hovermode": "closest",
          "mapbox": {
           "style": "light"
          },
          "paper_bgcolor": "white",
          "plot_bgcolor": "#E5ECF6",
          "polar": {
           "angularaxis": {
            "gridcolor": "white",
            "linecolor": "white",
            "ticks": ""
           },
           "bgcolor": "#E5ECF6",
           "radialaxis": {
            "gridcolor": "white",
            "linecolor": "white",
            "ticks": ""
           }
          },
          "scene": {
           "xaxis": {
            "backgroundcolor": "#E5ECF6",
            "gridcolor": "white",
            "gridwidth": 2,
            "linecolor": "white",
            "showbackground": true,
            "ticks": "",
            "zerolinecolor": "white"
           },
           "yaxis": {
            "backgroundcolor": "#E5ECF6",
            "gridcolor": "white",
            "gridwidth": 2,
            "linecolor": "white",
            "showbackground": true,
            "ticks": "",
            "zerolinecolor": "white"
           },
           "zaxis": {
            "backgroundcolor": "#E5ECF6",
            "gridcolor": "white",
            "gridwidth": 2,
            "linecolor": "white",
            "showbackground": true,
            "ticks": "",
            "zerolinecolor": "white"
           }
          },
          "shapedefaults": {
           "line": {
            "color": "#2a3f5f"
           }
          },
          "ternary": {
           "aaxis": {
            "gridcolor": "white",
            "linecolor": "white",
            "ticks": ""
           },
           "baxis": {
            "gridcolor": "white",
            "linecolor": "white",
            "ticks": ""
           },
           "bgcolor": "#E5ECF6",
           "caxis": {
            "gridcolor": "white",
            "linecolor": "white",
            "ticks": ""
           }
          },
          "title": {
           "x": 0.05
          },
          "xaxis": {
           "automargin": true,
           "gridcolor": "white",
           "linecolor": "white",
           "ticks": "",
           "title": {
            "standoff": 15
           },
           "zerolinecolor": "white",
           "zerolinewidth": 2
          },
          "yaxis": {
           "automargin": true,
           "gridcolor": "white",
           "linecolor": "white",
           "ticks": "",
           "title": {
            "standoff": 15
           },
           "zerolinecolor": "white",
           "zerolinewidth": 2
          }
         }
        },
        "title": {
         "text": "📈 Avg Revenue vs Avg Earnings per Country (Bubble = Company Count)"
        },
        "xaxis": {
         "anchor": "y",
         "domain": [
          0,
          1
         ],
         "title": {
          "text": "Average Revenue (USD)"
         }
        },
        "yaxis": {
         "anchor": "x",
         "domain": [
          0,
          1
         ],
         "title": {
          "text": "Average Earnings (USD)"
         }
        }
       }
      }
     },
     "metadata": {},
     "output_type": "display_data"
    }
   ],
   "source": [
    "summary_df = pd.read_csv(\"country_metrics_medals.csv\")\n",
    "\n",
    "scatter_fig = px.scatter(\n",
    "    summary_df,\n",
    "    x=\"Avg_Revenue\",\n",
    "    y=\"Avg_Earnings\",\n",
    "    size=\"Companies\",\n",
    "    color=\"Country\",\n",
    "    hover_name=\"Country\",\n",
    "    title=\"📈 Avg Revenue vs Avg Earnings per Country (Bubble = Company Count)\",\n",
    "    labels={\n",
    "        \"Avg_Revenue\": \"Average Revenue (USD)\",\n",
    "        \"Avg_Earnings\": \"Average Earnings (USD)\"\n",
    "    },\n",
    "    hover_data={\n",
    "        \"Avg_Revenue\": \":,.0f\",\n",
    "        \"Avg_Earnings\": \":,.0f\",\n",
    "        \"Avg_MarketCap\": \":,.0f\",\n",
    "        \"Companies\": True,\n",
    "        \"Gold\": True,\n",
    "        \"Silver\": True,\n",
    "        \"Bronze\": True,\n",
    "        \"Total\": True\n",
    "    }\n",
    ")\n",
    "\n",
    "scatter_fig.show()\n"
   ]
  },
  {
   "cell_type": "code",
   "execution_count": 19,
   "metadata": {},
   "outputs": [
    {
     "data": {
      "application/vnd.plotly.v1+json": {
       "config": {
        "plotlyServerURL": "https://plot.ly"
       },
       "data": [
        {
         "coloraxis": "coloraxis",
         "customdata": [
          [
           9.88,
           308,
           7342948563,
           683389300,
           7623257142,
           0,
           3,
           0,
           3
          ],
          [
           9.83,
           196,
           6459093807,
           871063095,
           9907296847,
           0,
           3,
           0,
           3
          ],
          [
           9.63,
           148,
           5083480950,
           685616513,
           4995756616,
           0,
           0,
           3,
           3
          ],
          [
           9.85,
           378,
           7415612039,
           581646284,
           5048395597,
           1,
           2,
           0,
           3
          ],
          [
           10.5,
           348,
           12578933195,
           1280267358,
           11326031272,
           3,
           0,
           0,
           3
          ],
          [
           9.55,
           225,
           3366973617,
           1225676919,
           9190632952,
           1,
           1,
           1,
           3
          ],
          [
           9.26,
           343,
           1909929017,
           330766975,
           3926408056,
           0,
           0,
           3,
           3
          ],
          [
           10.57,
           104,
           13642306659,
           1210048247,
           8763533853,
           0,
           1,
           2,
           3
          ],
          [
           9.4,
           586,
           2913324245,
           418249909,
           6272198466,
           2,
           1,
           0,
           3
          ],
          [
           11.21,
           319,
           17640377528,
           2643617895,
           17780550269,
           3,
           0,
           0,
           3
          ],
          [
           9.35,
           193,
           2720235309,
           321648315,
           4394488844,
           0,
           0,
           3,
           3
          ],
          [
           10.24,
           65,
           9920198853,
           1460637690,
           10510095815,
           0,
           0,
           3,
           3
          ],
          [
           9.44,
           471,
           3417736280,
           470717266,
           4815198812,
           0,
           3,
           0,
           3
          ],
          [
           10.48,
           65,
           12196269169,
           1065545320,
           15776542457,
           0,
           0,
           3,
           3
          ],
          [
           9.97,
           101,
           7324497281,
           1021282538,
           13568378670,
           0,
           0,
           3,
           3
          ],
          [
           9.69,
           414,
           5666205563,
           582934648,
           6866673241,
           2,
           1,
           0,
           3
          ],
          [
           9.78,
           3720,
           5855073618,
           696450335,
           12012542558,
           3,
           0,
           0,
           3
          ],
          [
           7.2,
           45,
           9053105386,
           1155260998,
           18002822874,
           0,
           0,
           2,
           2
          ],
          [
           7.19,
           84,
           9998948928,
           1181275106,
           7289551362,
           0,
           0,
           2,
           2
          ],
          [
           6.92,
           93,
           7484325647,
           1029938111,
           6890152211,
           0,
           0,
           2,
           2
          ],
          [
           3.54,
           60,
           4026350836,
           263060456,
           11548008454,
           0,
           0,
           1,
           1
          ],
          [
           3.35,
           103,
           2662039699,
           618228758,
           2288494538,
           0,
           0,
           1,
           1
          ],
          [
           3.07,
           145,
           -87205738,
           219340987,
           5224291408,
           0,
           0,
           1,
           1
          ],
          [
           0.26,
           2,
           1880913500,
           483313500,
           1936062140,
           0,
           0,
           0,
           0
          ],
          [
           0.19,
           4,
           1225962500,
           492492000,
           1508540368,
           0,
           0,
           0,
           0
          ],
          [
           0,
           45,
           0,
           0,
           385833032,
           0,
           0,
           0,
           0
          ],
          [
           0.01,
           38,
           0,
           0,
           507997220,
           0,
           0,
           0,
           0
          ],
          [
           0.18,
           37,
           1497482098,
           102924218,
           2201087605,
           0,
           0,
           0,
           0
          ],
          [
           0.3,
           1,
           1767391607,
           1137820000,
           755460373,
           0,
           0,
           0,
           0
          ],
          [
           0.16,
           3,
           1260684965,
           184407133,
           1707917597,
           0,
           0,
           0,
           0
          ],
          [
           0.46,
           19,
           3403506426,
           518116053,
           6714590307,
           0,
           0,
           0,
           0
          ],
          [
           0.56,
           13,
           3825378591,
           1080023462,
           7339369004,
           0,
           0,
           0,
           0
          ],
          [
           0.26,
           107,
           2244239625,
           204953683,
           1270402050,
           0,
           0,
           0,
           0
          ],
          [
           0.68,
           17,
           5828480603,
           602581429,
           3209152414,
           0,
           0,
           0,
           0
          ],
          [
           0.15,
           52,
           964120787,
           308506426,
           2503169147,
           0,
           0,
           0,
           0
          ],
          [
           0.23,
           3,
           1352245189,
           494209000,
           4667191257,
           0,
           0,
           0,
           0
          ],
          [
           0.08,
           3,
           648641251,
           49297300,
           873439814,
           0,
           0,
           0,
           0
          ],
          [
           0.2,
           17,
           320265979,
           88374706,
           15968673258,
           0,
           0,
           0,
           0
          ],
          [
           0.46,
           77,
           3482400095,
           550168123,
           5189072793,
           0,
           0,
           0,
           0
          ],
          [
           0.6,
           49,
           5019950179,
           530050007,
           4521230619,
           0,
           0,
           0,
           0
          ],
          [
           0,
           1,
           0,
           0,
           69419836,
           0,
           0,
           0,
           0
          ],
          [
           0.7,
           59,
           5865209115,
           588821530,
           5107674819,
           0,
           0,
           0,
           0
          ],
          [
           0.93,
           42,
           7721034057,
           1177380079,
           4043700920,
           0,
           0,
           0,
           0
          ],
          [
           0.3,
           2,
           2600228500,
           205559000,
           1585352166,
           0,
           0,
           0,
           0
          ],
          [
           1.23,
           31,
           9701113106,
           1353269016,
           12737329826,
           0,
           0,
           0,
           0
          ],
          [
           0.58,
           4,
           3165891273,
           1842141250,
           8418995785,
           0,
           0,
           0,
           0
          ],
          [
           0.34,
           49,
           2472718872,
           458351051,
           4423461258,
           0,
           0,
           0,
           0
          ],
          [
           0.05,
           2,
           698333536,
           -645931000,
           4028534302,
           0,
           0,
           0,
           0
          ],
          [
           0.4,
           60,
           3359665464,
           440348653,
           2076770374,
           0,
           0,
           0,
           0
          ],
          [
           0.05,
           2,
           423597000,
           33864000,
           666001939,
           0,
           0,
           0,
           0
          ],
          [
           0.06,
           28,
           404532811,
           109994335,
           858457639,
           0,
           0,
           0,
           0
          ],
          [
           0.34,
           75,
           2764777368,
           303603759,
           3624425062,
           0,
           0,
           0,
           0
          ],
          [
           0.45,
           40,
           3388617341,
           647544383,
           4422290372,
           0,
           0,
           0,
           0
          ],
          [
           -0.01,
           1,
           0,
           -82680000,
           5553837,
           0,
           0,
           0,
           0
          ],
          [
           0.02,
           9,
           125060419,
           59358749,
           398524637,
           0,
           0,
           0,
           0
          ],
          [
           0.13,
           8,
           1102124066,
           57006288,
           1284713326,
           0,
           0,
           0,
           0
          ],
          [
           0.89,
           21,
           7579173002,
           894541824,
           4131068241,
           0,
           0,
           0,
           0
          ],
          [
           1.46,
           4,
           11306012167,
           2672251500,
           6134587799,
           0,
           0,
           0,
           0
          ],
          [
           0.02,
           1,
           151350000,
           -84168000,
           993476755,
           0,
           0,
           0,
           0
          ],
          [
           0.11,
           5,
           982027574,
           34656140,
           351948989,
           0,
           0,
           0,
           0
          ],
          [
           0.6,
           4,
           4104696068,
           1331124500,
           6111659003,
           0,
           0,
           0,
           0
          ],
          [
           0.38,
           1,
           1935054354,
           1454500000,
           3920486308,
           0,
           0,
           0,
           0
          ],
          [
           0.1,
           1,
           867348288,
           108097000,
           366648667,
           0,
           0,
           0,
           0
          ],
          [
           0.38,
           64,
           3112713520,
           343052756,
           3483979712,
           0,
           0,
           0,
           0
          ],
          [
           0.03,
           1,
           289772000,
           -8715000,
           236554103,
           0,
           0,
           0,
           0
          ],
          [
           0.21,
           42,
           1646443907,
           324080317,
           1539215273,
           0,
           0,
           0,
           0
          ],
          [
           0.16,
           2,
           1096862488,
           277527100,
           1795005618,
           0,
           0,
           0,
           0
          ],
          [
           1.41,
           3,
           11512533012,
           1931942333,
           6517266598,
           0,
           0,
           0,
           0
          ],
          [
           0.05,
           31,
           402373000,
           32912992,
           514857113,
           0,
           0,
           0,
           0
          ],
          [
           0.45,
           47,
           3147638164,
           634671083,
           6948542178,
           0,
           0,
           0,
           0
          ],
          [
           0.39,
           2,
           3458298833,
           113518000,
           3613796096,
           0,
           0,
           0,
           0
          ],
          [
           0.15,
           150,
           1137745567,
           164547246,
           1548237368,
           0,
           0,
           0,
           0
          ],
          [
           0.12,
           6,
           1061790540,
           4142933,
           1161338561,
           0,
           0,
           0,
           0
          ],
          [
           0.07,
           1,
           485684000,
           117948000,
           651779901,
           0,
           0,
           0,
           0
          ],
          [
           0.11,
           58,
           781104687,
           186284958,
           1696282366,
           0,
           0,
           0,
           0
          ],
          [
           0.07,
           1,
           522912167,
           82522000,
           784646630,
           0,
           0,
           0,
           0
          ],
          [
           0.56,
           32,
           5070009211,
           175714767,
           3203982484,
           0,
           0,
           0,
           0
          ],
          [
           0.24,
           37,
           1865514211,
           249097927,
           2540785275,
           0,
           0,
           0,
           0
          ]
         ],
         "geo": "geo",
         "hovertemplate": "<b>%{hovertext}</b><br><br>Country=%{location}<br>Financial_Power_Score=%{z}<br>Companies=%{customdata[1]}<br>Avg_Revenue=%{customdata[2]:,.0f}<br>Avg_Earnings=%{customdata[3]:,.0f}<br>Avg_MarketCap=%{customdata[4]:,.0f}<br>Gold=%{customdata[5]}<br>Silver=%{customdata[6]}<br>Bronze=%{customdata[7]}<br>Total=%{customdata[8]}<extra></extra>",
         "hovertext": [
          "France",
          "Switzerland",
          "Hong Kong",
          "Germany",
          "Japan",
          "Saudi Arabia",
          "Australia",
          "South Korea",
          "India",
          "China",
          "Sweden",
          "Spain",
          "Canada",
          "Netherlands",
          "Taiwan",
          "United Kingdom",
          "United States",
          "Ireland",
          "Brazil",
          "Italy",
          "Denmark",
          "Norway",
          "United Arab Emirates",
          "Panama",
          "Monaco",
          "Oman",
          "Pakistan",
          "New Zealand",
          "Nigeria",
          "Peru",
          "Argentina",
          "Philippines",
          "Poland",
          "Portugal",
          "Qatar",
          "Romania",
          "Malta",
          "Russia",
          "Singapore",
          "South Africa",
          "Sudan",
          "Thailand",
          "Turkey",
          "Uruguay",
          "Mexico",
          "Kazakhstan",
          "Malaysia",
          "Macau",
          "Austria",
          "Bahamas",
          "Bahrain",
          "Belgium",
          "Bermuda",
          "British Virgin Islands",
          "Cambodia",
          "Cayman Islands",
          "Chile",
          "Colombia",
          "Costa Rica",
          "Cyprus",
          "Czech Republic",
          "Egypt",
          "Estonia",
          "Finland",
          "Gibraltar",
          "Greece",
          "Guernsey",
          "Hungary",
          "Iceland",
          "Indonesia",
          "Isle Of Man",
          "Israel",
          "Jersey",
          "Jordan",
          "Kuwait",
          "Lithuania",
          "Luxembourg",
          "Vietnam"
         ],
         "locationmode": "country names",
         "locations": [
          "France",
          "Switzerland",
          "Hong Kong",
          "Germany",
          "Japan",
          "Saudi Arabia",
          "Australia",
          "South Korea",
          "India",
          "China",
          "Sweden",
          "Spain",
          "Canada",
          "Netherlands",
          "Taiwan",
          "United Kingdom",
          "United States",
          "Ireland",
          "Brazil",
          "Italy",
          "Denmark",
          "Norway",
          "United Arab Emirates",
          "Panama",
          "Monaco",
          "Oman",
          "Pakistan",
          "New Zealand",
          "Nigeria",
          "Peru",
          "Argentina",
          "Philippines",
          "Poland",
          "Portugal",
          "Qatar",
          "Romania",
          "Malta",
          "Russia",
          "Singapore",
          "South Africa",
          "Sudan",
          "Thailand",
          "Turkey",
          "Uruguay",
          "Mexico",
          "Kazakhstan",
          "Malaysia",
          "Macau",
          "Austria",
          "Bahamas",
          "Bahrain",
          "Belgium",
          "Bermuda",
          "British Virgin Islands",
          "Cambodia",
          "Cayman Islands",
          "Chile",
          "Colombia",
          "Costa Rica",
          "Cyprus",
          "Czech Republic",
          "Egypt",
          "Estonia",
          "Finland",
          "Gibraltar",
          "Greece",
          "Guernsey",
          "Hungary",
          "Iceland",
          "Indonesia",
          "Isle Of Man",
          "Israel",
          "Jersey",
          "Jordan",
          "Kuwait",
          "Lithuania",
          "Luxembourg",
          "Vietnam"
         ],
         "name": "",
         "type": "choropleth",
         "z": [
          9.88,
          9.83,
          9.63,
          9.85,
          10.5,
          9.55,
          9.26,
          10.57,
          9.4,
          11.21,
          9.35,
          10.24,
          9.44,
          10.48,
          9.97,
          9.69,
          9.78,
          7.2,
          7.19,
          6.92,
          3.54,
          3.35,
          3.07,
          0.26,
          0.19,
          0,
          0.01,
          0.18,
          0.3,
          0.16,
          0.46,
          0.56,
          0.26,
          0.68,
          0.15,
          0.23,
          0.08,
          0.2,
          0.46,
          0.6,
          0,
          0.7,
          0.93,
          0.3,
          1.23,
          0.58,
          0.34,
          0.05,
          0.4,
          0.05,
          0.06,
          0.34,
          0.45,
          -0.01,
          0.02,
          0.13,
          0.89,
          1.46,
          0.02,
          0.11,
          0.6,
          0.38,
          0.1,
          0.38,
          0.03,
          0.21,
          0.16,
          1.41,
          0.05,
          0.45,
          0.39,
          0.15,
          0.12,
          0.07,
          0.11,
          0.07,
          0.56,
          0.24
         ]
        }
       ],
       "layout": {
        "coloraxis": {
         "colorbar": {
          "title": {
           "text": "Financial_Power_Score"
          }
         },
         "colorscale": [
          [
           0,
           "#440154"
          ],
          [
           0.1111111111111111,
           "#482878"
          ],
          [
           0.2222222222222222,
           "#3e4989"
          ],
          [
           0.3333333333333333,
           "#31688e"
          ],
          [
           0.4444444444444444,
           "#26828e"
          ],
          [
           0.5555555555555556,
           "#1f9e89"
          ],
          [
           0.6666666666666666,
           "#35b779"
          ],
          [
           0.7777777777777778,
           "#6ece58"
          ],
          [
           0.8888888888888888,
           "#b5de2b"
          ],
          [
           1,
           "#fde725"
          ]
         ]
        },
        "geo": {
         "center": {},
         "domain": {
          "x": [
           0,
           1
          ],
          "y": [
           0,
           1
          ]
         }
        },
        "legend": {
         "tracegroupgap": 0
        },
        "template": {
         "data": {
          "bar": [
           {
            "error_x": {
             "color": "#2a3f5f"
            },
            "error_y": {
             "color": "#2a3f5f"
            },
            "marker": {
             "line": {
              "color": "#E5ECF6",
              "width": 0.5
             },
             "pattern": {
              "fillmode": "overlay",
              "size": 10,
              "solidity": 0.2
             }
            },
            "type": "bar"
           }
          ],
          "barpolar": [
           {
            "marker": {
             "line": {
              "color": "#E5ECF6",
              "width": 0.5
             },
             "pattern": {
              "fillmode": "overlay",
              "size": 10,
              "solidity": 0.2
             }
            },
            "type": "barpolar"
           }
          ],
          "carpet": [
           {
            "aaxis": {
             "endlinecolor": "#2a3f5f",
             "gridcolor": "white",
             "linecolor": "white",
             "minorgridcolor": "white",
             "startlinecolor": "#2a3f5f"
            },
            "baxis": {
             "endlinecolor": "#2a3f5f",
             "gridcolor": "white",
             "linecolor": "white",
             "minorgridcolor": "white",
             "startlinecolor": "#2a3f5f"
            },
            "type": "carpet"
           }
          ],
          "choropleth": [
           {
            "colorbar": {
             "outlinewidth": 0,
             "ticks": ""
            },
            "type": "choropleth"
           }
          ],
          "contour": [
           {
            "colorbar": {
             "outlinewidth": 0,
             "ticks": ""
            },
            "colorscale": [
             [
              0,
              "#0d0887"
             ],
             [
              0.1111111111111111,
              "#46039f"
             ],
             [
              0.2222222222222222,
              "#7201a8"
             ],
             [
              0.3333333333333333,
              "#9c179e"
             ],
             [
              0.4444444444444444,
              "#bd3786"
             ],
             [
              0.5555555555555556,
              "#d8576b"
             ],
             [
              0.6666666666666666,
              "#ed7953"
             ],
             [
              0.7777777777777778,
              "#fb9f3a"
             ],
             [
              0.8888888888888888,
              "#fdca26"
             ],
             [
              1,
              "#f0f921"
             ]
            ],
            "type": "contour"
           }
          ],
          "contourcarpet": [
           {
            "colorbar": {
             "outlinewidth": 0,
             "ticks": ""
            },
            "type": "contourcarpet"
           }
          ],
          "heatmap": [
           {
            "colorbar": {
             "outlinewidth": 0,
             "ticks": ""
            },
            "colorscale": [
             [
              0,
              "#0d0887"
             ],
             [
              0.1111111111111111,
              "#46039f"
             ],
             [
              0.2222222222222222,
              "#7201a8"
             ],
             [
              0.3333333333333333,
              "#9c179e"
             ],
             [
              0.4444444444444444,
              "#bd3786"
             ],
             [
              0.5555555555555556,
              "#d8576b"
             ],
             [
              0.6666666666666666,
              "#ed7953"
             ],
             [
              0.7777777777777778,
              "#fb9f3a"
             ],
             [
              0.8888888888888888,
              "#fdca26"
             ],
             [
              1,
              "#f0f921"
             ]
            ],
            "type": "heatmap"
           }
          ],
          "heatmapgl": [
           {
            "colorbar": {
             "outlinewidth": 0,
             "ticks": ""
            },
            "colorscale": [
             [
              0,
              "#0d0887"
             ],
             [
              0.1111111111111111,
              "#46039f"
             ],
             [
              0.2222222222222222,
              "#7201a8"
             ],
             [
              0.3333333333333333,
              "#9c179e"
             ],
             [
              0.4444444444444444,
              "#bd3786"
             ],
             [
              0.5555555555555556,
              "#d8576b"
             ],
             [
              0.6666666666666666,
              "#ed7953"
             ],
             [
              0.7777777777777778,
              "#fb9f3a"
             ],
             [
              0.8888888888888888,
              "#fdca26"
             ],
             [
              1,
              "#f0f921"
             ]
            ],
            "type": "heatmapgl"
           }
          ],
          "histogram": [
           {
            "marker": {
             "pattern": {
              "fillmode": "overlay",
              "size": 10,
              "solidity": 0.2
             }
            },
            "type": "histogram"
           }
          ],
          "histogram2d": [
           {
            "colorbar": {
             "outlinewidth": 0,
             "ticks": ""
            },
            "colorscale": [
             [
              0,
              "#0d0887"
             ],
             [
              0.1111111111111111,
              "#46039f"
             ],
             [
              0.2222222222222222,
              "#7201a8"
             ],
             [
              0.3333333333333333,
              "#9c179e"
             ],
             [
              0.4444444444444444,
              "#bd3786"
             ],
             [
              0.5555555555555556,
              "#d8576b"
             ],
             [
              0.6666666666666666,
              "#ed7953"
             ],
             [
              0.7777777777777778,
              "#fb9f3a"
             ],
             [
              0.8888888888888888,
              "#fdca26"
             ],
             [
              1,
              "#f0f921"
             ]
            ],
            "type": "histogram2d"
           }
          ],
          "histogram2dcontour": [
           {
            "colorbar": {
             "outlinewidth": 0,
             "ticks": ""
            },
            "colorscale": [
             [
              0,
              "#0d0887"
             ],
             [
              0.1111111111111111,
              "#46039f"
             ],
             [
              0.2222222222222222,
              "#7201a8"
             ],
             [
              0.3333333333333333,
              "#9c179e"
             ],
             [
              0.4444444444444444,
              "#bd3786"
             ],
             [
              0.5555555555555556,
              "#d8576b"
             ],
             [
              0.6666666666666666,
              "#ed7953"
             ],
             [
              0.7777777777777778,
              "#fb9f3a"
             ],
             [
              0.8888888888888888,
              "#fdca26"
             ],
             [
              1,
              "#f0f921"
             ]
            ],
            "type": "histogram2dcontour"
           }
          ],
          "mesh3d": [
           {
            "colorbar": {
             "outlinewidth": 0,
             "ticks": ""
            },
            "type": "mesh3d"
           }
          ],
          "parcoords": [
           {
            "line": {
             "colorbar": {
              "outlinewidth": 0,
              "ticks": ""
             }
            },
            "type": "parcoords"
           }
          ],
          "pie": [
           {
            "automargin": true,
            "type": "pie"
           }
          ],
          "scatter": [
           {
            "fillpattern": {
             "fillmode": "overlay",
             "size": 10,
             "solidity": 0.2
            },
            "type": "scatter"
           }
          ],
          "scatter3d": [
           {
            "line": {
             "colorbar": {
              "outlinewidth": 0,
              "ticks": ""
             }
            },
            "marker": {
             "colorbar": {
              "outlinewidth": 0,
              "ticks": ""
             }
            },
            "type": "scatter3d"
           }
          ],
          "scattercarpet": [
           {
            "marker": {
             "colorbar": {
              "outlinewidth": 0,
              "ticks": ""
             }
            },
            "type": "scattercarpet"
           }
          ],
          "scattergeo": [
           {
            "marker": {
             "colorbar": {
              "outlinewidth": 0,
              "ticks": ""
             }
            },
            "type": "scattergeo"
           }
          ],
          "scattergl": [
           {
            "marker": {
             "colorbar": {
              "outlinewidth": 0,
              "ticks": ""
             }
            },
            "type": "scattergl"
           }
          ],
          "scattermapbox": [
           {
            "marker": {
             "colorbar": {
              "outlinewidth": 0,
              "ticks": ""
             }
            },
            "type": "scattermapbox"
           }
          ],
          "scatterpolar": [
           {
            "marker": {
             "colorbar": {
              "outlinewidth": 0,
              "ticks": ""
             }
            },
            "type": "scatterpolar"
           }
          ],
          "scatterpolargl": [
           {
            "marker": {
             "colorbar": {
              "outlinewidth": 0,
              "ticks": ""
             }
            },
            "type": "scatterpolargl"
           }
          ],
          "scatterternary": [
           {
            "marker": {
             "colorbar": {
              "outlinewidth": 0,
              "ticks": ""
             }
            },
            "type": "scatterternary"
           }
          ],
          "surface": [
           {
            "colorbar": {
             "outlinewidth": 0,
             "ticks": ""
            },
            "colorscale": [
             [
              0,
              "#0d0887"
             ],
             [
              0.1111111111111111,
              "#46039f"
             ],
             [
              0.2222222222222222,
              "#7201a8"
             ],
             [
              0.3333333333333333,
              "#9c179e"
             ],
             [
              0.4444444444444444,
              "#bd3786"
             ],
             [
              0.5555555555555556,
              "#d8576b"
             ],
             [
              0.6666666666666666,
              "#ed7953"
             ],
             [
              0.7777777777777778,
              "#fb9f3a"
             ],
             [
              0.8888888888888888,
              "#fdca26"
             ],
             [
              1,
              "#f0f921"
             ]
            ],
            "type": "surface"
           }
          ],
          "table": [
           {
            "cells": {
             "fill": {
              "color": "#EBF0F8"
             },
             "line": {
              "color": "white"
             }
            },
            "header": {
             "fill": {
              "color": "#C8D4E3"
             },
             "line": {
              "color": "white"
             }
            },
            "type": "table"
           }
          ]
         },
         "layout": {
          "annotationdefaults": {
           "arrowcolor": "#2a3f5f",
           "arrowhead": 0,
           "arrowwidth": 1
          },
          "autotypenumbers": "strict",
          "coloraxis": {
           "colorbar": {
            "outlinewidth": 0,
            "ticks": ""
           }
          },
          "colorscale": {
           "diverging": [
            [
             0,
             "#8e0152"
            ],
            [
             0.1,
             "#c51b7d"
            ],
            [
             0.2,
             "#de77ae"
            ],
            [
             0.3,
             "#f1b6da"
            ],
            [
             0.4,
             "#fde0ef"
            ],
            [
             0.5,
             "#f7f7f7"
            ],
            [
             0.6,
             "#e6f5d0"
            ],
            [
             0.7,
             "#b8e186"
            ],
            [
             0.8,
             "#7fbc41"
            ],
            [
             0.9,
             "#4d9221"
            ],
            [
             1,
             "#276419"
            ]
           ],
           "sequential": [
            [
             0,
             "#0d0887"
            ],
            [
             0.1111111111111111,
             "#46039f"
            ],
            [
             0.2222222222222222,
             "#7201a8"
            ],
            [
             0.3333333333333333,
             "#9c179e"
            ],
            [
             0.4444444444444444,
             "#bd3786"
            ],
            [
             0.5555555555555556,
             "#d8576b"
            ],
            [
             0.6666666666666666,
             "#ed7953"
            ],
            [
             0.7777777777777778,
             "#fb9f3a"
            ],
            [
             0.8888888888888888,
             "#fdca26"
            ],
            [
             1,
             "#f0f921"
            ]
           ],
           "sequentialminus": [
            [
             0,
             "#0d0887"
            ],
            [
             0.1111111111111111,
             "#46039f"
            ],
            [
             0.2222222222222222,
             "#7201a8"
            ],
            [
             0.3333333333333333,
             "#9c179e"
            ],
            [
             0.4444444444444444,
             "#bd3786"
            ],
            [
             0.5555555555555556,
             "#d8576b"
            ],
            [
             0.6666666666666666,
             "#ed7953"
            ],
            [
             0.7777777777777778,
             "#fb9f3a"
            ],
            [
             0.8888888888888888,
             "#fdca26"
            ],
            [
             1,
             "#f0f921"
            ]
           ]
          },
          "colorway": [
           "#636efa",
           "#EF553B",
           "#00cc96",
           "#ab63fa",
           "#FFA15A",
           "#19d3f3",
           "#FF6692",
           "#B6E880",
           "#FF97FF",
           "#FECB52"
          ],
          "font": {
           "color": "#2a3f5f"
          },
          "geo": {
           "bgcolor": "white",
           "lakecolor": "white",
           "landcolor": "#E5ECF6",
           "showlakes": true,
           "showland": true,
           "subunitcolor": "white"
          },
          "hoverlabel": {
           "align": "left"
          },
          "hovermode": "closest",
          "mapbox": {
           "style": "light"
          },
          "paper_bgcolor": "white",
          "plot_bgcolor": "#E5ECF6",
          "polar": {
           "angularaxis": {
            "gridcolor": "white",
            "linecolor": "white",
            "ticks": ""
           },
           "bgcolor": "#E5ECF6",
           "radialaxis": {
            "gridcolor": "white",
            "linecolor": "white",
            "ticks": ""
           }
          },
          "scene": {
           "xaxis": {
            "backgroundcolor": "#E5ECF6",
            "gridcolor": "white",
            "gridwidth": 2,
            "linecolor": "white",
            "showbackground": true,
            "ticks": "",
            "zerolinecolor": "white"
           },
           "yaxis": {
            "backgroundcolor": "#E5ECF6",
            "gridcolor": "white",
            "gridwidth": 2,
            "linecolor": "white",
            "showbackground": true,
            "ticks": "",
            "zerolinecolor": "white"
           },
           "zaxis": {
            "backgroundcolor": "#E5ECF6",
            "gridcolor": "white",
            "gridwidth": 2,
            "linecolor": "white",
            "showbackground": true,
            "ticks": "",
            "zerolinecolor": "white"
           }
          },
          "shapedefaults": {
           "line": {
            "color": "#2a3f5f"
           }
          },
          "ternary": {
           "aaxis": {
            "gridcolor": "white",
            "linecolor": "white",
            "ticks": ""
           },
           "baxis": {
            "gridcolor": "white",
            "linecolor": "white",
            "ticks": ""
           },
           "bgcolor": "#E5ECF6",
           "caxis": {
            "gridcolor": "white",
            "linecolor": "white",
            "ticks": ""
           }
          },
          "title": {
           "x": 0.05
          },
          "xaxis": {
           "automargin": true,
           "gridcolor": "white",
           "linecolor": "white",
           "ticks": "",
           "title": {
            "standoff": 15
           },
           "zerolinecolor": "white",
           "zerolinewidth": 2
          },
          "yaxis": {
           "automargin": true,
           "gridcolor": "white",
           "linecolor": "white",
           "ticks": "",
           "title": {
            "standoff": 15
           },
           "zerolinecolor": "white",
           "zerolinewidth": 2
          }
         }
        },
        "title": {
         "text": "🌍 Financial Power Score by Country"
        }
       }
      }
     },
     "metadata": {},
     "output_type": "display_data"
    }
   ],
   "source": [
    "\n",
    "\n",
    "# Use the full dataset\n",
    "summary_df = pd.read_csv(\"country_metrics_medals.csv\")\n",
    "\n",
    "\n",
    "# Now you can safely run the enhanced choropleth code\n",
    "map_fig = px.choropleth(\n",
    "    summary_df,\n",
    "    locations=\"Country\",\n",
    "    locationmode=\"country names\",\n",
    "    color=\"Financial_Power_Score\",\n",
    "    hover_name=\"Country\",\n",
    "    title=\"🌍 Financial Power Score by Country\",\n",
    "    color_continuous_scale=\"Viridis\",\n",
    "    hover_data={\n",
    "        \"Financial_Power_Score\": True,\n",
    "        \"Companies\": True,\n",
    "        \"Avg_Revenue\": \":,.0f\",\n",
    "        \"Avg_Earnings\": \":,.0f\",\n",
    "        \"Avg_MarketCap\": \":,.0f\",\n",
    "        \"Gold\": True,\n",
    "        \"Silver\": True,\n",
    "        \"Bronze\": True,\n",
    "        \"Total\": True\n",
    "    }\n",
    ")\n",
    "\n",
    "map_fig.show()\n"
   ]
  },
  {
   "cell_type": "code",
   "execution_count": 20,
   "metadata": {},
   "outputs": [
    {
     "data": {
      "application/vnd.plotly.v1+json": {
       "config": {
        "plotlyServerURL": "https://plot.ly"
       },
       "data": [
        {
         "name": "Gold",
         "type": "bar",
         "x": [
          "France",
          "Switzerland",
          "Hong Kong",
          "Germany",
          "Japan",
          "Saudi Arabia",
          "Australia",
          "South Korea",
          "India",
          "China",
          "Sweden",
          "Spain",
          "Canada",
          "Netherlands",
          "Taiwan",
          "United Kingdom",
          "United States",
          "Ireland",
          "Brazil",
          "Italy",
          "Denmark",
          "Norway",
          "United Arab Emirates",
          "Panama",
          "Monaco",
          "Oman",
          "Pakistan",
          "New Zealand",
          "Nigeria",
          "Peru",
          "Argentina",
          "Philippines",
          "Poland",
          "Portugal",
          "Qatar",
          "Romania",
          "Malta",
          "Russia",
          "Singapore",
          "South Africa",
          "Sudan",
          "Thailand",
          "Turkey",
          "Uruguay",
          "Mexico",
          "Kazakhstan",
          "Malaysia",
          "Macau",
          "Austria",
          "Bahamas",
          "Bahrain",
          "Belgium",
          "Bermuda",
          "British Virgin Islands",
          "Cambodia",
          "Cayman Islands",
          "Chile",
          "Colombia",
          "Costa Rica",
          "Cyprus",
          "Czech Republic",
          "Egypt",
          "Estonia",
          "Finland",
          "Gibraltar",
          "Greece",
          "Guernsey",
          "Hungary",
          "Iceland",
          "Indonesia",
          "Isle Of Man",
          "Israel",
          "Jersey",
          "Jordan",
          "Kuwait",
          "Lithuania",
          "Luxembourg",
          "Vietnam"
         ],
         "y": [
          0,
          0,
          0,
          1,
          3,
          1,
          0,
          0,
          2,
          3,
          0,
          0,
          0,
          0,
          0,
          2,
          3,
          0,
          0,
          0,
          0,
          0,
          0,
          0,
          0,
          0,
          0,
          0,
          0,
          0,
          0,
          0,
          0,
          0,
          0,
          0,
          0,
          0,
          0,
          0,
          0,
          0,
          0,
          0,
          0,
          0,
          0,
          0,
          0,
          0,
          0,
          0,
          0,
          0,
          0,
          0,
          0,
          0,
          0,
          0,
          0,
          0,
          0,
          0,
          0,
          0,
          0,
          0,
          0,
          0,
          0,
          0,
          0,
          0,
          0,
          0,
          0,
          0
         ]
        },
        {
         "name": "Silver",
         "type": "bar",
         "x": [
          "France",
          "Switzerland",
          "Hong Kong",
          "Germany",
          "Japan",
          "Saudi Arabia",
          "Australia",
          "South Korea",
          "India",
          "China",
          "Sweden",
          "Spain",
          "Canada",
          "Netherlands",
          "Taiwan",
          "United Kingdom",
          "United States",
          "Ireland",
          "Brazil",
          "Italy",
          "Denmark",
          "Norway",
          "United Arab Emirates",
          "Panama",
          "Monaco",
          "Oman",
          "Pakistan",
          "New Zealand",
          "Nigeria",
          "Peru",
          "Argentina",
          "Philippines",
          "Poland",
          "Portugal",
          "Qatar",
          "Romania",
          "Malta",
          "Russia",
          "Singapore",
          "South Africa",
          "Sudan",
          "Thailand",
          "Turkey",
          "Uruguay",
          "Mexico",
          "Kazakhstan",
          "Malaysia",
          "Macau",
          "Austria",
          "Bahamas",
          "Bahrain",
          "Belgium",
          "Bermuda",
          "British Virgin Islands",
          "Cambodia",
          "Cayman Islands",
          "Chile",
          "Colombia",
          "Costa Rica",
          "Cyprus",
          "Czech Republic",
          "Egypt",
          "Estonia",
          "Finland",
          "Gibraltar",
          "Greece",
          "Guernsey",
          "Hungary",
          "Iceland",
          "Indonesia",
          "Isle Of Man",
          "Israel",
          "Jersey",
          "Jordan",
          "Kuwait",
          "Lithuania",
          "Luxembourg",
          "Vietnam"
         ],
         "y": [
          3,
          3,
          0,
          2,
          0,
          1,
          0,
          1,
          1,
          0,
          0,
          0,
          3,
          0,
          0,
          1,
          0,
          0,
          0,
          0,
          0,
          0,
          0,
          0,
          0,
          0,
          0,
          0,
          0,
          0,
          0,
          0,
          0,
          0,
          0,
          0,
          0,
          0,
          0,
          0,
          0,
          0,
          0,
          0,
          0,
          0,
          0,
          0,
          0,
          0,
          0,
          0,
          0,
          0,
          0,
          0,
          0,
          0,
          0,
          0,
          0,
          0,
          0,
          0,
          0,
          0,
          0,
          0,
          0,
          0,
          0,
          0,
          0,
          0,
          0,
          0,
          0,
          0
         ]
        },
        {
         "name": "Bronze",
         "type": "bar",
         "x": [
          "France",
          "Switzerland",
          "Hong Kong",
          "Germany",
          "Japan",
          "Saudi Arabia",
          "Australia",
          "South Korea",
          "India",
          "China",
          "Sweden",
          "Spain",
          "Canada",
          "Netherlands",
          "Taiwan",
          "United Kingdom",
          "United States",
          "Ireland",
          "Brazil",
          "Italy",
          "Denmark",
          "Norway",
          "United Arab Emirates",
          "Panama",
          "Monaco",
          "Oman",
          "Pakistan",
          "New Zealand",
          "Nigeria",
          "Peru",
          "Argentina",
          "Philippines",
          "Poland",
          "Portugal",
          "Qatar",
          "Romania",
          "Malta",
          "Russia",
          "Singapore",
          "South Africa",
          "Sudan",
          "Thailand",
          "Turkey",
          "Uruguay",
          "Mexico",
          "Kazakhstan",
          "Malaysia",
          "Macau",
          "Austria",
          "Bahamas",
          "Bahrain",
          "Belgium",
          "Bermuda",
          "British Virgin Islands",
          "Cambodia",
          "Cayman Islands",
          "Chile",
          "Colombia",
          "Costa Rica",
          "Cyprus",
          "Czech Republic",
          "Egypt",
          "Estonia",
          "Finland",
          "Gibraltar",
          "Greece",
          "Guernsey",
          "Hungary",
          "Iceland",
          "Indonesia",
          "Isle Of Man",
          "Israel",
          "Jersey",
          "Jordan",
          "Kuwait",
          "Lithuania",
          "Luxembourg",
          "Vietnam"
         ],
         "y": [
          0,
          0,
          3,
          0,
          0,
          1,
          3,
          2,
          0,
          0,
          3,
          3,
          0,
          3,
          3,
          0,
          0,
          2,
          2,
          2,
          1,
          1,
          1,
          0,
          0,
          0,
          0,
          0,
          0,
          0,
          0,
          0,
          0,
          0,
          0,
          0,
          0,
          0,
          0,
          0,
          0,
          0,
          0,
          0,
          0,
          0,
          0,
          0,
          0,
          0,
          0,
          0,
          0,
          0,
          0,
          0,
          0,
          0,
          0,
          0,
          0,
          0,
          0,
          0,
          0,
          0,
          0,
          0,
          0,
          0,
          0,
          0,
          0,
          0,
          0,
          0,
          0,
          0
         ]
        }
       ],
       "layout": {
        "barmode": "stack",
        "template": {
         "data": {
          "bar": [
           {
            "error_x": {
             "color": "#2a3f5f"
            },
            "error_y": {
             "color": "#2a3f5f"
            },
            "marker": {
             "line": {
              "color": "#E5ECF6",
              "width": 0.5
             },
             "pattern": {
              "fillmode": "overlay",
              "size": 10,
              "solidity": 0.2
             }
            },
            "type": "bar"
           }
          ],
          "barpolar": [
           {
            "marker": {
             "line": {
              "color": "#E5ECF6",
              "width": 0.5
             },
             "pattern": {
              "fillmode": "overlay",
              "size": 10,
              "solidity": 0.2
             }
            },
            "type": "barpolar"
           }
          ],
          "carpet": [
           {
            "aaxis": {
             "endlinecolor": "#2a3f5f",
             "gridcolor": "white",
             "linecolor": "white",
             "minorgridcolor": "white",
             "startlinecolor": "#2a3f5f"
            },
            "baxis": {
             "endlinecolor": "#2a3f5f",
             "gridcolor": "white",
             "linecolor": "white",
             "minorgridcolor": "white",
             "startlinecolor": "#2a3f5f"
            },
            "type": "carpet"
           }
          ],
          "choropleth": [
           {
            "colorbar": {
             "outlinewidth": 0,
             "ticks": ""
            },
            "type": "choropleth"
           }
          ],
          "contour": [
           {
            "colorbar": {
             "outlinewidth": 0,
             "ticks": ""
            },
            "colorscale": [
             [
              0,
              "#0d0887"
             ],
             [
              0.1111111111111111,
              "#46039f"
             ],
             [
              0.2222222222222222,
              "#7201a8"
             ],
             [
              0.3333333333333333,
              "#9c179e"
             ],
             [
              0.4444444444444444,
              "#bd3786"
             ],
             [
              0.5555555555555556,
              "#d8576b"
             ],
             [
              0.6666666666666666,
              "#ed7953"
             ],
             [
              0.7777777777777778,
              "#fb9f3a"
             ],
             [
              0.8888888888888888,
              "#fdca26"
             ],
             [
              1,
              "#f0f921"
             ]
            ],
            "type": "contour"
           }
          ],
          "contourcarpet": [
           {
            "colorbar": {
             "outlinewidth": 0,
             "ticks": ""
            },
            "type": "contourcarpet"
           }
          ],
          "heatmap": [
           {
            "colorbar": {
             "outlinewidth": 0,
             "ticks": ""
            },
            "colorscale": [
             [
              0,
              "#0d0887"
             ],
             [
              0.1111111111111111,
              "#46039f"
             ],
             [
              0.2222222222222222,
              "#7201a8"
             ],
             [
              0.3333333333333333,
              "#9c179e"
             ],
             [
              0.4444444444444444,
              "#bd3786"
             ],
             [
              0.5555555555555556,
              "#d8576b"
             ],
             [
              0.6666666666666666,
              "#ed7953"
             ],
             [
              0.7777777777777778,
              "#fb9f3a"
             ],
             [
              0.8888888888888888,
              "#fdca26"
             ],
             [
              1,
              "#f0f921"
             ]
            ],
            "type": "heatmap"
           }
          ],
          "heatmapgl": [
           {
            "colorbar": {
             "outlinewidth": 0,
             "ticks": ""
            },
            "colorscale": [
             [
              0,
              "#0d0887"
             ],
             [
              0.1111111111111111,
              "#46039f"
             ],
             [
              0.2222222222222222,
              "#7201a8"
             ],
             [
              0.3333333333333333,
              "#9c179e"
             ],
             [
              0.4444444444444444,
              "#bd3786"
             ],
             [
              0.5555555555555556,
              "#d8576b"
             ],
             [
              0.6666666666666666,
              "#ed7953"
             ],
             [
              0.7777777777777778,
              "#fb9f3a"
             ],
             [
              0.8888888888888888,
              "#fdca26"
             ],
             [
              1,
              "#f0f921"
             ]
            ],
            "type": "heatmapgl"
           }
          ],
          "histogram": [
           {
            "marker": {
             "pattern": {
              "fillmode": "overlay",
              "size": 10,
              "solidity": 0.2
             }
            },
            "type": "histogram"
           }
          ],
          "histogram2d": [
           {
            "colorbar": {
             "outlinewidth": 0,
             "ticks": ""
            },
            "colorscale": [
             [
              0,
              "#0d0887"
             ],
             [
              0.1111111111111111,
              "#46039f"
             ],
             [
              0.2222222222222222,
              "#7201a8"
             ],
             [
              0.3333333333333333,
              "#9c179e"
             ],
             [
              0.4444444444444444,
              "#bd3786"
             ],
             [
              0.5555555555555556,
              "#d8576b"
             ],
             [
              0.6666666666666666,
              "#ed7953"
             ],
             [
              0.7777777777777778,
              "#fb9f3a"
             ],
             [
              0.8888888888888888,
              "#fdca26"
             ],
             [
              1,
              "#f0f921"
             ]
            ],
            "type": "histogram2d"
           }
          ],
          "histogram2dcontour": [
           {
            "colorbar": {
             "outlinewidth": 0,
             "ticks": ""
            },
            "colorscale": [
             [
              0,
              "#0d0887"
             ],
             [
              0.1111111111111111,
              "#46039f"
             ],
             [
              0.2222222222222222,
              "#7201a8"
             ],
             [
              0.3333333333333333,
              "#9c179e"
             ],
             [
              0.4444444444444444,
              "#bd3786"
             ],
             [
              0.5555555555555556,
              "#d8576b"
             ],
             [
              0.6666666666666666,
              "#ed7953"
             ],
             [
              0.7777777777777778,
              "#fb9f3a"
             ],
             [
              0.8888888888888888,
              "#fdca26"
             ],
             [
              1,
              "#f0f921"
             ]
            ],
            "type": "histogram2dcontour"
           }
          ],
          "mesh3d": [
           {
            "colorbar": {
             "outlinewidth": 0,
             "ticks": ""
            },
            "type": "mesh3d"
           }
          ],
          "parcoords": [
           {
            "line": {
             "colorbar": {
              "outlinewidth": 0,
              "ticks": ""
             }
            },
            "type": "parcoords"
           }
          ],
          "pie": [
           {
            "automargin": true,
            "type": "pie"
           }
          ],
          "scatter": [
           {
            "fillpattern": {
             "fillmode": "overlay",
             "size": 10,
             "solidity": 0.2
            },
            "type": "scatter"
           }
          ],
          "scatter3d": [
           {
            "line": {
             "colorbar": {
              "outlinewidth": 0,
              "ticks": ""
             }
            },
            "marker": {
             "colorbar": {
              "outlinewidth": 0,
              "ticks": ""
             }
            },
            "type": "scatter3d"
           }
          ],
          "scattercarpet": [
           {
            "marker": {
             "colorbar": {
              "outlinewidth": 0,
              "ticks": ""
             }
            },
            "type": "scattercarpet"
           }
          ],
          "scattergeo": [
           {
            "marker": {
             "colorbar": {
              "outlinewidth": 0,
              "ticks": ""
             }
            },
            "type": "scattergeo"
           }
          ],
          "scattergl": [
           {
            "marker": {
             "colorbar": {
              "outlinewidth": 0,
              "ticks": ""
             }
            },
            "type": "scattergl"
           }
          ],
          "scattermapbox": [
           {
            "marker": {
             "colorbar": {
              "outlinewidth": 0,
              "ticks": ""
             }
            },
            "type": "scattermapbox"
           }
          ],
          "scatterpolar": [
           {
            "marker": {
             "colorbar": {
              "outlinewidth": 0,
              "ticks": ""
             }
            },
            "type": "scatterpolar"
           }
          ],
          "scatterpolargl": [
           {
            "marker": {
             "colorbar": {
              "outlinewidth": 0,
              "ticks": ""
             }
            },
            "type": "scatterpolargl"
           }
          ],
          "scatterternary": [
           {
            "marker": {
             "colorbar": {
              "outlinewidth": 0,
              "ticks": ""
             }
            },
            "type": "scatterternary"
           }
          ],
          "surface": [
           {
            "colorbar": {
             "outlinewidth": 0,
             "ticks": ""
            },
            "colorscale": [
             [
              0,
              "#0d0887"
             ],
             [
              0.1111111111111111,
              "#46039f"
             ],
             [
              0.2222222222222222,
              "#7201a8"
             ],
             [
              0.3333333333333333,
              "#9c179e"
             ],
             [
              0.4444444444444444,
              "#bd3786"
             ],
             [
              0.5555555555555556,
              "#d8576b"
             ],
             [
              0.6666666666666666,
              "#ed7953"
             ],
             [
              0.7777777777777778,
              "#fb9f3a"
             ],
             [
              0.8888888888888888,
              "#fdca26"
             ],
             [
              1,
              "#f0f921"
             ]
            ],
            "type": "surface"
           }
          ],
          "table": [
           {
            "cells": {
             "fill": {
              "color": "#EBF0F8"
             },
             "line": {
              "color": "white"
             }
            },
            "header": {
             "fill": {
              "color": "#C8D4E3"
             },
             "line": {
              "color": "white"
             }
            },
            "type": "table"
           }
          ]
         },
         "layout": {
          "annotationdefaults": {
           "arrowcolor": "#2a3f5f",
           "arrowhead": 0,
           "arrowwidth": 1
          },
          "autotypenumbers": "strict",
          "coloraxis": {
           "colorbar": {
            "outlinewidth": 0,
            "ticks": ""
           }
          },
          "colorscale": {
           "diverging": [
            [
             0,
             "#8e0152"
            ],
            [
             0.1,
             "#c51b7d"
            ],
            [
             0.2,
             "#de77ae"
            ],
            [
             0.3,
             "#f1b6da"
            ],
            [
             0.4,
             "#fde0ef"
            ],
            [
             0.5,
             "#f7f7f7"
            ],
            [
             0.6,
             "#e6f5d0"
            ],
            [
             0.7,
             "#b8e186"
            ],
            [
             0.8,
             "#7fbc41"
            ],
            [
             0.9,
             "#4d9221"
            ],
            [
             1,
             "#276419"
            ]
           ],
           "sequential": [
            [
             0,
             "#0d0887"
            ],
            [
             0.1111111111111111,
             "#46039f"
            ],
            [
             0.2222222222222222,
             "#7201a8"
            ],
            [
             0.3333333333333333,
             "#9c179e"
            ],
            [
             0.4444444444444444,
             "#bd3786"
            ],
            [
             0.5555555555555556,
             "#d8576b"
            ],
            [
             0.6666666666666666,
             "#ed7953"
            ],
            [
             0.7777777777777778,
             "#fb9f3a"
            ],
            [
             0.8888888888888888,
             "#fdca26"
            ],
            [
             1,
             "#f0f921"
            ]
           ],
           "sequentialminus": [
            [
             0,
             "#0d0887"
            ],
            [
             0.1111111111111111,
             "#46039f"
            ],
            [
             0.2222222222222222,
             "#7201a8"
            ],
            [
             0.3333333333333333,
             "#9c179e"
            ],
            [
             0.4444444444444444,
             "#bd3786"
            ],
            [
             0.5555555555555556,
             "#d8576b"
            ],
            [
             0.6666666666666666,
             "#ed7953"
            ],
            [
             0.7777777777777778,
             "#fb9f3a"
            ],
            [
             0.8888888888888888,
             "#fdca26"
            ],
            [
             1,
             "#f0f921"
            ]
           ]
          },
          "colorway": [
           "#636efa",
           "#EF553B",
           "#00cc96",
           "#ab63fa",
           "#FFA15A",
           "#19d3f3",
           "#FF6692",
           "#B6E880",
           "#FF97FF",
           "#FECB52"
          ],
          "font": {
           "color": "#2a3f5f"
          },
          "geo": {
           "bgcolor": "white",
           "lakecolor": "white",
           "landcolor": "#E5ECF6",
           "showlakes": true,
           "showland": true,
           "subunitcolor": "white"
          },
          "hoverlabel": {
           "align": "left"
          },
          "hovermode": "closest",
          "mapbox": {
           "style": "light"
          },
          "paper_bgcolor": "white",
          "plot_bgcolor": "#E5ECF6",
          "polar": {
           "angularaxis": {
            "gridcolor": "white",
            "linecolor": "white",
            "ticks": ""
           },
           "bgcolor": "#E5ECF6",
           "radialaxis": {
            "gridcolor": "white",
            "linecolor": "white",
            "ticks": ""
           }
          },
          "scene": {
           "xaxis": {
            "backgroundcolor": "#E5ECF6",
            "gridcolor": "white",
            "gridwidth": 2,
            "linecolor": "white",
            "showbackground": true,
            "ticks": "",
            "zerolinecolor": "white"
           },
           "yaxis": {
            "backgroundcolor": "#E5ECF6",
            "gridcolor": "white",
            "gridwidth": 2,
            "linecolor": "white",
            "showbackground": true,
            "ticks": "",
            "zerolinecolor": "white"
           },
           "zaxis": {
            "backgroundcolor": "#E5ECF6",
            "gridcolor": "white",
            "gridwidth": 2,
            "linecolor": "white",
            "showbackground": true,
            "ticks": "",
            "zerolinecolor": "white"
           }
          },
          "shapedefaults": {
           "line": {
            "color": "#2a3f5f"
           }
          },
          "ternary": {
           "aaxis": {
            "gridcolor": "white",
            "linecolor": "white",
            "ticks": ""
           },
           "baxis": {
            "gridcolor": "white",
            "linecolor": "white",
            "ticks": ""
           },
           "bgcolor": "#E5ECF6",
           "caxis": {
            "gridcolor": "white",
            "linecolor": "white",
            "ticks": ""
           }
          },
          "title": {
           "x": 0.05
          },
          "xaxis": {
           "automargin": true,
           "gridcolor": "white",
           "linecolor": "white",
           "ticks": "",
           "title": {
            "standoff": 15
           },
           "zerolinecolor": "white",
           "zerolinewidth": 2
          },
          "yaxis": {
           "automargin": true,
           "gridcolor": "white",
           "linecolor": "white",
           "ticks": "",
           "title": {
            "standoff": 15
           },
           "zerolinecolor": "white",
           "zerolinewidth": 2
          }
         }
        },
        "title": {
         "text": "🎖️ Gold, Silver, Bronze Breakdown by Country"
        },
        "xaxis": {
         "tickangle": -45,
         "title": {
          "text": "Country"
         }
        },
        "yaxis": {
         "title": {
          "text": "Medal Count"
         }
        }
       }
      }
     },
     "metadata": {},
     "output_type": "display_data"
    }
   ],
   "source": [
    "# Load and clean your summary data\n",
    "summary_df = pd.read_csv(\"country_metrics_medals.csv\")\n",
    "\n",
    "# Make sure required columns exist and are numeric\n",
    "for col in ['Gold', 'Silver', 'Bronze']:\n",
    "    summary_df[col] = pd.to_numeric(summary_df[col], errors=\"coerce\").fillna(0)\n",
    "\n",
    "# Create the stacked bar chart\n",
    "fig = go.Figure(data=[\n",
    "    go.Bar(name='Gold', x=summary_df['Country'], y=summary_df['Gold']),\n",
    "    go.Bar(name='Silver', x=summary_df['Country'], y=summary_df['Silver']),\n",
    "    go.Bar(name='Bronze', x=summary_df['Country'], y=summary_df['Bronze'])\n",
    "])\n",
    "\n",
    "fig.update_layout(\n",
    "    barmode='stack',\n",
    "    title=\"🎖️ Gold, Silver, Bronze Breakdown by Country\",\n",
    "    xaxis_title=\"Country\",\n",
    "    yaxis_title=\"Medal Count\",\n",
    "    xaxis_tickangle=-45\n",
    ")\n",
    "\n",
    "fig.show()\n"
   ]
  },
  {
   "cell_type": "code",
   "execution_count": 21,
   "metadata": {},
   "outputs": [
    {
     "data": {
      "application/vnd.plotly.v1+json": {
       "config": {
        "plotlyServerURL": "https://plot.ly"
       },
       "data": [
        {
         "coloraxis": "coloraxis",
         "geo": "geo",
         "hovertemplate": "<b>%{hovertext}</b><br><br>Country=%{location}<br>Total=%{z}<extra></extra>",
         "hovertext": [
          "France",
          "Switzerland",
          "Hong Kong",
          "Germany",
          "Japan",
          "Saudi Arabia",
          "Australia",
          "South Korea",
          "India",
          "China",
          "Sweden",
          "Spain",
          "Canada",
          "Netherlands",
          "Taiwan",
          "United Kingdom",
          "United States",
          "Ireland",
          "Brazil",
          "Italy",
          "Denmark",
          "Norway",
          "United Arab Emirates",
          "Panama",
          "Monaco",
          "Oman",
          "Pakistan",
          "New Zealand",
          "Nigeria",
          "Peru",
          "Argentina",
          "Philippines",
          "Poland",
          "Portugal",
          "Qatar",
          "Romania",
          "Malta",
          "Russia",
          "Singapore",
          "South Africa",
          "Sudan",
          "Thailand",
          "Turkey",
          "Uruguay",
          "Mexico",
          "Kazakhstan",
          "Malaysia",
          "Macau",
          "Austria",
          "Bahamas",
          "Bahrain",
          "Belgium",
          "Bermuda",
          "British Virgin Islands",
          "Cambodia",
          "Cayman Islands",
          "Chile",
          "Colombia",
          "Costa Rica",
          "Cyprus",
          "Czech Republic",
          "Egypt",
          "Estonia",
          "Finland",
          "Gibraltar",
          "Greece",
          "Guernsey",
          "Hungary",
          "Iceland",
          "Indonesia",
          "Isle Of Man",
          "Israel",
          "Jersey",
          "Jordan",
          "Kuwait",
          "Lithuania",
          "Luxembourg",
          "Vietnam"
         ],
         "locationmode": "country names",
         "locations": [
          "France",
          "Switzerland",
          "Hong Kong",
          "Germany",
          "Japan",
          "Saudi Arabia",
          "Australia",
          "South Korea",
          "India",
          "China",
          "Sweden",
          "Spain",
          "Canada",
          "Netherlands",
          "Taiwan",
          "United Kingdom",
          "United States",
          "Ireland",
          "Brazil",
          "Italy",
          "Denmark",
          "Norway",
          "United Arab Emirates",
          "Panama",
          "Monaco",
          "Oman",
          "Pakistan",
          "New Zealand",
          "Nigeria",
          "Peru",
          "Argentina",
          "Philippines",
          "Poland",
          "Portugal",
          "Qatar",
          "Romania",
          "Malta",
          "Russia",
          "Singapore",
          "South Africa",
          "Sudan",
          "Thailand",
          "Turkey",
          "Uruguay",
          "Mexico",
          "Kazakhstan",
          "Malaysia",
          "Macau",
          "Austria",
          "Bahamas",
          "Bahrain",
          "Belgium",
          "Bermuda",
          "British Virgin Islands",
          "Cambodia",
          "Cayman Islands",
          "Chile",
          "Colombia",
          "Costa Rica",
          "Cyprus",
          "Czech Republic",
          "Egypt",
          "Estonia",
          "Finland",
          "Gibraltar",
          "Greece",
          "Guernsey",
          "Hungary",
          "Iceland",
          "Indonesia",
          "Isle Of Man",
          "Israel",
          "Jersey",
          "Jordan",
          "Kuwait",
          "Lithuania",
          "Luxembourg",
          "Vietnam"
         ],
         "name": "",
         "type": "choropleth",
         "z": [
          3,
          3,
          3,
          3,
          3,
          3,
          3,
          3,
          3,
          3,
          3,
          3,
          3,
          3,
          3,
          3,
          3,
          2,
          2,
          2,
          1,
          1,
          1,
          0,
          0,
          0,
          0,
          0,
          0,
          0,
          0,
          0,
          0,
          0,
          0,
          0,
          0,
          0,
          0,
          0,
          0,
          0,
          0,
          0,
          0,
          0,
          0,
          0,
          0,
          0,
          0,
          0,
          0,
          0,
          0,
          0,
          0,
          0,
          0,
          0,
          0,
          0,
          0,
          0,
          0,
          0,
          0,
          0,
          0,
          0,
          0,
          0,
          0,
          0,
          0,
          0,
          0,
          0
         ]
        }
       ],
       "layout": {
        "coloraxis": {
         "colorbar": {
          "title": {
           "text": "Total"
          }
         },
         "colorscale": [
          [
           0,
           "rgb(255,255,204)"
          ],
          [
           0.125,
           "rgb(255,237,160)"
          ],
          [
           0.25,
           "rgb(254,217,118)"
          ],
          [
           0.375,
           "rgb(254,178,76)"
          ],
          [
           0.5,
           "rgb(253,141,60)"
          ],
          [
           0.625,
           "rgb(252,78,42)"
          ],
          [
           0.75,
           "rgb(227,26,28)"
          ],
          [
           0.875,
           "rgb(189,0,38)"
          ],
          [
           1,
           "rgb(128,0,38)"
          ]
         ]
        },
        "geo": {
         "center": {},
         "domain": {
          "x": [
           0,
           1
          ],
          "y": [
           0,
           1
          ]
         },
         "showcoastlines": true,
         "showframe": false
        },
        "legend": {
         "tracegroupgap": 0
        },
        "template": {
         "data": {
          "bar": [
           {
            "error_x": {
             "color": "#2a3f5f"
            },
            "error_y": {
             "color": "#2a3f5f"
            },
            "marker": {
             "line": {
              "color": "#E5ECF6",
              "width": 0.5
             },
             "pattern": {
              "fillmode": "overlay",
              "size": 10,
              "solidity": 0.2
             }
            },
            "type": "bar"
           }
          ],
          "barpolar": [
           {
            "marker": {
             "line": {
              "color": "#E5ECF6",
              "width": 0.5
             },
             "pattern": {
              "fillmode": "overlay",
              "size": 10,
              "solidity": 0.2
             }
            },
            "type": "barpolar"
           }
          ],
          "carpet": [
           {
            "aaxis": {
             "endlinecolor": "#2a3f5f",
             "gridcolor": "white",
             "linecolor": "white",
             "minorgridcolor": "white",
             "startlinecolor": "#2a3f5f"
            },
            "baxis": {
             "endlinecolor": "#2a3f5f",
             "gridcolor": "white",
             "linecolor": "white",
             "minorgridcolor": "white",
             "startlinecolor": "#2a3f5f"
            },
            "type": "carpet"
           }
          ],
          "choropleth": [
           {
            "colorbar": {
             "outlinewidth": 0,
             "ticks": ""
            },
            "type": "choropleth"
           }
          ],
          "contour": [
           {
            "colorbar": {
             "outlinewidth": 0,
             "ticks": ""
            },
            "colorscale": [
             [
              0,
              "#0d0887"
             ],
             [
              0.1111111111111111,
              "#46039f"
             ],
             [
              0.2222222222222222,
              "#7201a8"
             ],
             [
              0.3333333333333333,
              "#9c179e"
             ],
             [
              0.4444444444444444,
              "#bd3786"
             ],
             [
              0.5555555555555556,
              "#d8576b"
             ],
             [
              0.6666666666666666,
              "#ed7953"
             ],
             [
              0.7777777777777778,
              "#fb9f3a"
             ],
             [
              0.8888888888888888,
              "#fdca26"
             ],
             [
              1,
              "#f0f921"
             ]
            ],
            "type": "contour"
           }
          ],
          "contourcarpet": [
           {
            "colorbar": {
             "outlinewidth": 0,
             "ticks": ""
            },
            "type": "contourcarpet"
           }
          ],
          "heatmap": [
           {
            "colorbar": {
             "outlinewidth": 0,
             "ticks": ""
            },
            "colorscale": [
             [
              0,
              "#0d0887"
             ],
             [
              0.1111111111111111,
              "#46039f"
             ],
             [
              0.2222222222222222,
              "#7201a8"
             ],
             [
              0.3333333333333333,
              "#9c179e"
             ],
             [
              0.4444444444444444,
              "#bd3786"
             ],
             [
              0.5555555555555556,
              "#d8576b"
             ],
             [
              0.6666666666666666,
              "#ed7953"
             ],
             [
              0.7777777777777778,
              "#fb9f3a"
             ],
             [
              0.8888888888888888,
              "#fdca26"
             ],
             [
              1,
              "#f0f921"
             ]
            ],
            "type": "heatmap"
           }
          ],
          "heatmapgl": [
           {
            "colorbar": {
             "outlinewidth": 0,
             "ticks": ""
            },
            "colorscale": [
             [
              0,
              "#0d0887"
             ],
             [
              0.1111111111111111,
              "#46039f"
             ],
             [
              0.2222222222222222,
              "#7201a8"
             ],
             [
              0.3333333333333333,
              "#9c179e"
             ],
             [
              0.4444444444444444,
              "#bd3786"
             ],
             [
              0.5555555555555556,
              "#d8576b"
             ],
             [
              0.6666666666666666,
              "#ed7953"
             ],
             [
              0.7777777777777778,
              "#fb9f3a"
             ],
             [
              0.8888888888888888,
              "#fdca26"
             ],
             [
              1,
              "#f0f921"
             ]
            ],
            "type": "heatmapgl"
           }
          ],
          "histogram": [
           {
            "marker": {
             "pattern": {
              "fillmode": "overlay",
              "size": 10,
              "solidity": 0.2
             }
            },
            "type": "histogram"
           }
          ],
          "histogram2d": [
           {
            "colorbar": {
             "outlinewidth": 0,
             "ticks": ""
            },
            "colorscale": [
             [
              0,
              "#0d0887"
             ],
             [
              0.1111111111111111,
              "#46039f"
             ],
             [
              0.2222222222222222,
              "#7201a8"
             ],
             [
              0.3333333333333333,
              "#9c179e"
             ],
             [
              0.4444444444444444,
              "#bd3786"
             ],
             [
              0.5555555555555556,
              "#d8576b"
             ],
             [
              0.6666666666666666,
              "#ed7953"
             ],
             [
              0.7777777777777778,
              "#fb9f3a"
             ],
             [
              0.8888888888888888,
              "#fdca26"
             ],
             [
              1,
              "#f0f921"
             ]
            ],
            "type": "histogram2d"
           }
          ],
          "histogram2dcontour": [
           {
            "colorbar": {
             "outlinewidth": 0,
             "ticks": ""
            },
            "colorscale": [
             [
              0,
              "#0d0887"
             ],
             [
              0.1111111111111111,
              "#46039f"
             ],
             [
              0.2222222222222222,
              "#7201a8"
             ],
             [
              0.3333333333333333,
              "#9c179e"
             ],
             [
              0.4444444444444444,
              "#bd3786"
             ],
             [
              0.5555555555555556,
              "#d8576b"
             ],
             [
              0.6666666666666666,
              "#ed7953"
             ],
             [
              0.7777777777777778,
              "#fb9f3a"
             ],
             [
              0.8888888888888888,
              "#fdca26"
             ],
             [
              1,
              "#f0f921"
             ]
            ],
            "type": "histogram2dcontour"
           }
          ],
          "mesh3d": [
           {
            "colorbar": {
             "outlinewidth": 0,
             "ticks": ""
            },
            "type": "mesh3d"
           }
          ],
          "parcoords": [
           {
            "line": {
             "colorbar": {
              "outlinewidth": 0,
              "ticks": ""
             }
            },
            "type": "parcoords"
           }
          ],
          "pie": [
           {
            "automargin": true,
            "type": "pie"
           }
          ],
          "scatter": [
           {
            "fillpattern": {
             "fillmode": "overlay",
             "size": 10,
             "solidity": 0.2
            },
            "type": "scatter"
           }
          ],
          "scatter3d": [
           {
            "line": {
             "colorbar": {
              "outlinewidth": 0,
              "ticks": ""
             }
            },
            "marker": {
             "colorbar": {
              "outlinewidth": 0,
              "ticks": ""
             }
            },
            "type": "scatter3d"
           }
          ],
          "scattercarpet": [
           {
            "marker": {
             "colorbar": {
              "outlinewidth": 0,
              "ticks": ""
             }
            },
            "type": "scattercarpet"
           }
          ],
          "scattergeo": [
           {
            "marker": {
             "colorbar": {
              "outlinewidth": 0,
              "ticks": ""
             }
            },
            "type": "scattergeo"
           }
          ],
          "scattergl": [
           {
            "marker": {
             "colorbar": {
              "outlinewidth": 0,
              "ticks": ""
             }
            },
            "type": "scattergl"
           }
          ],
          "scattermapbox": [
           {
            "marker": {
             "colorbar": {
              "outlinewidth": 0,
              "ticks": ""
             }
            },
            "type": "scattermapbox"
           }
          ],
          "scatterpolar": [
           {
            "marker": {
             "colorbar": {
              "outlinewidth": 0,
              "ticks": ""
             }
            },
            "type": "scatterpolar"
           }
          ],
          "scatterpolargl": [
           {
            "marker": {
             "colorbar": {
              "outlinewidth": 0,
              "ticks": ""
             }
            },
            "type": "scatterpolargl"
           }
          ],
          "scatterternary": [
           {
            "marker": {
             "colorbar": {
              "outlinewidth": 0,
              "ticks": ""
             }
            },
            "type": "scatterternary"
           }
          ],
          "surface": [
           {
            "colorbar": {
             "outlinewidth": 0,
             "ticks": ""
            },
            "colorscale": [
             [
              0,
              "#0d0887"
             ],
             [
              0.1111111111111111,
              "#46039f"
             ],
             [
              0.2222222222222222,
              "#7201a8"
             ],
             [
              0.3333333333333333,
              "#9c179e"
             ],
             [
              0.4444444444444444,
              "#bd3786"
             ],
             [
              0.5555555555555556,
              "#d8576b"
             ],
             [
              0.6666666666666666,
              "#ed7953"
             ],
             [
              0.7777777777777778,
              "#fb9f3a"
             ],
             [
              0.8888888888888888,
              "#fdca26"
             ],
             [
              1,
              "#f0f921"
             ]
            ],
            "type": "surface"
           }
          ],
          "table": [
           {
            "cells": {
             "fill": {
              "color": "#EBF0F8"
             },
             "line": {
              "color": "white"
             }
            },
            "header": {
             "fill": {
              "color": "#C8D4E3"
             },
             "line": {
              "color": "white"
             }
            },
            "type": "table"
           }
          ]
         },
         "layout": {
          "annotationdefaults": {
           "arrowcolor": "#2a3f5f",
           "arrowhead": 0,
           "arrowwidth": 1
          },
          "autotypenumbers": "strict",
          "coloraxis": {
           "colorbar": {
            "outlinewidth": 0,
            "ticks": ""
           }
          },
          "colorscale": {
           "diverging": [
            [
             0,
             "#8e0152"
            ],
            [
             0.1,
             "#c51b7d"
            ],
            [
             0.2,
             "#de77ae"
            ],
            [
             0.3,
             "#f1b6da"
            ],
            [
             0.4,
             "#fde0ef"
            ],
            [
             0.5,
             "#f7f7f7"
            ],
            [
             0.6,
             "#e6f5d0"
            ],
            [
             0.7,
             "#b8e186"
            ],
            [
             0.8,
             "#7fbc41"
            ],
            [
             0.9,
             "#4d9221"
            ],
            [
             1,
             "#276419"
            ]
           ],
           "sequential": [
            [
             0,
             "#0d0887"
            ],
            [
             0.1111111111111111,
             "#46039f"
            ],
            [
             0.2222222222222222,
             "#7201a8"
            ],
            [
             0.3333333333333333,
             "#9c179e"
            ],
            [
             0.4444444444444444,
             "#bd3786"
            ],
            [
             0.5555555555555556,
             "#d8576b"
            ],
            [
             0.6666666666666666,
             "#ed7953"
            ],
            [
             0.7777777777777778,
             "#fb9f3a"
            ],
            [
             0.8888888888888888,
             "#fdca26"
            ],
            [
             1,
             "#f0f921"
            ]
           ],
           "sequentialminus": [
            [
             0,
             "#0d0887"
            ],
            [
             0.1111111111111111,
             "#46039f"
            ],
            [
             0.2222222222222222,
             "#7201a8"
            ],
            [
             0.3333333333333333,
             "#9c179e"
            ],
            [
             0.4444444444444444,
             "#bd3786"
            ],
            [
             0.5555555555555556,
             "#d8576b"
            ],
            [
             0.6666666666666666,
             "#ed7953"
            ],
            [
             0.7777777777777778,
             "#fb9f3a"
            ],
            [
             0.8888888888888888,
             "#fdca26"
            ],
            [
             1,
             "#f0f921"
            ]
           ]
          },
          "colorway": [
           "#636efa",
           "#EF553B",
           "#00cc96",
           "#ab63fa",
           "#FFA15A",
           "#19d3f3",
           "#FF6692",
           "#B6E880",
           "#FF97FF",
           "#FECB52"
          ],
          "font": {
           "color": "#2a3f5f"
          },
          "geo": {
           "bgcolor": "white",
           "lakecolor": "white",
           "landcolor": "#E5ECF6",
           "showlakes": true,
           "showland": true,
           "subunitcolor": "white"
          },
          "hoverlabel": {
           "align": "left"
          },
          "hovermode": "closest",
          "mapbox": {
           "style": "light"
          },
          "paper_bgcolor": "white",
          "plot_bgcolor": "#E5ECF6",
          "polar": {
           "angularaxis": {
            "gridcolor": "white",
            "linecolor": "white",
            "ticks": ""
           },
           "bgcolor": "#E5ECF6",
           "radialaxis": {
            "gridcolor": "white",
            "linecolor": "white",
            "ticks": ""
           }
          },
          "scene": {
           "xaxis": {
            "backgroundcolor": "#E5ECF6",
            "gridcolor": "white",
            "gridwidth": 2,
            "linecolor": "white",
            "showbackground": true,
            "ticks": "",
            "zerolinecolor": "white"
           },
           "yaxis": {
            "backgroundcolor": "#E5ECF6",
            "gridcolor": "white",
            "gridwidth": 2,
            "linecolor": "white",
            "showbackground": true,
            "ticks": "",
            "zerolinecolor": "white"
           },
           "zaxis": {
            "backgroundcolor": "#E5ECF6",
            "gridcolor": "white",
            "gridwidth": 2,
            "linecolor": "white",
            "showbackground": true,
            "ticks": "",
            "zerolinecolor": "white"
           }
          },
          "shapedefaults": {
           "line": {
            "color": "#2a3f5f"
           }
          },
          "ternary": {
           "aaxis": {
            "gridcolor": "white",
            "linecolor": "white",
            "ticks": ""
           },
           "baxis": {
            "gridcolor": "white",
            "linecolor": "white",
            "ticks": ""
           },
           "bgcolor": "#E5ECF6",
           "caxis": {
            "gridcolor": "white",
            "linecolor": "white",
            "ticks": ""
           }
          },
          "title": {
           "x": 0.05
          },
          "xaxis": {
           "automargin": true,
           "gridcolor": "white",
           "linecolor": "white",
           "ticks": "",
           "title": {
            "standoff": 15
           },
           "zerolinecolor": "white",
           "zerolinewidth": 2
          },
          "yaxis": {
           "automargin": true,
           "gridcolor": "white",
           "linecolor": "white",
           "ticks": "",
           "title": {
            "standoff": 15
           },
           "zerolinecolor": "white",
           "zerolinewidth": 2
          }
         }
        },
        "title": {
         "text": "🌍 Global Financial Olympics: Total Medals by Country"
        }
       }
      }
     },
     "metadata": {},
     "output_type": "display_data"
    }
   ],
   "source": [
    "\n",
    "\n",
    "# Basic choropleth map by country\n",
    "fig = px.choropleth(\n",
    "    medal_df,\n",
    "    locations=\"Country\",\n",
    "    locationmode=\"country names\",  # Match full country names\n",
    "    color=\"Total\",\n",
    "    hover_name=\"Country\",\n",
    "    color_continuous_scale=\"YlOrRd\",\n",
    "    title=\"🌍 Global Financial Olympics: Total Medals by Country\"\n",
    ")\n",
    "\n",
    "fig.update_layout(geo=dict(showframe=False, showcoastlines=True))\n",
    "fig.show()"
   ]
  }
 ],
 "metadata": {
  "kernelspec": {
   "display_name": "base",
   "language": "python",
   "name": "python3"
  },
  "language_info": {
   "codemirror_mode": {
    "name": "ipython",
    "version": 3
   },
   "file_extension": ".py",
   "mimetype": "text/x-python",
   "name": "python",
   "nbconvert_exporter": "python",
   "pygments_lexer": "ipython3",
   "version": "3.12.7"
  }
 },
 "nbformat": 4,
 "nbformat_minor": 2
}
